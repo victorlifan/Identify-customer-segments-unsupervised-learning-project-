{
 "cells": [
  {
   "cell_type": "markdown",
   "metadata": {},
   "source": [
    "# Project: Identify Customer Segments\n",
    "\n",
    "In this project, you will apply unsupervised learning techniques to identify segments of the population that form the core customer base for a mail-order sales company in Germany. These segments can then be used to direct marketing campaigns towards audiences that will have the highest expected rate of returns. The data that you will use has been provided by our partners at Bertelsmann Arvato Analytics, and represents a real-life data science task.\n",
    "\n",
    "This notebook will help you complete this task by providing a framework within which you will perform your analysis steps. In each step of the project, you will see some text describing the subtask that you will perform, followed by one or more code cells for you to complete your work. **Feel free to add additional code and markdown cells as you go along so that you can explore everything in precise chunks.** The code cells provided in the base template will outline only the major tasks, and will usually not be enough to cover all of the minor tasks that comprise it.\n",
    "\n",
    "It should be noted that while there will be precise guidelines on how you should handle certain tasks in the project, there will also be places where an exact specification is not provided. **There will be times in the project where you will need to make and justify your own decisions on how to treat the data.** These are places where there may not be only one way to handle the data. In real-life tasks, there may be many valid ways to approach an analysis task. One of the most important things you can do is clearly document your approach so that other scientists can understand the decisions you've made.\n",
    "\n",
    "At the end of most sections, there will be a Markdown cell labeled **Discussion**. In these cells, you will report your findings for the completed section, as well as document the decisions that you made in your approach to each subtask. **Your project will be evaluated not just on the code used to complete the tasks outlined, but also your communication about your observations and conclusions at each stage.**"
   ]
  },
  {
   "cell_type": "code",
   "execution_count": 1,
   "metadata": {},
   "outputs": [
    {
     "data": {
      "text/plain": [
       "'\\nImport note: The classroom currently uses sklearn version 0.19.\\nIf you need to use an \\n, it is available in sklearn.preprocessing.Imputer,\\ninstead of sklearn.impute as in newer versions of sklearn.\\n'"
      ]
     },
     "execution_count": 1,
     "metadata": {},
     "output_type": "execute_result"
    }
   ],
   "source": [
    "# import libraries here; add more as necessary\n",
    "import numpy as np\n",
    "import pandas as pd\n",
    "import matplotlib.pyplot as plt\n",
    "import seaborn as sns\n",
    "from zipfile import ZipFile\n",
    "from sklearn.impute import SimpleImputer\n",
    "from sklearn.preprocessing import StandardScaler\n",
    "from sklearn.decomposition import PCA\n",
    "from time import time\n",
    "from sklearn.cluster import KMeans\n",
    "# magic word for producing visualizations in notebook\n",
    "%matplotlib inline\n",
    "\n",
    "'''\n",
    "Import note: The classroom currently uses sklearn version 0.19.\n",
    "If you need to use an \n",
    ", it is available in sklearn.preprocessing.Imputer,\n",
    "instead of sklearn.impute as in newer versions of sklearn.\n",
    "'''"
   ]
  },
  {
   "cell_type": "markdown",
   "metadata": {},
   "source": [
    "### Step 0: Load the Data\n",
    "\n",
    "There are four files associated with this project (not including this one):\n",
    "\n",
    "- `Udacity_AZDIAS_Subset.csv`: Demographics data for the general population of Germany; 891211 persons (rows) x 85 features (columns).\n",
    "- `Udacity_CUSTOMERS_Subset.csv`: Demographics data for customers of a mail-order company; 191652 persons (rows) x 85 features (columns).\n",
    "- `Data_Dictionary.md`: Detailed information file about the features in the provided datasets.\n",
    "- `AZDIAS_Feature_Summary.csv`: Summary of feature attributes for demographics data; 85 features (rows) x 4 columns\n",
    "\n",
    "Each row of the demographics files represents a single person, but also includes information outside of individuals, including information about their household, building, and neighborhood. You will use this information to cluster the general population into groups with similar demographic properties. Then, you will see how the people in the customers dataset fit into those created clusters. The hope here is that certain clusters are over-represented in the customers data, as compared to the general population; those over-represented clusters will be assumed to be part of the core userbase. This information can then be used for further applications, such as targeting for a marketing campaign.\n",
    "\n",
    "To start off with, load in the demographics data for the general population into a pandas DataFrame, and do the same for the feature attributes summary. Note for all of the `.csv` data files in this project: they're semicolon (`;`) delimited, so you'll need an additional argument in your [`read_csv()`](https://pandas.pydata.org/pandas-docs/stable/generated/pandas.read_csv.html) call to read in the data properly. Also, considering the size of the main dataset, it may take some time for it to load completely.\n",
    "\n",
    "Once the dataset is loaded, it's recommended that you take a little bit of time just browsing the general structure of the dataset and feature summary file. You'll be getting deep into the innards of the cleaning in the first major step of the project, so gaining some general familiarity can help you get your bearings."
   ]
  },
  {
   "cell_type": "code",
   "execution_count": 2,
   "metadata": {},
   "outputs": [
    {
     "name": "stdout",
     "output_type": "stream",
     "text": [
      "File Name                                             Modified             Size\n",
      "AZDIAS_Feature_Summary.csv                     2020-05-05 16:23:54         3156\n",
      "Udacity_AZDIAS_Subset.csv                      2020-05-05 16:24:40    157145280\n",
      "Udacity_CUSTOMERS_Subset.csv                   2020-05-05 16:24:16     32338227\n"
     ]
    }
   ],
   "source": [
    "# upzip files\n",
    "with ZipFile('support materials/CSV data files.zip','r') as zips:\n",
    "    zips.printdir()\n",
    "    zips.extractall()"
   ]
  },
  {
   "cell_type": "code",
   "execution_count": 3,
   "metadata": {},
   "outputs": [],
   "source": [
    "# Load in the general demographics data.\n",
    "azdias = pd.read_csv('Udacity_AZDIAS_Subset.csv', sep=';')\n",
    "\n",
    "# Load in the feature summary file.\n",
    "feat_info = pd.read_csv('AZDIAS_Feature_Summary.csv', sep=';')"
   ]
  },
  {
   "cell_type": "code",
   "execution_count": 4,
   "metadata": {},
   "outputs": [
    {
     "data": {
      "text/html": [
       "<div>\n",
       "<style scoped>\n",
       "    .dataframe tbody tr th:only-of-type {\n",
       "        vertical-align: middle;\n",
       "    }\n",
       "\n",
       "    .dataframe tbody tr th {\n",
       "        vertical-align: top;\n",
       "    }\n",
       "\n",
       "    .dataframe thead th {\n",
       "        text-align: right;\n",
       "    }\n",
       "</style>\n",
       "<table border=\"1\" class=\"dataframe\">\n",
       "  <thead>\n",
       "    <tr style=\"text-align: right;\">\n",
       "      <th></th>\n",
       "      <th>AGER_TYP</th>\n",
       "      <th>ALTERSKATEGORIE_GROB</th>\n",
       "      <th>ANREDE_KZ</th>\n",
       "      <th>CJT_GESAMTTYP</th>\n",
       "      <th>FINANZ_MINIMALIST</th>\n",
       "      <th>FINANZ_SPARER</th>\n",
       "      <th>FINANZ_VORSORGER</th>\n",
       "      <th>FINANZ_ANLEGER</th>\n",
       "      <th>FINANZ_UNAUFFAELLIGER</th>\n",
       "      <th>FINANZ_HAUSBAUER</th>\n",
       "      <th>...</th>\n",
       "      <th>PLZ8_ANTG1</th>\n",
       "      <th>PLZ8_ANTG2</th>\n",
       "      <th>PLZ8_ANTG3</th>\n",
       "      <th>PLZ8_ANTG4</th>\n",
       "      <th>PLZ8_BAUMAX</th>\n",
       "      <th>PLZ8_HHZ</th>\n",
       "      <th>PLZ8_GBZ</th>\n",
       "      <th>ARBEIT</th>\n",
       "      <th>ORTSGR_KLS9</th>\n",
       "      <th>RELAT_AB</th>\n",
       "    </tr>\n",
       "  </thead>\n",
       "  <tbody>\n",
       "    <tr>\n",
       "      <th>0</th>\n",
       "      <td>-1</td>\n",
       "      <td>2</td>\n",
       "      <td>1</td>\n",
       "      <td>2.0</td>\n",
       "      <td>3</td>\n",
       "      <td>4</td>\n",
       "      <td>3</td>\n",
       "      <td>5</td>\n",
       "      <td>5</td>\n",
       "      <td>3</td>\n",
       "      <td>...</td>\n",
       "      <td>NaN</td>\n",
       "      <td>NaN</td>\n",
       "      <td>NaN</td>\n",
       "      <td>NaN</td>\n",
       "      <td>NaN</td>\n",
       "      <td>NaN</td>\n",
       "      <td>NaN</td>\n",
       "      <td>NaN</td>\n",
       "      <td>NaN</td>\n",
       "      <td>NaN</td>\n",
       "    </tr>\n",
       "    <tr>\n",
       "      <th>1</th>\n",
       "      <td>-1</td>\n",
       "      <td>1</td>\n",
       "      <td>2</td>\n",
       "      <td>5.0</td>\n",
       "      <td>1</td>\n",
       "      <td>5</td>\n",
       "      <td>2</td>\n",
       "      <td>5</td>\n",
       "      <td>4</td>\n",
       "      <td>5</td>\n",
       "      <td>...</td>\n",
       "      <td>2.0</td>\n",
       "      <td>3.0</td>\n",
       "      <td>2.0</td>\n",
       "      <td>1.0</td>\n",
       "      <td>1.0</td>\n",
       "      <td>5.0</td>\n",
       "      <td>4.0</td>\n",
       "      <td>3.0</td>\n",
       "      <td>5.0</td>\n",
       "      <td>4.0</td>\n",
       "    </tr>\n",
       "    <tr>\n",
       "      <th>2</th>\n",
       "      <td>-1</td>\n",
       "      <td>3</td>\n",
       "      <td>2</td>\n",
       "      <td>3.0</td>\n",
       "      <td>1</td>\n",
       "      <td>4</td>\n",
       "      <td>1</td>\n",
       "      <td>2</td>\n",
       "      <td>3</td>\n",
       "      <td>5</td>\n",
       "      <td>...</td>\n",
       "      <td>3.0</td>\n",
       "      <td>3.0</td>\n",
       "      <td>1.0</td>\n",
       "      <td>0.0</td>\n",
       "      <td>1.0</td>\n",
       "      <td>4.0</td>\n",
       "      <td>4.0</td>\n",
       "      <td>3.0</td>\n",
       "      <td>5.0</td>\n",
       "      <td>2.0</td>\n",
       "    </tr>\n",
       "    <tr>\n",
       "      <th>3</th>\n",
       "      <td>2</td>\n",
       "      <td>4</td>\n",
       "      <td>2</td>\n",
       "      <td>2.0</td>\n",
       "      <td>4</td>\n",
       "      <td>2</td>\n",
       "      <td>5</td>\n",
       "      <td>2</td>\n",
       "      <td>1</td>\n",
       "      <td>2</td>\n",
       "      <td>...</td>\n",
       "      <td>2.0</td>\n",
       "      <td>2.0</td>\n",
       "      <td>2.0</td>\n",
       "      <td>0.0</td>\n",
       "      <td>1.0</td>\n",
       "      <td>3.0</td>\n",
       "      <td>4.0</td>\n",
       "      <td>2.0</td>\n",
       "      <td>3.0</td>\n",
       "      <td>3.0</td>\n",
       "    </tr>\n",
       "    <tr>\n",
       "      <th>4</th>\n",
       "      <td>-1</td>\n",
       "      <td>3</td>\n",
       "      <td>1</td>\n",
       "      <td>5.0</td>\n",
       "      <td>4</td>\n",
       "      <td>3</td>\n",
       "      <td>4</td>\n",
       "      <td>1</td>\n",
       "      <td>3</td>\n",
       "      <td>2</td>\n",
       "      <td>...</td>\n",
       "      <td>2.0</td>\n",
       "      <td>4.0</td>\n",
       "      <td>2.0</td>\n",
       "      <td>1.0</td>\n",
       "      <td>2.0</td>\n",
       "      <td>3.0</td>\n",
       "      <td>3.0</td>\n",
       "      <td>4.0</td>\n",
       "      <td>6.0</td>\n",
       "      <td>5.0</td>\n",
       "    </tr>\n",
       "  </tbody>\n",
       "</table>\n",
       "<p>5 rows × 85 columns</p>\n",
       "</div>"
      ],
      "text/plain": [
       "   AGER_TYP  ALTERSKATEGORIE_GROB  ANREDE_KZ  CJT_GESAMTTYP  \\\n",
       "0        -1                     2          1            2.0   \n",
       "1        -1                     1          2            5.0   \n",
       "2        -1                     3          2            3.0   \n",
       "3         2                     4          2            2.0   \n",
       "4        -1                     3          1            5.0   \n",
       "\n",
       "   FINANZ_MINIMALIST  FINANZ_SPARER  FINANZ_VORSORGER  FINANZ_ANLEGER  \\\n",
       "0                  3              4                 3               5   \n",
       "1                  1              5                 2               5   \n",
       "2                  1              4                 1               2   \n",
       "3                  4              2                 5               2   \n",
       "4                  4              3                 4               1   \n",
       "\n",
       "   FINANZ_UNAUFFAELLIGER  FINANZ_HAUSBAUER  ...  PLZ8_ANTG1  PLZ8_ANTG2  \\\n",
       "0                      5                 3  ...         NaN         NaN   \n",
       "1                      4                 5  ...         2.0         3.0   \n",
       "2                      3                 5  ...         3.0         3.0   \n",
       "3                      1                 2  ...         2.0         2.0   \n",
       "4                      3                 2  ...         2.0         4.0   \n",
       "\n",
       "   PLZ8_ANTG3  PLZ8_ANTG4  PLZ8_BAUMAX  PLZ8_HHZ  PLZ8_GBZ  ARBEIT  \\\n",
       "0         NaN         NaN          NaN       NaN       NaN     NaN   \n",
       "1         2.0         1.0          1.0       5.0       4.0     3.0   \n",
       "2         1.0         0.0          1.0       4.0       4.0     3.0   \n",
       "3         2.0         0.0          1.0       3.0       4.0     2.0   \n",
       "4         2.0         1.0          2.0       3.0       3.0     4.0   \n",
       "\n",
       "   ORTSGR_KLS9  RELAT_AB  \n",
       "0          NaN       NaN  \n",
       "1          5.0       4.0  \n",
       "2          5.0       2.0  \n",
       "3          3.0       3.0  \n",
       "4          6.0       5.0  \n",
       "\n",
       "[5 rows x 85 columns]"
      ]
     },
     "execution_count": 4,
     "metadata": {},
     "output_type": "execute_result"
    }
   ],
   "source": [
    "# Check the structure of the data after it's loaded (e.g. print the number of\n",
    "# rows and columns, print the first few rows).\n",
    "azdias.head()"
   ]
  },
  {
   "cell_type": "code",
   "execution_count": 5,
   "metadata": {
    "scrolled": true
   },
   "outputs": [
    {
     "data": {
      "text/html": [
       "<div>\n",
       "<style scoped>\n",
       "    .dataframe tbody tr th:only-of-type {\n",
       "        vertical-align: middle;\n",
       "    }\n",
       "\n",
       "    .dataframe tbody tr th {\n",
       "        vertical-align: top;\n",
       "    }\n",
       "\n",
       "    .dataframe thead th {\n",
       "        text-align: right;\n",
       "    }\n",
       "</style>\n",
       "<table border=\"1\" class=\"dataframe\">\n",
       "  <thead>\n",
       "    <tr style=\"text-align: right;\">\n",
       "      <th></th>\n",
       "      <th>attribute</th>\n",
       "      <th>information_level</th>\n",
       "      <th>type</th>\n",
       "      <th>missing_or_unknown</th>\n",
       "    </tr>\n",
       "  </thead>\n",
       "  <tbody>\n",
       "    <tr>\n",
       "      <th>0</th>\n",
       "      <td>AGER_TYP</td>\n",
       "      <td>person</td>\n",
       "      <td>categorical</td>\n",
       "      <td>[-1,0]</td>\n",
       "    </tr>\n",
       "    <tr>\n",
       "      <th>1</th>\n",
       "      <td>ALTERSKATEGORIE_GROB</td>\n",
       "      <td>person</td>\n",
       "      <td>ordinal</td>\n",
       "      <td>[-1,0,9]</td>\n",
       "    </tr>\n",
       "    <tr>\n",
       "      <th>2</th>\n",
       "      <td>ANREDE_KZ</td>\n",
       "      <td>person</td>\n",
       "      <td>categorical</td>\n",
       "      <td>[-1,0]</td>\n",
       "    </tr>\n",
       "    <tr>\n",
       "      <th>3</th>\n",
       "      <td>CJT_GESAMTTYP</td>\n",
       "      <td>person</td>\n",
       "      <td>categorical</td>\n",
       "      <td>[0]</td>\n",
       "    </tr>\n",
       "    <tr>\n",
       "      <th>4</th>\n",
       "      <td>FINANZ_MINIMALIST</td>\n",
       "      <td>person</td>\n",
       "      <td>ordinal</td>\n",
       "      <td>[-1]</td>\n",
       "    </tr>\n",
       "  </tbody>\n",
       "</table>\n",
       "</div>"
      ],
      "text/plain": [
       "              attribute information_level         type missing_or_unknown\n",
       "0              AGER_TYP            person  categorical             [-1,0]\n",
       "1  ALTERSKATEGORIE_GROB            person      ordinal           [-1,0,9]\n",
       "2             ANREDE_KZ            person  categorical             [-1,0]\n",
       "3         CJT_GESAMTTYP            person  categorical                [0]\n",
       "4     FINANZ_MINIMALIST            person      ordinal               [-1]"
      ]
     },
     "execution_count": 5,
     "metadata": {},
     "output_type": "execute_result"
    }
   ],
   "source": [
    "feat_info.head()"
   ]
  },
  {
   "cell_type": "code",
   "execution_count": 106,
   "metadata": {
    "scrolled": true
   },
   "outputs": [],
   "source": [
    "#azdias.info()"
   ]
  },
  {
   "cell_type": "code",
   "execution_count": 7,
   "metadata": {},
   "outputs": [
    {
     "data": {
      "text/plain": [
       "0         0\n",
       "6         0\n",
       "11        0\n",
       "12        0\n",
       "14        0\n",
       "         ..\n",
       "891209    0\n",
       "891210    0\n",
       "891212    0\n",
       "891215    0\n",
       "891220    0\n",
       "Name: GEBURTSJAHR, Length: 392318, dtype: int64"
      ]
     },
     "execution_count": 7,
     "metadata": {},
     "output_type": "execute_result"
    }
   ],
   "source": [
    "azdias.query('GEBURTSJAHR == 0')['GEBURTSJAHR']"
   ]
  },
  {
   "cell_type": "code",
   "execution_count": 8,
   "metadata": {
    "scrolled": true
   },
   "outputs": [
    {
     "name": "stdout",
     "output_type": "stream",
     "text": [
      "<class 'pandas.core.frame.DataFrame'>\n",
      "RangeIndex: 85 entries, 0 to 84\n",
      "Data columns (total 4 columns):\n",
      " #   Column              Non-Null Count  Dtype \n",
      "---  ------              --------------  ----- \n",
      " 0   attribute           85 non-null     object\n",
      " 1   information_level   85 non-null     object\n",
      " 2   type                85 non-null     object\n",
      " 3   missing_or_unknown  85 non-null     object\n",
      "dtypes: object(4)\n",
      "memory usage: 2.8+ KB\n"
     ]
    }
   ],
   "source": [
    "feat_info.info()"
   ]
  },
  {
   "cell_type": "markdown",
   "metadata": {},
   "source": [
    "> **Tip**: Add additional cells to keep everything in reasonably-sized chunks! Keyboard shortcut `esc --> a` (press escape to enter command mode, then press the 'A' key) adds a new cell before the active cell, and `esc --> b` adds a new cell after the active cell. If you need to convert an active cell to a markdown cell, use `esc --> m` and to convert to a code cell, use `esc --> y`. \n",
    "\n",
    "## Step 1: Preprocessing\n",
    "\n",
    "### Step 1.1: Assess Missing Data\n",
    "\n",
    "The feature summary file contains a summary of properties for each demographics data column. You will use this file to help you make cleaning decisions during this stage of the project. First of all, you should assess the demographics data in terms of missing data. Pay attention to the following points as you perform your analysis, and take notes on what you observe. Make sure that you fill in the **Discussion** cell with your findings and decisions at the end of each step that has one!\n",
    "\n",
    "#### Step 1.1.1: Convert Missing Value Codes to NaNs\n",
    "The fourth column of the feature attributes summary (loaded in above as `feat_info`) documents the codes from the data dictionary that indicate missing or unknown data. While the file encodes this as a list (e.g. `[-1,0]`), this will get read in as a string object. You'll need to do a little bit of parsing to make use of it to identify and clean the data. Convert data that matches a 'missing' or 'unknown' value code into a numpy NaN value. You might want to see how much data takes on a 'missing' or 'unknown' code, and how much data is naturally missing, as a point of interest.\n",
    "\n",
    "**As one more reminder, you are encouraged to add additional cells to break up your analysis into manageable chunks.**"
   ]
  },
  {
   "cell_type": "code",
   "execution_count": 9,
   "metadata": {
    "scrolled": true
   },
   "outputs": [
    {
     "name": "stdout",
     "output_type": "stream",
     "text": [
      "data is naturally missing: 4896838\n"
     ]
    }
   ],
   "source": [
    "# data is naturally missing\n",
    "naturally_missing=azdias.isna().sum().sum()\n",
    "print('data is naturally missing:',naturally_missing)"
   ]
  },
  {
   "cell_type": "markdown",
   "metadata": {},
   "source": [
    "- Identify missing or unknown data values and convert them to NaNs."
   ]
  },
  {
   "cell_type": "code",
   "execution_count": 10,
   "metadata": {},
   "outputs": [],
   "source": [
    "# format missing_or_unknown\n",
    "misslist= feat_info['missing_or_unknown'].apply(lambda x: x.replace('[','').replace(']','').split(','))"
   ]
  },
  {
   "cell_type": "code",
   "execution_count": 11,
   "metadata": {},
   "outputs": [],
   "source": [
    "# map column name to missing_or_unknown as dict\n",
    "attribute_nan= {}\n",
    "for key ,item in zip(feat_info['attribute'],misslist):\n",
    "    attribute_nan[key]=item"
   ]
  },
  {
   "cell_type": "code",
   "execution_count": 12,
   "metadata": {
    "scrolled": true
   },
   "outputs": [],
   "source": [
    "# replace values with np.nan\n",
    "for column in list(azdias):\n",
    "    for value in attribute_nan[column]:\n",
    "        if value == '':\n",
    "            pass\n",
    "        elif azdias[column].dtype == 'int64':\n",
    "            azdias[column].replace(int(value),np.nan, inplace=True)\n",
    "        elif azdias[column].dtype == 'float64':\n",
    "            azdias[column].replace(float(value),np.nan,inplace=True)\n",
    "        elif azdias[column].dtype == 'object':\n",
    "            azdias[column].replace(str(value),np.nan,inplace=True)"
   ]
  },
  {
   "cell_type": "code",
   "execution_count": 13,
   "metadata": {
    "scrolled": false
   },
   "outputs": [
    {
     "data": {
      "text/html": [
       "<div>\n",
       "<style scoped>\n",
       "    .dataframe tbody tr th:only-of-type {\n",
       "        vertical-align: middle;\n",
       "    }\n",
       "\n",
       "    .dataframe tbody tr th {\n",
       "        vertical-align: top;\n",
       "    }\n",
       "\n",
       "    .dataframe thead th {\n",
       "        text-align: right;\n",
       "    }\n",
       "</style>\n",
       "<table border=\"1\" class=\"dataframe\">\n",
       "  <thead>\n",
       "    <tr style=\"text-align: right;\">\n",
       "      <th></th>\n",
       "      <th>AGER_TYP</th>\n",
       "      <th>ALTERSKATEGORIE_GROB</th>\n",
       "      <th>ANREDE_KZ</th>\n",
       "      <th>CJT_GESAMTTYP</th>\n",
       "      <th>FINANZ_MINIMALIST</th>\n",
       "      <th>FINANZ_SPARER</th>\n",
       "      <th>FINANZ_VORSORGER</th>\n",
       "      <th>FINANZ_ANLEGER</th>\n",
       "      <th>FINANZ_UNAUFFAELLIGER</th>\n",
       "      <th>FINANZ_HAUSBAUER</th>\n",
       "      <th>...</th>\n",
       "      <th>PLZ8_ANTG1</th>\n",
       "      <th>PLZ8_ANTG2</th>\n",
       "      <th>PLZ8_ANTG3</th>\n",
       "      <th>PLZ8_ANTG4</th>\n",
       "      <th>PLZ8_BAUMAX</th>\n",
       "      <th>PLZ8_HHZ</th>\n",
       "      <th>PLZ8_GBZ</th>\n",
       "      <th>ARBEIT</th>\n",
       "      <th>ORTSGR_KLS9</th>\n",
       "      <th>RELAT_AB</th>\n",
       "    </tr>\n",
       "  </thead>\n",
       "  <tbody>\n",
       "    <tr>\n",
       "      <th>809358</th>\n",
       "      <td>NaN</td>\n",
       "      <td>3.0</td>\n",
       "      <td>1</td>\n",
       "      <td>3.0</td>\n",
       "      <td>3</td>\n",
       "      <td>4</td>\n",
       "      <td>3</td>\n",
       "      <td>5</td>\n",
       "      <td>5</td>\n",
       "      <td>3</td>\n",
       "      <td>...</td>\n",
       "      <td>NaN</td>\n",
       "      <td>NaN</td>\n",
       "      <td>NaN</td>\n",
       "      <td>NaN</td>\n",
       "      <td>NaN</td>\n",
       "      <td>NaN</td>\n",
       "      <td>NaN</td>\n",
       "      <td>NaN</td>\n",
       "      <td>NaN</td>\n",
       "      <td>NaN</td>\n",
       "    </tr>\n",
       "    <tr>\n",
       "      <th>103581</th>\n",
       "      <td>NaN</td>\n",
       "      <td>3.0</td>\n",
       "      <td>2</td>\n",
       "      <td>3.0</td>\n",
       "      <td>3</td>\n",
       "      <td>4</td>\n",
       "      <td>3</td>\n",
       "      <td>5</td>\n",
       "      <td>5</td>\n",
       "      <td>3</td>\n",
       "      <td>...</td>\n",
       "      <td>NaN</td>\n",
       "      <td>NaN</td>\n",
       "      <td>NaN</td>\n",
       "      <td>NaN</td>\n",
       "      <td>NaN</td>\n",
       "      <td>NaN</td>\n",
       "      <td>NaN</td>\n",
       "      <td>NaN</td>\n",
       "      <td>NaN</td>\n",
       "      <td>NaN</td>\n",
       "    </tr>\n",
       "    <tr>\n",
       "      <th>395655</th>\n",
       "      <td>NaN</td>\n",
       "      <td>2.0</td>\n",
       "      <td>2</td>\n",
       "      <td>4.0</td>\n",
       "      <td>1</td>\n",
       "      <td>3</td>\n",
       "      <td>1</td>\n",
       "      <td>5</td>\n",
       "      <td>4</td>\n",
       "      <td>4</td>\n",
       "      <td>...</td>\n",
       "      <td>2.0</td>\n",
       "      <td>3.0</td>\n",
       "      <td>2.0</td>\n",
       "      <td>0.0</td>\n",
       "      <td>1.0</td>\n",
       "      <td>3.0</td>\n",
       "      <td>3.0</td>\n",
       "      <td>4.0</td>\n",
       "      <td>3.0</td>\n",
       "      <td>3.0</td>\n",
       "    </tr>\n",
       "    <tr>\n",
       "      <th>25520</th>\n",
       "      <td>NaN</td>\n",
       "      <td>3.0</td>\n",
       "      <td>2</td>\n",
       "      <td>3.0</td>\n",
       "      <td>1</td>\n",
       "      <td>4</td>\n",
       "      <td>2</td>\n",
       "      <td>4</td>\n",
       "      <td>4</td>\n",
       "      <td>4</td>\n",
       "      <td>...</td>\n",
       "      <td>1.0</td>\n",
       "      <td>4.0</td>\n",
       "      <td>3.0</td>\n",
       "      <td>1.0</td>\n",
       "      <td>3.0</td>\n",
       "      <td>3.0</td>\n",
       "      <td>2.0</td>\n",
       "      <td>2.0</td>\n",
       "      <td>6.0</td>\n",
       "      <td>3.0</td>\n",
       "    </tr>\n",
       "    <tr>\n",
       "      <th>441034</th>\n",
       "      <td>3.0</td>\n",
       "      <td>1.0</td>\n",
       "      <td>2</td>\n",
       "      <td>2.0</td>\n",
       "      <td>2</td>\n",
       "      <td>1</td>\n",
       "      <td>5</td>\n",
       "      <td>1</td>\n",
       "      <td>2</td>\n",
       "      <td>5</td>\n",
       "      <td>...</td>\n",
       "      <td>2.0</td>\n",
       "      <td>3.0</td>\n",
       "      <td>2.0</td>\n",
       "      <td>1.0</td>\n",
       "      <td>1.0</td>\n",
       "      <td>3.0</td>\n",
       "      <td>3.0</td>\n",
       "      <td>2.0</td>\n",
       "      <td>5.0</td>\n",
       "      <td>2.0</td>\n",
       "    </tr>\n",
       "  </tbody>\n",
       "</table>\n",
       "<p>5 rows × 85 columns</p>\n",
       "</div>"
      ],
      "text/plain": [
       "        AGER_TYP  ALTERSKATEGORIE_GROB  ANREDE_KZ  CJT_GESAMTTYP  \\\n",
       "809358       NaN                   3.0          1            3.0   \n",
       "103581       NaN                   3.0          2            3.0   \n",
       "395655       NaN                   2.0          2            4.0   \n",
       "25520        NaN                   3.0          2            3.0   \n",
       "441034       3.0                   1.0          2            2.0   \n",
       "\n",
       "        FINANZ_MINIMALIST  FINANZ_SPARER  FINANZ_VORSORGER  FINANZ_ANLEGER  \\\n",
       "809358                  3              4                 3               5   \n",
       "103581                  3              4                 3               5   \n",
       "395655                  1              3                 1               5   \n",
       "25520                   1              4                 2               4   \n",
       "441034                  2              1                 5               1   \n",
       "\n",
       "        FINANZ_UNAUFFAELLIGER  FINANZ_HAUSBAUER  ...  PLZ8_ANTG1  PLZ8_ANTG2  \\\n",
       "809358                      5                 3  ...         NaN         NaN   \n",
       "103581                      5                 3  ...         NaN         NaN   \n",
       "395655                      4                 4  ...         2.0         3.0   \n",
       "25520                       4                 4  ...         1.0         4.0   \n",
       "441034                      2                 5  ...         2.0         3.0   \n",
       "\n",
       "        PLZ8_ANTG3  PLZ8_ANTG4  PLZ8_BAUMAX  PLZ8_HHZ  PLZ8_GBZ  ARBEIT  \\\n",
       "809358         NaN         NaN          NaN       NaN       NaN     NaN   \n",
       "103581         NaN         NaN          NaN       NaN       NaN     NaN   \n",
       "395655         2.0         0.0          1.0       3.0       3.0     4.0   \n",
       "25520          3.0         1.0          3.0       3.0       2.0     2.0   \n",
       "441034         2.0         1.0          1.0       3.0       3.0     2.0   \n",
       "\n",
       "        ORTSGR_KLS9  RELAT_AB  \n",
       "809358          NaN       NaN  \n",
       "103581          NaN       NaN  \n",
       "395655          3.0       3.0  \n",
       "25520           6.0       3.0  \n",
       "441034          5.0       2.0  \n",
       "\n",
       "[5 rows x 85 columns]"
      ]
     },
     "execution_count": 13,
     "metadata": {},
     "output_type": "execute_result"
    }
   ],
   "source": [
    "azdias.sample(5)"
   ]
  },
  {
   "cell_type": "code",
   "execution_count": 14,
   "metadata": {},
   "outputs": [
    {
     "name": "stdout",
     "output_type": "stream",
     "text": [
      "data takes on a 'missing' or 'unknown' code: 3477091\n"
     ]
    }
   ],
   "source": [
    "# data takes on a 'missing' or 'unknown' code\n",
    "mon=azdias.isna().sum().sum()-naturally_missing\n",
    "print(\"data takes on a 'missing' or 'unknown' code:\",mon)"
   ]
  },
  {
   "cell_type": "markdown",
   "metadata": {},
   "source": [
    "#### Step 1.1.2: Assess Missing Data in Each Column\n",
    "\n",
    "How much missing data is present in each column? There are a few columns that are outliers in terms of the proportion of values that are missing. You will want to use matplotlib's [`hist()`](https://matplotlib.org/api/_as_gen/matplotlib.pyplot.hist.html) function to visualize the distribution of missing value counts to find these columns. Identify and document these columns. While some of these columns might have justifications for keeping or re-encoding the data, for this project you should just remove them from the dataframe. (Feel free to make remarks about these outlier columns in the discussion, however!)\n",
    "\n",
    "For the remaining features, are there any patterns in which columns have, or share, missing data?"
   ]
  },
  {
   "cell_type": "code",
   "execution_count": 15,
   "metadata": {},
   "outputs": [
    {
     "data": {
      "text/plain": [
       "AGER_TYP                685843\n",
       "ALTERSKATEGORIE_GROB      2881\n",
       "ANREDE_KZ                    0\n",
       "CJT_GESAMTTYP             4854\n",
       "FINANZ_MINIMALIST            0\n",
       "                         ...  \n",
       "PLZ8_HHZ                116515\n",
       "PLZ8_GBZ                116515\n",
       "ARBEIT                   97375\n",
       "ORTSGR_KLS9              97274\n",
       "RELAT_AB                 97375\n",
       "Length: 85, dtype: int64"
      ]
     },
     "execution_count": 15,
     "metadata": {},
     "output_type": "execute_result"
    }
   ],
   "source": [
    "# Perform an assessment of how much missing data there is in each column of the\n",
    "# dataset.\n",
    "col_nan= azdias.isna().sum()\n",
    "col_nan"
   ]
  },
  {
   "cell_type": "code",
   "execution_count": 16,
   "metadata": {},
   "outputs": [
    {
     "data": {
      "image/png": "[encoded data removed]",
      "text/plain": [
       "<Figure size 432x288 with 1 Axes>"
      ]
     },
     "metadata": {
      "needs_background": "light"
     },
     "output_type": "display_data"
    }
   ],
   "source": [
    "# Investigate patterns in the amount of missing data in each column.\n",
    "\n",
    "sns.distplot(col_nan.values, kde=False)\n",
    "plt.ylabel('count')\n",
    "plt.xlabel('nan counts')\n",
    "plt.title('the amount of missing data in each column');"
   ]
  },
  {
   "cell_type": "markdown",
   "metadata": {},
   "source": [
    "> columns with over 200000 nan values will be considered as outliers according to the plot"
   ]
  },
  {
   "cell_type": "code",
   "execution_count": 17,
   "metadata": {
    "scrolled": true
   },
   "outputs": [],
   "source": [
    "# Remove the outlier columns from the dataset. (You'll perform other data\n",
    "# engineering tasks such as re-encoding and imputation later.)\n",
    "drops=col_nan[col_nan.values > 200000].index\n",
    "azdias.drop(drops, axis = 1,inplace = True)"
   ]
  },
  {
   "cell_type": "code",
   "execution_count": 18,
   "metadata": {},
   "outputs": [
    {
     "data": {
      "text/plain": [
       "Index(['AGER_TYP', 'GEBURTSJAHR', 'TITEL_KZ', 'ALTER_HH', 'KK_KUNDENTYP',\n",
       "       'KBA05_BAUMAX'],\n",
       "      dtype='object')"
      ]
     },
     "execution_count": 18,
     "metadata": {},
     "output_type": "execute_result"
    }
   ],
   "source": [
    "drops"
   ]
  },
  {
   "cell_type": "code",
   "execution_count": 19,
   "metadata": {
    "scrolled": true
   },
   "outputs": [
    {
     "data": {
      "text/html": [
       "<div>\n",
       "<style scoped>\n",
       "    .dataframe tbody tr th:only-of-type {\n",
       "        vertical-align: middle;\n",
       "    }\n",
       "\n",
       "    .dataframe tbody tr th {\n",
       "        vertical-align: top;\n",
       "    }\n",
       "\n",
       "    .dataframe thead th {\n",
       "        text-align: right;\n",
       "    }\n",
       "</style>\n",
       "<table border=\"1\" class=\"dataframe\">\n",
       "  <thead>\n",
       "    <tr style=\"text-align: right;\">\n",
       "      <th></th>\n",
       "      <th>ALTERSKATEGORIE_GROB</th>\n",
       "      <th>ANREDE_KZ</th>\n",
       "      <th>CJT_GESAMTTYP</th>\n",
       "      <th>FINANZ_MINIMALIST</th>\n",
       "      <th>FINANZ_SPARER</th>\n",
       "      <th>FINANZ_VORSORGER</th>\n",
       "      <th>FINANZ_ANLEGER</th>\n",
       "      <th>FINANZ_UNAUFFAELLIGER</th>\n",
       "      <th>FINANZ_HAUSBAUER</th>\n",
       "      <th>FINANZTYP</th>\n",
       "      <th>...</th>\n",
       "      <th>PLZ8_ANTG1</th>\n",
       "      <th>PLZ8_ANTG2</th>\n",
       "      <th>PLZ8_ANTG3</th>\n",
       "      <th>PLZ8_ANTG4</th>\n",
       "      <th>PLZ8_BAUMAX</th>\n",
       "      <th>PLZ8_HHZ</th>\n",
       "      <th>PLZ8_GBZ</th>\n",
       "      <th>ARBEIT</th>\n",
       "      <th>ORTSGR_KLS9</th>\n",
       "      <th>RELAT_AB</th>\n",
       "    </tr>\n",
       "  </thead>\n",
       "  <tbody>\n",
       "    <tr>\n",
       "      <th>521808</th>\n",
       "      <td>4.0</td>\n",
       "      <td>2</td>\n",
       "      <td>2.0</td>\n",
       "      <td>2</td>\n",
       "      <td>1</td>\n",
       "      <td>5</td>\n",
       "      <td>1</td>\n",
       "      <td>1</td>\n",
       "      <td>5</td>\n",
       "      <td>5</td>\n",
       "      <td>...</td>\n",
       "      <td>1.0</td>\n",
       "      <td>4.0</td>\n",
       "      <td>3.0</td>\n",
       "      <td>2.0</td>\n",
       "      <td>5.0</td>\n",
       "      <td>4.0</td>\n",
       "      <td>2.0</td>\n",
       "      <td>4.0</td>\n",
       "      <td>9.0</td>\n",
       "      <td>3.0</td>\n",
       "    </tr>\n",
       "    <tr>\n",
       "      <th>163556</th>\n",
       "      <td>3.0</td>\n",
       "      <td>1</td>\n",
       "      <td>5.0</td>\n",
       "      <td>5</td>\n",
       "      <td>2</td>\n",
       "      <td>4</td>\n",
       "      <td>2</td>\n",
       "      <td>2</td>\n",
       "      <td>1</td>\n",
       "      <td>6</td>\n",
       "      <td>...</td>\n",
       "      <td>2.0</td>\n",
       "      <td>4.0</td>\n",
       "      <td>2.0</td>\n",
       "      <td>1.0</td>\n",
       "      <td>2.0</td>\n",
       "      <td>3.0</td>\n",
       "      <td>3.0</td>\n",
       "      <td>3.0</td>\n",
       "      <td>6.0</td>\n",
       "      <td>4.0</td>\n",
       "    </tr>\n",
       "    <tr>\n",
       "      <th>766315</th>\n",
       "      <td>3.0</td>\n",
       "      <td>2</td>\n",
       "      <td>6.0</td>\n",
       "      <td>3</td>\n",
       "      <td>4</td>\n",
       "      <td>3</td>\n",
       "      <td>5</td>\n",
       "      <td>5</td>\n",
       "      <td>3</td>\n",
       "      <td>4</td>\n",
       "      <td>...</td>\n",
       "      <td>NaN</td>\n",
       "      <td>NaN</td>\n",
       "      <td>NaN</td>\n",
       "      <td>NaN</td>\n",
       "      <td>NaN</td>\n",
       "      <td>NaN</td>\n",
       "      <td>NaN</td>\n",
       "      <td>NaN</td>\n",
       "      <td>NaN</td>\n",
       "      <td>NaN</td>\n",
       "    </tr>\n",
       "    <tr>\n",
       "      <th>639848</th>\n",
       "      <td>3.0</td>\n",
       "      <td>1</td>\n",
       "      <td>4.0</td>\n",
       "      <td>3</td>\n",
       "      <td>3</td>\n",
       "      <td>4</td>\n",
       "      <td>4</td>\n",
       "      <td>2</td>\n",
       "      <td>2</td>\n",
       "      <td>6</td>\n",
       "      <td>...</td>\n",
       "      <td>2.0</td>\n",
       "      <td>2.0</td>\n",
       "      <td>1.0</td>\n",
       "      <td>0.0</td>\n",
       "      <td>1.0</td>\n",
       "      <td>5.0</td>\n",
       "      <td>5.0</td>\n",
       "      <td>4.0</td>\n",
       "      <td>2.0</td>\n",
       "      <td>5.0</td>\n",
       "    </tr>\n",
       "    <tr>\n",
       "      <th>233262</th>\n",
       "      <td>3.0</td>\n",
       "      <td>2</td>\n",
       "      <td>4.0</td>\n",
       "      <td>4</td>\n",
       "      <td>2</td>\n",
       "      <td>4</td>\n",
       "      <td>5</td>\n",
       "      <td>3</td>\n",
       "      <td>1</td>\n",
       "      <td>6</td>\n",
       "      <td>...</td>\n",
       "      <td>NaN</td>\n",
       "      <td>NaN</td>\n",
       "      <td>NaN</td>\n",
       "      <td>NaN</td>\n",
       "      <td>NaN</td>\n",
       "      <td>NaN</td>\n",
       "      <td>NaN</td>\n",
       "      <td>NaN</td>\n",
       "      <td>NaN</td>\n",
       "      <td>NaN</td>\n",
       "    </tr>\n",
       "  </tbody>\n",
       "</table>\n",
       "<p>5 rows × 79 columns</p>\n",
       "</div>"
      ],
      "text/plain": [
       "        ALTERSKATEGORIE_GROB  ANREDE_KZ  CJT_GESAMTTYP  FINANZ_MINIMALIST  \\\n",
       "521808                   4.0          2            2.0                  2   \n",
       "163556                   3.0          1            5.0                  5   \n",
       "766315                   3.0          2            6.0                  3   \n",
       "639848                   3.0          1            4.0                  3   \n",
       "233262                   3.0          2            4.0                  4   \n",
       "\n",
       "        FINANZ_SPARER  FINANZ_VORSORGER  FINANZ_ANLEGER  \\\n",
       "521808              1                 5               1   \n",
       "163556              2                 4               2   \n",
       "766315              4                 3               5   \n",
       "639848              3                 4               4   \n",
       "233262              2                 4               5   \n",
       "\n",
       "        FINANZ_UNAUFFAELLIGER  FINANZ_HAUSBAUER  FINANZTYP  ...  PLZ8_ANTG1  \\\n",
       "521808                      1                 5          5  ...         1.0   \n",
       "163556                      2                 1          6  ...         2.0   \n",
       "766315                      5                 3          4  ...         NaN   \n",
       "639848                      2                 2          6  ...         2.0   \n",
       "233262                      3                 1          6  ...         NaN   \n",
       "\n",
       "        PLZ8_ANTG2  PLZ8_ANTG3  PLZ8_ANTG4  PLZ8_BAUMAX  PLZ8_HHZ  PLZ8_GBZ  \\\n",
       "521808         4.0         3.0         2.0          5.0       4.0       2.0   \n",
       "163556         4.0         2.0         1.0          2.0       3.0       3.0   \n",
       "766315         NaN         NaN         NaN          NaN       NaN       NaN   \n",
       "639848         2.0         1.0         0.0          1.0       5.0       5.0   \n",
       "233262         NaN         NaN         NaN          NaN       NaN       NaN   \n",
       "\n",
       "        ARBEIT  ORTSGR_KLS9  RELAT_AB  \n",
       "521808     4.0          9.0       3.0  \n",
       "163556     3.0          6.0       4.0  \n",
       "766315     NaN          NaN       NaN  \n",
       "639848     4.0          2.0       5.0  \n",
       "233262     NaN          NaN       NaN  \n",
       "\n",
       "[5 rows x 79 columns]"
      ]
     },
     "execution_count": 19,
     "metadata": {},
     "output_type": "execute_result"
    }
   ],
   "source": [
    "azdias.sample(5)"
   ]
  },
  {
   "cell_type": "markdown",
   "metadata": {},
   "source": [
    "#### Discussion 1.1.2: Assess Missing Data in Each Column\n",
    "\n",
    "The plot indicats majority of columns contains number NaNs under 200000, which left 6 columns become outliers due to the fact there are too many missing values. They are:\n",
    "\n",
    "- Best-ager typology\n",
    "- Year of birth\n",
    "- Academic title flag\n",
    "- Birthdate of head of household\n",
    "- Consumer pattern over past 12 months\n",
    "- Most common building type within the microcell\n",
    "\n",
    "One patterns we can see is those columns contain information either personal or subjective. This might because people were not comfortable to share certain level of personal info as well as household info. As subjective question people might or might not have strong opinions on all of the choices they were presented. It is the best practice to drop those columns to omit potential effects on further analysis."
   ]
  },
  {
   "cell_type": "code",
   "execution_count": 20,
   "metadata": {
    "scrolled": true
   },
   "outputs": [
    {
     "data": {
      "text/html": [
       "<div>\n",
       "<style scoped>\n",
       "    .dataframe tbody tr th:only-of-type {\n",
       "        vertical-align: middle;\n",
       "    }\n",
       "\n",
       "    .dataframe tbody tr th {\n",
       "        vertical-align: top;\n",
       "    }\n",
       "\n",
       "    .dataframe thead th {\n",
       "        text-align: right;\n",
       "    }\n",
       "</style>\n",
       "<table border=\"1\" class=\"dataframe\">\n",
       "  <thead>\n",
       "    <tr style=\"text-align: right;\">\n",
       "      <th></th>\n",
       "      <th>attribute</th>\n",
       "      <th>information_level</th>\n",
       "      <th>type</th>\n",
       "      <th>missing_or_unknown</th>\n",
       "    </tr>\n",
       "  </thead>\n",
       "  <tbody>\n",
       "    <tr>\n",
       "      <th>0</th>\n",
       "      <td>AGER_TYP</td>\n",
       "      <td>person</td>\n",
       "      <td>categorical</td>\n",
       "      <td>[-1,0]</td>\n",
       "    </tr>\n",
       "    <tr>\n",
       "      <th>11</th>\n",
       "      <td>GEBURTSJAHR</td>\n",
       "      <td>person</td>\n",
       "      <td>numeric</td>\n",
       "      <td>[0]</td>\n",
       "    </tr>\n",
       "    <tr>\n",
       "      <th>40</th>\n",
       "      <td>TITEL_KZ</td>\n",
       "      <td>person</td>\n",
       "      <td>categorical</td>\n",
       "      <td>[-1,0]</td>\n",
       "    </tr>\n",
       "    <tr>\n",
       "      <th>43</th>\n",
       "      <td>ALTER_HH</td>\n",
       "      <td>household</td>\n",
       "      <td>interval</td>\n",
       "      <td>[0]</td>\n",
       "    </tr>\n",
       "    <tr>\n",
       "      <th>47</th>\n",
       "      <td>KK_KUNDENTYP</td>\n",
       "      <td>household</td>\n",
       "      <td>categorical</td>\n",
       "      <td>[-1]</td>\n",
       "    </tr>\n",
       "    <tr>\n",
       "      <th>64</th>\n",
       "      <td>KBA05_BAUMAX</td>\n",
       "      <td>microcell_rr3</td>\n",
       "      <td>mixed</td>\n",
       "      <td>[-1,0]</td>\n",
       "    </tr>\n",
       "  </tbody>\n",
       "</table>\n",
       "</div>"
      ],
      "text/plain": [
       "       attribute information_level         type missing_or_unknown\n",
       "0       AGER_TYP            person  categorical             [-1,0]\n",
       "11   GEBURTSJAHR            person      numeric                [0]\n",
       "40      TITEL_KZ            person  categorical             [-1,0]\n",
       "43      ALTER_HH         household     interval                [0]\n",
       "47  KK_KUNDENTYP         household  categorical               [-1]\n",
       "64  KBA05_BAUMAX     microcell_rr3        mixed             [-1,0]"
      ]
     },
     "execution_count": 20,
     "metadata": {},
     "output_type": "execute_result"
    }
   ],
   "source": [
    "# columns dropped\n",
    "feat_info[feat_info['attribute'].isin(drops)]"
   ]
  },
  {
   "cell_type": "markdown",
   "metadata": {},
   "source": [
    "#### Step 1.1.3: Assess Missing Data in Each Row\n",
    "\n",
    "Now, you'll perform a similar assessment for the rows of the dataset. How much data is missing in each row? As with the columns, you should see some groups of points that have a very different numbers of missing values. Divide the data into two subsets: one for data points that are above some threshold for missing values, and a second subset for points below that threshold.\n",
    "\n",
    "In order to know what to do with the outlier rows, we should see if the distribution of data values on columns that are not missing data (or are missing very little data) are similar or different between the two groups. Select at least five of these columns and compare the distribution of values.\n",
    "- You can use seaborn's [`countplot()`](https://seaborn.pydata.org/generated/seaborn.countplot.html) function to create a bar chart of code frequencies and matplotlib's [`subplot()`](https://matplotlib.org/api/_as_gen/matplotlib.pyplot.subplot.html) function to put bar charts for the two subplots side by side.\n",
    "- To reduce repeated code, you might want to write a function that can perform this comparison, taking as one of its arguments a column to be compared.\n",
    "\n",
    "Depending on what you observe in your comparison, this will have implications on how you approach your conclusions later in the analysis. If the distributions of non-missing features look similar between the data with many missing values and the data with few or no missing values, then we could argue that simply dropping those points from the analysis won't present a major issue. On the other hand, if the data with many missing values looks very different from the data with few or no missing values, then we should make a note on those data as special. We'll revisit these data later on. **Either way, you should continue your analysis for now using just the subset of the data with few or no missing values.**"
   ]
  },
  {
   "cell_type": "code",
   "execution_count": 21,
   "metadata": {},
   "outputs": [
    {
     "data": {
      "text/plain": [
       "0         43\n",
       "1          0\n",
       "2          0\n",
       "3          7\n",
       "4          0\n",
       "          ..\n",
       "891216     3\n",
       "891217     4\n",
       "891218     5\n",
       "891219     0\n",
       "891220     0\n",
       "Length: 891221, dtype: int64"
      ]
     },
     "execution_count": 21,
     "metadata": {},
     "output_type": "execute_result"
    }
   ],
   "source": [
    "# How much data is missing in each row of the dataset?\n",
    "rowmiss=azdias.isna().sum(axis=1)\n",
    "rowmiss"
   ]
  },
  {
   "cell_type": "code",
   "execution_count": 22,
   "metadata": {},
   "outputs": [
    {
     "data": {
      "image/png": "[encoded data removed]",
      "text/plain": [
       "<Figure size 432x288 with 1 Axes>"
      ]
     },
     "metadata": {
      "needs_background": "light"
     },
     "output_type": "display_data"
    }
   ],
   "source": [
    "# Write code to divide the data into two subsets based on the number of missing\n",
    "# values in each row.\n",
    "sns.distplot(rowmiss.values,kde=False)\n",
    "plt.title('the amount of missing data in each row')\n",
    "plt.ylabel('count')\n",
    "plt.xlabel('nan counts');"
   ]
  },
  {
   "cell_type": "markdown",
   "metadata": {},
   "source": [
    "> rows with over 20 nan values will be considered as outliers according to the plot"
   ]
  },
  {
   "cell_type": "code",
   "execution_count": 23,
   "metadata": {},
   "outputs": [],
   "source": [
    "# records with more than 20 nans\n",
    "azdias_m=azdias.iloc[rowmiss[rowmiss.values>20].index,:]\n",
    "# records with less or  than 20 nans\n",
    "azdias_l=azdias.iloc[rowmiss[rowmiss.values<=20].index,:]"
   ]
  },
  {
   "cell_type": "code",
   "execution_count": 24,
   "metadata": {},
   "outputs": [
    {
     "data": {
      "text/plain": [
       "(797426, 79)"
      ]
     },
     "execution_count": 24,
     "metadata": {},
     "output_type": "execute_result"
    }
   ],
   "source": [
    "azdias_l.shape"
   ]
  },
  {
   "cell_type": "code",
   "execution_count": 25,
   "metadata": {},
   "outputs": [],
   "source": [
    "# Compare the distribution of values for at least five columns where there are\n",
    "# no or few missing values, between the two subsets.\n",
    "def com():\n",
    "    for i in comparelist:\n",
    "        plt.figure(figsize=(20,5))\n",
    "        plt.subplot(121)\n",
    "        sns.countplot(azdias_l[i],color='c',alpha=.5)\n",
    "        plt.title('set with less NaN')\n",
    "        plt.subplot(122)\n",
    "        sns.countplot(azdias_m[i], color='y',alpha=.5)\n",
    "        plt.title('set with more NaN');"
   ]
  },
  {
   "cell_type": "code",
   "execution_count": 26,
   "metadata": {},
   "outputs": [
    {
     "data": {
      "image/png": "[encoded data removed]",
      "text/plain": [
       "<Figure size 1440x360 with 2 Axes>"
      ]
     },
     "metadata": {
      "needs_background": "light"
     },
     "output_type": "display_data"
    },
    {
     "data": {
      "image/png": "[encoded data removed]",
      "text/plain": [
       "<Figure size 1440x360 with 2 Axes>"
      ]
     },
     "metadata": {
      "needs_background": "light"
     },
     "output_type": "display_data"
    },
    {
     "data": {
      "image/png": "[encoded data removed]",
      "text/plain": [
       "<Figure size 1440x360 with 2 Axes>"
      ]
     },
     "metadata": {
      "needs_background": "light"
     },
     "output_type": "display_data"
    },
    {
     "data": {
      "image/png": "[encoded data removed]",
      "text/plain": [
       "<Figure size 1440x360 with 2 Axes>"
      ]
     },
     "metadata": {
      "needs_background": "light"
     },
     "output_type": "display_data"
    },
    {
     "data": {
      "image/png": "[encoded data removed]",
      "text/plain": [
       "<Figure size 1440x360 with 2 Axes>"
      ]
     },
     "metadata": {
      "needs_background": "light"
     },
     "output_type": "display_data"
    }
   ],
   "source": [
    "comparelist=[azdias.columns[i] for i in np.random.randint(0,79,5)]\n",
    "com()"
   ]
  },
  {
   "cell_type": "markdown",
   "metadata": {},
   "source": [
    "#### Discussion 1.1.3: Assess Missing Data in Each Row\n",
    "\n",
    "From NaN values distribution I set a threshold at 20, those ones have more than 20 features with NaN values we would consider an separate subset. It also looks like majority of NaN values cluster at last 30 columns. As for two subsets data distribustion, we are able to see obvious differences between some features. This suggests further investigation is needed."
   ]
  },
  {
   "cell_type": "code",
   "execution_count": 27,
   "metadata": {
    "scrolled": true
   },
   "outputs": [
    {
     "data": {
      "text/html": [
       "<div>\n",
       "<style scoped>\n",
       "    .dataframe tbody tr th:only-of-type {\n",
       "        vertical-align: middle;\n",
       "    }\n",
       "\n",
       "    .dataframe tbody tr th {\n",
       "        vertical-align: top;\n",
       "    }\n",
       "\n",
       "    .dataframe thead th {\n",
       "        text-align: right;\n",
       "    }\n",
       "</style>\n",
       "<table border=\"1\" class=\"dataframe\">\n",
       "  <thead>\n",
       "    <tr style=\"text-align: right;\">\n",
       "      <th></th>\n",
       "      <th>CAMEO_INTL_2015</th>\n",
       "      <th>KBA05_ANTG1</th>\n",
       "      <th>KBA05_ANTG2</th>\n",
       "      <th>KBA05_ANTG3</th>\n",
       "      <th>KBA05_ANTG4</th>\n",
       "      <th>KBA05_GBZ</th>\n",
       "      <th>BALLRAUM</th>\n",
       "      <th>EWDICHTE</th>\n",
       "      <th>INNENSTADT</th>\n",
       "      <th>GEBAEUDETYP_RASTER</th>\n",
       "      <th>...</th>\n",
       "      <th>PLZ8_ANTG1</th>\n",
       "      <th>PLZ8_ANTG2</th>\n",
       "      <th>PLZ8_ANTG3</th>\n",
       "      <th>PLZ8_ANTG4</th>\n",
       "      <th>PLZ8_BAUMAX</th>\n",
       "      <th>PLZ8_HHZ</th>\n",
       "      <th>PLZ8_GBZ</th>\n",
       "      <th>ARBEIT</th>\n",
       "      <th>ORTSGR_KLS9</th>\n",
       "      <th>RELAT_AB</th>\n",
       "    </tr>\n",
       "  </thead>\n",
       "  <tbody>\n",
       "    <tr>\n",
       "      <th>327143</th>\n",
       "      <td>NaN</td>\n",
       "      <td>NaN</td>\n",
       "      <td>NaN</td>\n",
       "      <td>NaN</td>\n",
       "      <td>NaN</td>\n",
       "      <td>NaN</td>\n",
       "      <td>NaN</td>\n",
       "      <td>NaN</td>\n",
       "      <td>NaN</td>\n",
       "      <td>NaN</td>\n",
       "      <td>...</td>\n",
       "      <td>NaN</td>\n",
       "      <td>NaN</td>\n",
       "      <td>NaN</td>\n",
       "      <td>NaN</td>\n",
       "      <td>NaN</td>\n",
       "      <td>NaN</td>\n",
       "      <td>NaN</td>\n",
       "      <td>NaN</td>\n",
       "      <td>NaN</td>\n",
       "      <td>NaN</td>\n",
       "    </tr>\n",
       "    <tr>\n",
       "      <th>369711</th>\n",
       "      <td>NaN</td>\n",
       "      <td>NaN</td>\n",
       "      <td>NaN</td>\n",
       "      <td>NaN</td>\n",
       "      <td>NaN</td>\n",
       "      <td>NaN</td>\n",
       "      <td>NaN</td>\n",
       "      <td>NaN</td>\n",
       "      <td>NaN</td>\n",
       "      <td>NaN</td>\n",
       "      <td>...</td>\n",
       "      <td>NaN</td>\n",
       "      <td>NaN</td>\n",
       "      <td>NaN</td>\n",
       "      <td>NaN</td>\n",
       "      <td>NaN</td>\n",
       "      <td>NaN</td>\n",
       "      <td>NaN</td>\n",
       "      <td>NaN</td>\n",
       "      <td>NaN</td>\n",
       "      <td>NaN</td>\n",
       "    </tr>\n",
       "    <tr>\n",
       "      <th>20221</th>\n",
       "      <td>NaN</td>\n",
       "      <td>NaN</td>\n",
       "      <td>NaN</td>\n",
       "      <td>NaN</td>\n",
       "      <td>NaN</td>\n",
       "      <td>NaN</td>\n",
       "      <td>NaN</td>\n",
       "      <td>NaN</td>\n",
       "      <td>NaN</td>\n",
       "      <td>NaN</td>\n",
       "      <td>...</td>\n",
       "      <td>NaN</td>\n",
       "      <td>NaN</td>\n",
       "      <td>NaN</td>\n",
       "      <td>NaN</td>\n",
       "      <td>NaN</td>\n",
       "      <td>NaN</td>\n",
       "      <td>NaN</td>\n",
       "      <td>NaN</td>\n",
       "      <td>NaN</td>\n",
       "      <td>NaN</td>\n",
       "    </tr>\n",
       "    <tr>\n",
       "      <th>39411</th>\n",
       "      <td>NaN</td>\n",
       "      <td>NaN</td>\n",
       "      <td>NaN</td>\n",
       "      <td>NaN</td>\n",
       "      <td>NaN</td>\n",
       "      <td>NaN</td>\n",
       "      <td>NaN</td>\n",
       "      <td>NaN</td>\n",
       "      <td>NaN</td>\n",
       "      <td>NaN</td>\n",
       "      <td>...</td>\n",
       "      <td>NaN</td>\n",
       "      <td>NaN</td>\n",
       "      <td>NaN</td>\n",
       "      <td>NaN</td>\n",
       "      <td>NaN</td>\n",
       "      <td>NaN</td>\n",
       "      <td>NaN</td>\n",
       "      <td>NaN</td>\n",
       "      <td>NaN</td>\n",
       "      <td>NaN</td>\n",
       "    </tr>\n",
       "    <tr>\n",
       "      <th>503921</th>\n",
       "      <td>NaN</td>\n",
       "      <td>NaN</td>\n",
       "      <td>NaN</td>\n",
       "      <td>NaN</td>\n",
       "      <td>NaN</td>\n",
       "      <td>NaN</td>\n",
       "      <td>NaN</td>\n",
       "      <td>NaN</td>\n",
       "      <td>NaN</td>\n",
       "      <td>NaN</td>\n",
       "      <td>...</td>\n",
       "      <td>NaN</td>\n",
       "      <td>NaN</td>\n",
       "      <td>NaN</td>\n",
       "      <td>NaN</td>\n",
       "      <td>NaN</td>\n",
       "      <td>NaN</td>\n",
       "      <td>NaN</td>\n",
       "      <td>NaN</td>\n",
       "      <td>NaN</td>\n",
       "      <td>NaN</td>\n",
       "    </tr>\n",
       "  </tbody>\n",
       "</table>\n",
       "<p>5 rows × 25 columns</p>\n",
       "</div>"
      ],
      "text/plain": [
       "       CAMEO_INTL_2015  KBA05_ANTG1  KBA05_ANTG2  KBA05_ANTG3  KBA05_ANTG4  \\\n",
       "327143             NaN          NaN          NaN          NaN          NaN   \n",
       "369711             NaN          NaN          NaN          NaN          NaN   \n",
       "20221              NaN          NaN          NaN          NaN          NaN   \n",
       "39411              NaN          NaN          NaN          NaN          NaN   \n",
       "503921             NaN          NaN          NaN          NaN          NaN   \n",
       "\n",
       "        KBA05_GBZ  BALLRAUM  EWDICHTE  INNENSTADT  GEBAEUDETYP_RASTER  ...  \\\n",
       "327143        NaN       NaN       NaN         NaN                 NaN  ...   \n",
       "369711        NaN       NaN       NaN         NaN                 NaN  ...   \n",
       "20221         NaN       NaN       NaN         NaN                 NaN  ...   \n",
       "39411         NaN       NaN       NaN         NaN                 NaN  ...   \n",
       "503921        NaN       NaN       NaN         NaN                 NaN  ...   \n",
       "\n",
       "        PLZ8_ANTG1  PLZ8_ANTG2  PLZ8_ANTG3  PLZ8_ANTG4  PLZ8_BAUMAX  PLZ8_HHZ  \\\n",
       "327143         NaN         NaN         NaN         NaN          NaN       NaN   \n",
       "369711         NaN         NaN         NaN         NaN          NaN       NaN   \n",
       "20221          NaN         NaN         NaN         NaN          NaN       NaN   \n",
       "39411          NaN         NaN         NaN         NaN          NaN       NaN   \n",
       "503921         NaN         NaN         NaN         NaN          NaN       NaN   \n",
       "\n",
       "        PLZ8_GBZ  ARBEIT  ORTSGR_KLS9  RELAT_AB  \n",
       "327143       NaN     NaN          NaN       NaN  \n",
       "369711       NaN     NaN          NaN       NaN  \n",
       "20221        NaN     NaN          NaN       NaN  \n",
       "39411        NaN     NaN          NaN       NaN  \n",
       "503921       NaN     NaN          NaN       NaN  \n",
       "\n",
       "[5 rows x 25 columns]"
      ]
     },
     "execution_count": 27,
     "metadata": {},
     "output_type": "execute_result"
    }
   ],
   "source": [
    "azdias_m.iloc[:,-25:].sample(5)"
   ]
  },
  {
   "cell_type": "markdown",
   "metadata": {},
   "source": [
    "### Step 1.2: Select and Re-Encode Features\n",
    "\n",
    "Checking for missing data isn't the only way in which you can prepare a dataset for analysis. Since the unsupervised learning techniques to be used will only work on data that is encoded numerically, you need to make a few encoding changes or additional assumptions to be able to make progress. In addition, while almost all of the values in the dataset are encoded using numbers, not all of them represent numeric values. Check the third column of the feature summary (`feat_info`) for a summary of types of measurement.\n",
    "- For numeric and interval data, these features can be kept without changes.\n",
    "- Most of the variables in the dataset are ordinal in nature. While ordinal values may technically be non-linear in spacing, make the simplifying assumption that the ordinal variables can be treated as being interval in nature (that is, kept without any changes).\n",
    "- Special handling may be necessary for the remaining two variable types: categorical, and 'mixed'.\n",
    "\n",
    "In the first two parts of this sub-step, you will perform an investigation of the categorical and mixed-type features and make a decision on each of them, whether you will keep, drop, or re-encode each. Then, in the last part, you will create a new data frame with only the selected and engineered columns.\n",
    "\n",
    "Data wrangling is often the trickiest part of the data analysis process, and there's a lot of it to be done here. But stick with it: once you're done with this step, you'll be ready to get to the machine learning parts of the project!"
   ]
  },
  {
   "cell_type": "code",
   "execution_count": 28,
   "metadata": {},
   "outputs": [],
   "source": [
    "# How many features are there of each data type?\n",
    "# feat_info without outlier columns\n",
    "feat_info_clean=feat_info[feat_info['attribute'].isin(list(azdias_l))]"
   ]
  },
  {
   "cell_type": "code",
   "execution_count": 29,
   "metadata": {},
   "outputs": [
    {
     "data": {
      "text/plain": [
       "ordinal        49\n",
       "categorical    18\n",
       "mixed           6\n",
       "numeric         6\n",
       "Name: type, dtype: int64"
      ]
     },
     "execution_count": 29,
     "metadata": {},
     "output_type": "execute_result"
    }
   ],
   "source": [
    "feat_info_clean['type'].value_counts()"
   ]
  },
  {
   "cell_type": "markdown",
   "metadata": {},
   "source": [
    "#### Step 1.2.1: Re-Encode Categorical Features\n",
    "\n",
    "For categorical data, you would ordinarily need to encode the levels as dummy variables. Depending on the number of categories, perform one of the following:\n",
    "- For binary (two-level) categoricals that take numeric values, you can keep them without needing to do anything.\n",
    "- There is one binary variable that takes on non-numeric values. For this one, you need to re-encode the values as numbers or create a dummy variable.\n",
    "- For multi-level categoricals (three or more values), you can choose to encode the values using multiple dummy variables (e.g. via [OneHotEncoder](http://scikit-learn.org/stable/modules/generated/sklearn.preprocessing.OneHotEncoder.html)), or (to keep things straightforward) just drop them from the analysis. As always, document your choices in the Discussion section."
   ]
  },
  {
   "cell_type": "code",
   "execution_count": 30,
   "metadata": {},
   "outputs": [
    {
     "data": {
      "text/html": [
       "<div>\n",
       "<style scoped>\n",
       "    .dataframe tbody tr th:only-of-type {\n",
       "        vertical-align: middle;\n",
       "    }\n",
       "\n",
       "    .dataframe tbody tr th {\n",
       "        vertical-align: top;\n",
       "    }\n",
       "\n",
       "    .dataframe thead th {\n",
       "        text-align: right;\n",
       "    }\n",
       "</style>\n",
       "<table border=\"1\" class=\"dataframe\">\n",
       "  <thead>\n",
       "    <tr style=\"text-align: right;\">\n",
       "      <th></th>\n",
       "      <th>attribute</th>\n",
       "      <th>information_level</th>\n",
       "      <th>type</th>\n",
       "      <th>missing_or_unknown</th>\n",
       "    </tr>\n",
       "  </thead>\n",
       "  <tbody>\n",
       "    <tr>\n",
       "      <th>1</th>\n",
       "      <td>ALTERSKATEGORIE_GROB</td>\n",
       "      <td>person</td>\n",
       "      <td>ordinal</td>\n",
       "      <td>[-1,0,9]</td>\n",
       "    </tr>\n",
       "    <tr>\n",
       "      <th>2</th>\n",
       "      <td>ANREDE_KZ</td>\n",
       "      <td>person</td>\n",
       "      <td>categorical</td>\n",
       "      <td>[-1,0]</td>\n",
       "    </tr>\n",
       "    <tr>\n",
       "      <th>3</th>\n",
       "      <td>CJT_GESAMTTYP</td>\n",
       "      <td>person</td>\n",
       "      <td>categorical</td>\n",
       "      <td>[0]</td>\n",
       "    </tr>\n",
       "    <tr>\n",
       "      <th>4</th>\n",
       "      <td>FINANZ_MINIMALIST</td>\n",
       "      <td>person</td>\n",
       "      <td>ordinal</td>\n",
       "      <td>[-1]</td>\n",
       "    </tr>\n",
       "    <tr>\n",
       "      <th>5</th>\n",
       "      <td>FINANZ_SPARER</td>\n",
       "      <td>person</td>\n",
       "      <td>ordinal</td>\n",
       "      <td>[-1]</td>\n",
       "    </tr>\n",
       "    <tr>\n",
       "      <th>...</th>\n",
       "      <td>...</td>\n",
       "      <td>...</td>\n",
       "      <td>...</td>\n",
       "      <td>...</td>\n",
       "    </tr>\n",
       "    <tr>\n",
       "      <th>80</th>\n",
       "      <td>PLZ8_HHZ</td>\n",
       "      <td>macrocell_plz8</td>\n",
       "      <td>ordinal</td>\n",
       "      <td>[-1]</td>\n",
       "    </tr>\n",
       "    <tr>\n",
       "      <th>81</th>\n",
       "      <td>PLZ8_GBZ</td>\n",
       "      <td>macrocell_plz8</td>\n",
       "      <td>ordinal</td>\n",
       "      <td>[-1]</td>\n",
       "    </tr>\n",
       "    <tr>\n",
       "      <th>82</th>\n",
       "      <td>ARBEIT</td>\n",
       "      <td>community</td>\n",
       "      <td>ordinal</td>\n",
       "      <td>[-1,9]</td>\n",
       "    </tr>\n",
       "    <tr>\n",
       "      <th>83</th>\n",
       "      <td>ORTSGR_KLS9</td>\n",
       "      <td>community</td>\n",
       "      <td>ordinal</td>\n",
       "      <td>[-1,0]</td>\n",
       "    </tr>\n",
       "    <tr>\n",
       "      <th>84</th>\n",
       "      <td>RELAT_AB</td>\n",
       "      <td>community</td>\n",
       "      <td>ordinal</td>\n",
       "      <td>[-1,9]</td>\n",
       "    </tr>\n",
       "  </tbody>\n",
       "</table>\n",
       "<p>79 rows × 4 columns</p>\n",
       "</div>"
      ],
      "text/plain": [
       "               attribute information_level         type missing_or_unknown\n",
       "1   ALTERSKATEGORIE_GROB            person      ordinal           [-1,0,9]\n",
       "2              ANREDE_KZ            person  categorical             [-1,0]\n",
       "3          CJT_GESAMTTYP            person  categorical                [0]\n",
       "4      FINANZ_MINIMALIST            person      ordinal               [-1]\n",
       "5          FINANZ_SPARER            person      ordinal               [-1]\n",
       "..                   ...               ...          ...                ...\n",
       "80              PLZ8_HHZ    macrocell_plz8      ordinal               [-1]\n",
       "81              PLZ8_GBZ    macrocell_plz8      ordinal               [-1]\n",
       "82                ARBEIT         community      ordinal             [-1,9]\n",
       "83           ORTSGR_KLS9         community      ordinal             [-1,0]\n",
       "84              RELAT_AB         community      ordinal             [-1,9]\n",
       "\n",
       "[79 rows x 4 columns]"
      ]
     },
     "execution_count": 30,
     "metadata": {},
     "output_type": "execute_result"
    }
   ],
   "source": [
    "feat_info_clean"
   ]
  },
  {
   "cell_type": "code",
   "execution_count": 31,
   "metadata": {
    "scrolled": false
   },
   "outputs": [
    {
     "data": {
      "text/html": [
       "<div>\n",
       "<style scoped>\n",
       "    .dataframe tbody tr th:only-of-type {\n",
       "        vertical-align: middle;\n",
       "    }\n",
       "\n",
       "    .dataframe tbody tr th {\n",
       "        vertical-align: top;\n",
       "    }\n",
       "\n",
       "    .dataframe thead th {\n",
       "        text-align: right;\n",
       "    }\n",
       "</style>\n",
       "<table border=\"1\" class=\"dataframe\">\n",
       "  <thead>\n",
       "    <tr style=\"text-align: right;\">\n",
       "      <th></th>\n",
       "      <th>ANREDE_KZ</th>\n",
       "      <th>CJT_GESAMTTYP</th>\n",
       "      <th>FINANZTYP</th>\n",
       "      <th>GFK_URLAUBERTYP</th>\n",
       "      <th>GREEN_AVANTGARDE</th>\n",
       "      <th>LP_FAMILIE_FEIN</th>\n",
       "      <th>LP_FAMILIE_GROB</th>\n",
       "      <th>LP_STATUS_FEIN</th>\n",
       "      <th>LP_STATUS_GROB</th>\n",
       "      <th>NATIONALITAET_KZ</th>\n",
       "      <th>SHOPPER_TYP</th>\n",
       "      <th>SOHO_KZ</th>\n",
       "      <th>VERS_TYP</th>\n",
       "      <th>ZABEOTYP</th>\n",
       "      <th>GEBAEUDETYP</th>\n",
       "      <th>OST_WEST_KZ</th>\n",
       "      <th>CAMEO_DEUG_2015</th>\n",
       "      <th>CAMEO_DEU_2015</th>\n",
       "    </tr>\n",
       "  </thead>\n",
       "  <tbody>\n",
       "    <tr>\n",
       "      <th>1</th>\n",
       "      <td>2</td>\n",
       "      <td>5.0</td>\n",
       "      <td>1</td>\n",
       "      <td>10.0</td>\n",
       "      <td>0</td>\n",
       "      <td>5.0</td>\n",
       "      <td>3.0</td>\n",
       "      <td>2.0</td>\n",
       "      <td>1.0</td>\n",
       "      <td>1.0</td>\n",
       "      <td>3.0</td>\n",
       "      <td>1.0</td>\n",
       "      <td>2.0</td>\n",
       "      <td>5</td>\n",
       "      <td>8.0</td>\n",
       "      <td>W</td>\n",
       "      <td>8</td>\n",
       "      <td>8A</td>\n",
       "    </tr>\n",
       "    <tr>\n",
       "      <th>2</th>\n",
       "      <td>2</td>\n",
       "      <td>3.0</td>\n",
       "      <td>1</td>\n",
       "      <td>10.0</td>\n",
       "      <td>1</td>\n",
       "      <td>1.0</td>\n",
       "      <td>1.0</td>\n",
       "      <td>3.0</td>\n",
       "      <td>2.0</td>\n",
       "      <td>1.0</td>\n",
       "      <td>2.0</td>\n",
       "      <td>0.0</td>\n",
       "      <td>1.0</td>\n",
       "      <td>5</td>\n",
       "      <td>1.0</td>\n",
       "      <td>W</td>\n",
       "      <td>4</td>\n",
       "      <td>4C</td>\n",
       "    </tr>\n",
       "    <tr>\n",
       "      <th>3</th>\n",
       "      <td>2</td>\n",
       "      <td>2.0</td>\n",
       "      <td>6</td>\n",
       "      <td>1.0</td>\n",
       "      <td>0</td>\n",
       "      <td>NaN</td>\n",
       "      <td>NaN</td>\n",
       "      <td>9.0</td>\n",
       "      <td>4.0</td>\n",
       "      <td>1.0</td>\n",
       "      <td>1.0</td>\n",
       "      <td>0.0</td>\n",
       "      <td>1.0</td>\n",
       "      <td>3</td>\n",
       "      <td>1.0</td>\n",
       "      <td>W</td>\n",
       "      <td>2</td>\n",
       "      <td>2A</td>\n",
       "    </tr>\n",
       "    <tr>\n",
       "      <th>4</th>\n",
       "      <td>1</td>\n",
       "      <td>5.0</td>\n",
       "      <td>5</td>\n",
       "      <td>5.0</td>\n",
       "      <td>0</td>\n",
       "      <td>10.0</td>\n",
       "      <td>5.0</td>\n",
       "      <td>3.0</td>\n",
       "      <td>2.0</td>\n",
       "      <td>1.0</td>\n",
       "      <td>2.0</td>\n",
       "      <td>0.0</td>\n",
       "      <td>2.0</td>\n",
       "      <td>4</td>\n",
       "      <td>1.0</td>\n",
       "      <td>W</td>\n",
       "      <td>6</td>\n",
       "      <td>6B</td>\n",
       "    </tr>\n",
       "    <tr>\n",
       "      <th>5</th>\n",
       "      <td>2</td>\n",
       "      <td>2.0</td>\n",
       "      <td>2</td>\n",
       "      <td>1.0</td>\n",
       "      <td>0</td>\n",
       "      <td>1.0</td>\n",
       "      <td>1.0</td>\n",
       "      <td>4.0</td>\n",
       "      <td>2.0</td>\n",
       "      <td>1.0</td>\n",
       "      <td>0.0</td>\n",
       "      <td>0.0</td>\n",
       "      <td>2.0</td>\n",
       "      <td>4</td>\n",
       "      <td>1.0</td>\n",
       "      <td>W</td>\n",
       "      <td>8</td>\n",
       "      <td>8C</td>\n",
       "    </tr>\n",
       "    <tr>\n",
       "      <th>...</th>\n",
       "      <td>...</td>\n",
       "      <td>...</td>\n",
       "      <td>...</td>\n",
       "      <td>...</td>\n",
       "      <td>...</td>\n",
       "      <td>...</td>\n",
       "      <td>...</td>\n",
       "      <td>...</td>\n",
       "      <td>...</td>\n",
       "      <td>...</td>\n",
       "      <td>...</td>\n",
       "      <td>...</td>\n",
       "      <td>...</td>\n",
       "      <td>...</td>\n",
       "      <td>...</td>\n",
       "      <td>...</td>\n",
       "      <td>...</td>\n",
       "      <td>...</td>\n",
       "    </tr>\n",
       "    <tr>\n",
       "      <th>891216</th>\n",
       "      <td>2</td>\n",
       "      <td>5.0</td>\n",
       "      <td>1</td>\n",
       "      <td>12.0</td>\n",
       "      <td>0</td>\n",
       "      <td>1.0</td>\n",
       "      <td>1.0</td>\n",
       "      <td>2.0</td>\n",
       "      <td>1.0</td>\n",
       "      <td>1.0</td>\n",
       "      <td>3.0</td>\n",
       "      <td>0.0</td>\n",
       "      <td>1.0</td>\n",
       "      <td>4</td>\n",
       "      <td>8.0</td>\n",
       "      <td>W</td>\n",
       "      <td>7</td>\n",
       "      <td>7A</td>\n",
       "    </tr>\n",
       "    <tr>\n",
       "      <th>891217</th>\n",
       "      <td>1</td>\n",
       "      <td>4.0</td>\n",
       "      <td>6</td>\n",
       "      <td>1.0</td>\n",
       "      <td>0</td>\n",
       "      <td>1.0</td>\n",
       "      <td>1.0</td>\n",
       "      <td>1.0</td>\n",
       "      <td>1.0</td>\n",
       "      <td>NaN</td>\n",
       "      <td>NaN</td>\n",
       "      <td>0.0</td>\n",
       "      <td>NaN</td>\n",
       "      <td>6</td>\n",
       "      <td>8.0</td>\n",
       "      <td>W</td>\n",
       "      <td>9</td>\n",
       "      <td>9D</td>\n",
       "    </tr>\n",
       "    <tr>\n",
       "      <th>891218</th>\n",
       "      <td>2</td>\n",
       "      <td>4.0</td>\n",
       "      <td>1</td>\n",
       "      <td>10.0</td>\n",
       "      <td>0</td>\n",
       "      <td>NaN</td>\n",
       "      <td>NaN</td>\n",
       "      <td>4.0</td>\n",
       "      <td>2.0</td>\n",
       "      <td>1.0</td>\n",
       "      <td>2.0</td>\n",
       "      <td>0.0</td>\n",
       "      <td>1.0</td>\n",
       "      <td>4</td>\n",
       "      <td>8.0</td>\n",
       "      <td>W</td>\n",
       "      <td>4</td>\n",
       "      <td>4C</td>\n",
       "    </tr>\n",
       "    <tr>\n",
       "      <th>891219</th>\n",
       "      <td>1</td>\n",
       "      <td>3.0</td>\n",
       "      <td>1</td>\n",
       "      <td>9.0</td>\n",
       "      <td>0</td>\n",
       "      <td>9.0</td>\n",
       "      <td>5.0</td>\n",
       "      <td>2.0</td>\n",
       "      <td>1.0</td>\n",
       "      <td>1.0</td>\n",
       "      <td>0.0</td>\n",
       "      <td>0.0</td>\n",
       "      <td>2.0</td>\n",
       "      <td>5</td>\n",
       "      <td>8.0</td>\n",
       "      <td>W</td>\n",
       "      <td>9</td>\n",
       "      <td>9D</td>\n",
       "    </tr>\n",
       "    <tr>\n",
       "      <th>891220</th>\n",
       "      <td>1</td>\n",
       "      <td>1.0</td>\n",
       "      <td>6</td>\n",
       "      <td>12.0</td>\n",
       "      <td>0</td>\n",
       "      <td>1.0</td>\n",
       "      <td>1.0</td>\n",
       "      <td>1.0</td>\n",
       "      <td>1.0</td>\n",
       "      <td>1.0</td>\n",
       "      <td>2.0</td>\n",
       "      <td>0.0</td>\n",
       "      <td>1.0</td>\n",
       "      <td>3</td>\n",
       "      <td>8.0</td>\n",
       "      <td>W</td>\n",
       "      <td>6</td>\n",
       "      <td>6B</td>\n",
       "    </tr>\n",
       "  </tbody>\n",
       "</table>\n",
       "<p>797426 rows × 18 columns</p>\n",
       "</div>"
      ],
      "text/plain": [
       "        ANREDE_KZ  CJT_GESAMTTYP  FINANZTYP  GFK_URLAUBERTYP  \\\n",
       "1               2            5.0          1             10.0   \n",
       "2               2            3.0          1             10.0   \n",
       "3               2            2.0          6              1.0   \n",
       "4               1            5.0          5              5.0   \n",
       "5               2            2.0          2              1.0   \n",
       "...           ...            ...        ...              ...   \n",
       "891216          2            5.0          1             12.0   \n",
       "891217          1            4.0          6              1.0   \n",
       "891218          2            4.0          1             10.0   \n",
       "891219          1            3.0          1              9.0   \n",
       "891220          1            1.0          6             12.0   \n",
       "\n",
       "        GREEN_AVANTGARDE  LP_FAMILIE_FEIN  LP_FAMILIE_GROB  LP_STATUS_FEIN  \\\n",
       "1                      0              5.0              3.0             2.0   \n",
       "2                      1              1.0              1.0             3.0   \n",
       "3                      0              NaN              NaN             9.0   \n",
       "4                      0             10.0              5.0             3.0   \n",
       "5                      0              1.0              1.0             4.0   \n",
       "...                  ...              ...              ...             ...   \n",
       "891216                 0              1.0              1.0             2.0   \n",
       "891217                 0              1.0              1.0             1.0   \n",
       "891218                 0              NaN              NaN             4.0   \n",
       "891219                 0              9.0              5.0             2.0   \n",
       "891220                 0              1.0              1.0             1.0   \n",
       "\n",
       "        LP_STATUS_GROB  NATIONALITAET_KZ  SHOPPER_TYP  SOHO_KZ  VERS_TYP  \\\n",
       "1                  1.0               1.0          3.0      1.0       2.0   \n",
       "2                  2.0               1.0          2.0      0.0       1.0   \n",
       "3                  4.0               1.0          1.0      0.0       1.0   \n",
       "4                  2.0               1.0          2.0      0.0       2.0   \n",
       "5                  2.0               1.0          0.0      0.0       2.0   \n",
       "...                ...               ...          ...      ...       ...   \n",
       "891216             1.0               1.0          3.0      0.0       1.0   \n",
       "891217             1.0               NaN          NaN      0.0       NaN   \n",
       "891218             2.0               1.0          2.0      0.0       1.0   \n",
       "891219             1.0               1.0          0.0      0.0       2.0   \n",
       "891220             1.0               1.0          2.0      0.0       1.0   \n",
       "\n",
       "        ZABEOTYP  GEBAEUDETYP OST_WEST_KZ CAMEO_DEUG_2015 CAMEO_DEU_2015  \n",
       "1              5          8.0           W               8             8A  \n",
       "2              5          1.0           W               4             4C  \n",
       "3              3          1.0           W               2             2A  \n",
       "4              4          1.0           W               6             6B  \n",
       "5              4          1.0           W               8             8C  \n",
       "...          ...          ...         ...             ...            ...  \n",
       "891216         4          8.0           W               7             7A  \n",
       "891217         6          8.0           W               9             9D  \n",
       "891218         4          8.0           W               4             4C  \n",
       "891219         5          8.0           W               9             9D  \n",
       "891220         3          8.0           W               6             6B  \n",
       "\n",
       "[797426 rows x 18 columns]"
      ]
     },
     "execution_count": 31,
     "metadata": {},
     "output_type": "execute_result"
    }
   ],
   "source": [
    "# Assess categorical variables: which are binary, which are multi-level, and\n",
    "# which one needs to be re-encoded?\n",
    "# pick out columns are categorical\n",
    "catcol=feat_info_clean.query(\"type == 'categorical'\")['attribute'].values\n",
    "azdias_l[catcol]"
   ]
  },
  {
   "cell_type": "code",
   "execution_count": 32,
   "metadata": {
    "scrolled": false
   },
   "outputs": [
    {
     "data": {
      "text/plain": [
       "ANREDE_KZ            2.0\n",
       "CJT_GESAMTTYP        6.0\n",
       "FINANZTYP            6.0\n",
       "GFK_URLAUBERTYP     12.0\n",
       "GREEN_AVANTGARDE     1.0\n",
       "LP_FAMILIE_FEIN     11.0\n",
       "LP_FAMILIE_GROB      5.0\n",
       "LP_STATUS_FEIN      10.0\n",
       "LP_STATUS_GROB       5.0\n",
       "NATIONALITAET_KZ     3.0\n",
       "SHOPPER_TYP          3.0\n",
       "SOHO_KZ              1.0\n",
       "VERS_TYP             2.0\n",
       "ZABEOTYP             6.0\n",
       "GEBAEUDETYP          8.0\n",
       "Name: max, dtype: float64"
      ]
     },
     "execution_count": 32,
     "metadata": {},
     "output_type": "execute_result"
    }
   ],
   "source": [
    "azdias_l[catcol].describe().loc['max',:]"
   ]
  },
  {
   "cell_type": "markdown",
   "metadata": {},
   "source": [
    "> there are three columns contain binary values:\n",
    "- GREEN_AVANTGARDE\n",
    "- SOHO_KZ\n",
    "- OST_WEST_KZ (non-numeric)\n"
   ]
  },
  {
   "cell_type": "markdown",
   "metadata": {},
   "source": [
    ">  <font color='red'>**ATTENTION**</font> : During the first attempt customers_clean df shape is different than what we expected. Demographics set has 195 features before PCA while customers_clean has 194. After sanity check I found out there is one record in azdias_l df has an attribute ``'GEBAEUDETYP'==5.0``, this results a new dummy column ``['GEBAEUDETYP_5.0']``. It is the best practice to drop this feature since customers dataset won't match up. Following processes have been adjusted accordingly.\n",
    "<img src=\"support materials/GEBAEUDETYP_error.png\" width=500px>"
   ]
  },
  {
   "cell_type": "code",
   "execution_count": 33,
   "metadata": {},
   "outputs": [
    {
     "data": {
      "text/plain": [
       "['ANREDE_KZ',\n",
       " 'CJT_GESAMTTYP',\n",
       " 'FINANZTYP',\n",
       " 'GFK_URLAUBERTYP',\n",
       " 'LP_FAMILIE_FEIN',\n",
       " 'LP_FAMILIE_GROB',\n",
       " 'LP_STATUS_FEIN',\n",
       " 'LP_STATUS_GROB',\n",
       " 'NATIONALITAET_KZ',\n",
       " 'SHOPPER_TYP',\n",
       " 'VERS_TYP',\n",
       " 'ZABEOTYP',\n",
       " 'OST_WEST_KZ',\n",
       " 'CAMEO_DEUG_2015',\n",
       " 'CAMEO_DEU_2015']"
      ]
     },
     "execution_count": 33,
     "metadata": {},
     "output_type": "execute_result"
    }
   ],
   "source": [
    "# update catcol list not include 'GREEN_AVANTGARDE' and 'SOHO_KZ' and'GEBAEUDETYP'\n",
    "catcol= [i for i in catcol if i != 'GREEN_AVANTGARDE' and i!= 'SOHO_KZ' and i!= 'GEBAEUDETYP']\n",
    "catcol"
   ]
  },
  {
   "cell_type": "code",
   "execution_count": 34,
   "metadata": {},
   "outputs": [
    {
     "data": {
      "text/html": [
       "<div>\n",
       "<style scoped>\n",
       "    .dataframe tbody tr th:only-of-type {\n",
       "        vertical-align: middle;\n",
       "    }\n",
       "\n",
       "    .dataframe tbody tr th {\n",
       "        vertical-align: top;\n",
       "    }\n",
       "\n",
       "    .dataframe thead th {\n",
       "        text-align: right;\n",
       "    }\n",
       "</style>\n",
       "<table border=\"1\" class=\"dataframe\">\n",
       "  <thead>\n",
       "    <tr style=\"text-align: right;\">\n",
       "      <th></th>\n",
       "      <th>ALTERSKATEGORIE_GROB</th>\n",
       "      <th>FINANZ_MINIMALIST</th>\n",
       "      <th>FINANZ_SPARER</th>\n",
       "      <th>FINANZ_VORSORGER</th>\n",
       "      <th>FINANZ_ANLEGER</th>\n",
       "      <th>FINANZ_UNAUFFAELLIGER</th>\n",
       "      <th>FINANZ_HAUSBAUER</th>\n",
       "      <th>GREEN_AVANTGARDE</th>\n",
       "      <th>HEALTH_TYP</th>\n",
       "      <th>LP_LEBENSPHASE_FEIN</th>\n",
       "      <th>...</th>\n",
       "      <th>CAMEO_DEU_2015_7E</th>\n",
       "      <th>CAMEO_DEU_2015_8A</th>\n",
       "      <th>CAMEO_DEU_2015_8B</th>\n",
       "      <th>CAMEO_DEU_2015_8C</th>\n",
       "      <th>CAMEO_DEU_2015_8D</th>\n",
       "      <th>CAMEO_DEU_2015_9A</th>\n",
       "      <th>CAMEO_DEU_2015_9B</th>\n",
       "      <th>CAMEO_DEU_2015_9C</th>\n",
       "      <th>CAMEO_DEU_2015_9D</th>\n",
       "      <th>CAMEO_DEU_2015_9E</th>\n",
       "    </tr>\n",
       "  </thead>\n",
       "  <tbody>\n",
       "    <tr>\n",
       "      <th>193413</th>\n",
       "      <td>4.0</td>\n",
       "      <td>3</td>\n",
       "      <td>1</td>\n",
       "      <td>5</td>\n",
       "      <td>1</td>\n",
       "      <td>1</td>\n",
       "      <td>5</td>\n",
       "      <td>0</td>\n",
       "      <td>1.0</td>\n",
       "      <td>15.0</td>\n",
       "      <td>...</td>\n",
       "      <td>0</td>\n",
       "      <td>0</td>\n",
       "      <td>0</td>\n",
       "      <td>0</td>\n",
       "      <td>0</td>\n",
       "      <td>0</td>\n",
       "      <td>1</td>\n",
       "      <td>0</td>\n",
       "      <td>0</td>\n",
       "      <td>0</td>\n",
       "    </tr>\n",
       "    <tr>\n",
       "      <th>749762</th>\n",
       "      <td>3.0</td>\n",
       "      <td>5</td>\n",
       "      <td>1</td>\n",
       "      <td>5</td>\n",
       "      <td>1</td>\n",
       "      <td>3</td>\n",
       "      <td>2</td>\n",
       "      <td>0</td>\n",
       "      <td>3.0</td>\n",
       "      <td>19.0</td>\n",
       "      <td>...</td>\n",
       "      <td>0</td>\n",
       "      <td>0</td>\n",
       "      <td>0</td>\n",
       "      <td>0</td>\n",
       "      <td>0</td>\n",
       "      <td>0</td>\n",
       "      <td>0</td>\n",
       "      <td>0</td>\n",
       "      <td>0</td>\n",
       "      <td>0</td>\n",
       "    </tr>\n",
       "    <tr>\n",
       "      <th>530765</th>\n",
       "      <td>3.0</td>\n",
       "      <td>4</td>\n",
       "      <td>2</td>\n",
       "      <td>4</td>\n",
       "      <td>1</td>\n",
       "      <td>2</td>\n",
       "      <td>3</td>\n",
       "      <td>0</td>\n",
       "      <td>3.0</td>\n",
       "      <td>NaN</td>\n",
       "      <td>...</td>\n",
       "      <td>0</td>\n",
       "      <td>0</td>\n",
       "      <td>1</td>\n",
       "      <td>0</td>\n",
       "      <td>0</td>\n",
       "      <td>0</td>\n",
       "      <td>0</td>\n",
       "      <td>0</td>\n",
       "      <td>0</td>\n",
       "      <td>0</td>\n",
       "    </tr>\n",
       "    <tr>\n",
       "      <th>574130</th>\n",
       "      <td>1.0</td>\n",
       "      <td>2</td>\n",
       "      <td>5</td>\n",
       "      <td>2</td>\n",
       "      <td>5</td>\n",
       "      <td>4</td>\n",
       "      <td>2</td>\n",
       "      <td>0</td>\n",
       "      <td>1.0</td>\n",
       "      <td>30.0</td>\n",
       "      <td>...</td>\n",
       "      <td>0</td>\n",
       "      <td>0</td>\n",
       "      <td>0</td>\n",
       "      <td>0</td>\n",
       "      <td>0</td>\n",
       "      <td>0</td>\n",
       "      <td>0</td>\n",
       "      <td>0</td>\n",
       "      <td>0</td>\n",
       "      <td>0</td>\n",
       "    </tr>\n",
       "    <tr>\n",
       "      <th>409722</th>\n",
       "      <td>2.0</td>\n",
       "      <td>5</td>\n",
       "      <td>1</td>\n",
       "      <td>5</td>\n",
       "      <td>2</td>\n",
       "      <td>2</td>\n",
       "      <td>2</td>\n",
       "      <td>0</td>\n",
       "      <td>1.0</td>\n",
       "      <td>38.0</td>\n",
       "      <td>...</td>\n",
       "      <td>0</td>\n",
       "      <td>0</td>\n",
       "      <td>0</td>\n",
       "      <td>0</td>\n",
       "      <td>0</td>\n",
       "      <td>0</td>\n",
       "      <td>0</td>\n",
       "      <td>0</td>\n",
       "      <td>0</td>\n",
       "      <td>0</td>\n",
       "    </tr>\n",
       "  </tbody>\n",
       "</table>\n",
       "<p>5 rows × 191 columns</p>\n",
       "</div>"
      ],
      "text/plain": [
       "        ALTERSKATEGORIE_GROB  FINANZ_MINIMALIST  FINANZ_SPARER  \\\n",
       "193413                   4.0                  3              1   \n",
       "749762                   3.0                  5              1   \n",
       "530765                   3.0                  4              2   \n",
       "574130                   1.0                  2              5   \n",
       "409722                   2.0                  5              1   \n",
       "\n",
       "        FINANZ_VORSORGER  FINANZ_ANLEGER  FINANZ_UNAUFFAELLIGER  \\\n",
       "193413                 5               1                      1   \n",
       "749762                 5               1                      3   \n",
       "530765                 4               1                      2   \n",
       "574130                 2               5                      4   \n",
       "409722                 5               2                      2   \n",
       "\n",
       "        FINANZ_HAUSBAUER  GREEN_AVANTGARDE  HEALTH_TYP  LP_LEBENSPHASE_FEIN  \\\n",
       "193413                 5                 0         1.0                 15.0   \n",
       "749762                 2                 0         3.0                 19.0   \n",
       "530765                 3                 0         3.0                  NaN   \n",
       "574130                 2                 0         1.0                 30.0   \n",
       "409722                 2                 0         1.0                 38.0   \n",
       "\n",
       "        ...  CAMEO_DEU_2015_7E  CAMEO_DEU_2015_8A  CAMEO_DEU_2015_8B  \\\n",
       "193413  ...                  0                  0                  0   \n",
       "749762  ...                  0                  0                  0   \n",
       "530765  ...                  0                  0                  1   \n",
       "574130  ...                  0                  0                  0   \n",
       "409722  ...                  0                  0                  0   \n",
       "\n",
       "        CAMEO_DEU_2015_8C  CAMEO_DEU_2015_8D  CAMEO_DEU_2015_9A  \\\n",
       "193413                  0                  0                  0   \n",
       "749762                  0                  0                  0   \n",
       "530765                  0                  0                  0   \n",
       "574130                  0                  0                  0   \n",
       "409722                  0                  0                  0   \n",
       "\n",
       "        CAMEO_DEU_2015_9B  CAMEO_DEU_2015_9C  CAMEO_DEU_2015_9D  \\\n",
       "193413                  1                  0                  0   \n",
       "749762                  0                  0                  0   \n",
       "530765                  0                  0                  0   \n",
       "574130                  0                  0                  0   \n",
       "409722                  0                  0                  0   \n",
       "\n",
       "        CAMEO_DEU_2015_9E  \n",
       "193413                  0  \n",
       "749762                  0  \n",
       "530765                  0  \n",
       "574130                  0  \n",
       "409722                  0  \n",
       "\n",
       "[5 rows x 191 columns]"
      ]
     },
     "execution_count": 34,
     "metadata": {},
     "output_type": "execute_result"
    }
   ],
   "source": [
    "# Re-encode categorical variable(s) to be kept in the analysis.\n",
    "azdias_l=pd.get_dummies(data= azdias_l, columns=catcol)\n",
    "azdias_l.sample(5)"
   ]
  },
  {
   "cell_type": "markdown",
   "metadata": {},
   "source": [
    "#### Discussion 1.2.1: Re-Encode Categorical Features\n",
    "\n",
    "There are categorical 18 columns and three of them contain binary values:\n",
    "- GREEN_AVANTGARDE\n",
    "- SOHO_KZ\n",
    "- OST_WEST_KZ (non-numeric)\n",
    "\n",
    "I decided to onehot encoding them all and keep them (except ``GEBAEUDETYP`` as reason was stated above) for now beacuse there is not enough insight to tell which one provide more info or less. They will be combined through PCA process later. The new dataframe has 191 features for now."
   ]
  },
  {
   "cell_type": "markdown",
   "metadata": {},
   "source": [
    "#### Step 1.2.2: Engineer Mixed-Type Features\n",
    "\n",
    "There are a handful of features that are marked as \"mixed\" in the feature summary that require special treatment in order to be included in the analysis. There are two in particular that deserve attention; the handling of the rest are up to your own choices:\n",
    "- \"PRAEGENDE_JUGENDJAHRE\" combines information on three dimensions: generation by decade, movement (mainstream vs. avantgarde), and nation (east vs. west). While there aren't enough levels to disentangle east from west, you should create two new variables to capture the other two dimensions: an interval-type variable for decade, and a binary variable for movement.\n",
    "- \"CAMEO_INTL_2015\" combines information on two axes: wealth and life stage. Break up the two-digit codes by their 'tens'-place and 'ones'-place digits into two new ordinal variables (which, for the purposes of this project, is equivalent to just treating them as their raw numeric values).\n",
    "- If you decide to keep or engineer new features around the other mixed-type features, make sure you note your steps in the Discussion section.\n",
    "\n",
    "Be sure to check `Data_Dictionary.md` for the details needed to finish these tasks."
   ]
  },
  {
   "cell_type": "code",
   "execution_count": 35,
   "metadata": {
    "scrolled": true
   },
   "outputs": [
    {
     "data": {
      "text/plain": [
       "array(['LP_LEBENSPHASE_FEIN', 'LP_LEBENSPHASE_GROB',\n",
       "       'PRAEGENDE_JUGENDJAHRE', 'WOHNLAGE', 'CAMEO_INTL_2015',\n",
       "       'PLZ8_BAUMAX'], dtype=object)"
      ]
     },
     "execution_count": 35,
     "metadata": {},
     "output_type": "execute_result"
    }
   ],
   "source": [
    "mix=feat_info_clean.query(\"type == 'mixed'\")['attribute'].values\n",
    "mix"
   ]
  },
  {
   "cell_type": "code",
   "execution_count": 36,
   "metadata": {
    "scrolled": true
   },
   "outputs": [
    {
     "data": {
      "text/html": [
       "<div>\n",
       "<style scoped>\n",
       "    .dataframe tbody tr th:only-of-type {\n",
       "        vertical-align: middle;\n",
       "    }\n",
       "\n",
       "    .dataframe tbody tr th {\n",
       "        vertical-align: top;\n",
       "    }\n",
       "\n",
       "    .dataframe thead th {\n",
       "        text-align: right;\n",
       "    }\n",
       "</style>\n",
       "<table border=\"1\" class=\"dataframe\">\n",
       "  <thead>\n",
       "    <tr style=\"text-align: right;\">\n",
       "      <th></th>\n",
       "      <th>LP_LEBENSPHASE_FEIN</th>\n",
       "      <th>LP_LEBENSPHASE_GROB</th>\n",
       "      <th>PRAEGENDE_JUGENDJAHRE</th>\n",
       "      <th>WOHNLAGE</th>\n",
       "      <th>CAMEO_INTL_2015</th>\n",
       "      <th>PLZ8_BAUMAX</th>\n",
       "    </tr>\n",
       "  </thead>\n",
       "  <tbody>\n",
       "    <tr>\n",
       "      <th>1</th>\n",
       "      <td>21.0</td>\n",
       "      <td>6.0</td>\n",
       "      <td>14.0</td>\n",
       "      <td>4.0</td>\n",
       "      <td>51</td>\n",
       "      <td>1.0</td>\n",
       "    </tr>\n",
       "    <tr>\n",
       "      <th>2</th>\n",
       "      <td>3.0</td>\n",
       "      <td>1.0</td>\n",
       "      <td>15.0</td>\n",
       "      <td>2.0</td>\n",
       "      <td>24</td>\n",
       "      <td>1.0</td>\n",
       "    </tr>\n",
       "    <tr>\n",
       "      <th>3</th>\n",
       "      <td>NaN</td>\n",
       "      <td>NaN</td>\n",
       "      <td>8.0</td>\n",
       "      <td>7.0</td>\n",
       "      <td>12</td>\n",
       "      <td>1.0</td>\n",
       "    </tr>\n",
       "    <tr>\n",
       "      <th>4</th>\n",
       "      <td>32.0</td>\n",
       "      <td>10.0</td>\n",
       "      <td>8.0</td>\n",
       "      <td>3.0</td>\n",
       "      <td>43</td>\n",
       "      <td>2.0</td>\n",
       "    </tr>\n",
       "    <tr>\n",
       "      <th>5</th>\n",
       "      <td>8.0</td>\n",
       "      <td>2.0</td>\n",
       "      <td>3.0</td>\n",
       "      <td>7.0</td>\n",
       "      <td>54</td>\n",
       "      <td>1.0</td>\n",
       "    </tr>\n",
       "    <tr>\n",
       "      <th>...</th>\n",
       "      <td>...</td>\n",
       "      <td>...</td>\n",
       "      <td>...</td>\n",
       "      <td>...</td>\n",
       "      <td>...</td>\n",
       "      <td>...</td>\n",
       "    </tr>\n",
       "    <tr>\n",
       "      <th>891216</th>\n",
       "      <td>2.0</td>\n",
       "      <td>1.0</td>\n",
       "      <td>14.0</td>\n",
       "      <td>3.0</td>\n",
       "      <td>41</td>\n",
       "      <td>1.0</td>\n",
       "    </tr>\n",
       "    <tr>\n",
       "      <th>891217</th>\n",
       "      <td>2.0</td>\n",
       "      <td>1.0</td>\n",
       "      <td>10.0</td>\n",
       "      <td>5.0</td>\n",
       "      <td>51</td>\n",
       "      <td>4.0</td>\n",
       "    </tr>\n",
       "    <tr>\n",
       "      <th>891218</th>\n",
       "      <td>NaN</td>\n",
       "      <td>NaN</td>\n",
       "      <td>14.0</td>\n",
       "      <td>7.0</td>\n",
       "      <td>24</td>\n",
       "      <td>1.0</td>\n",
       "    </tr>\n",
       "    <tr>\n",
       "      <th>891219</th>\n",
       "      <td>29.0</td>\n",
       "      <td>9.0</td>\n",
       "      <td>14.0</td>\n",
       "      <td>5.0</td>\n",
       "      <td>51</td>\n",
       "      <td>5.0</td>\n",
       "    </tr>\n",
       "    <tr>\n",
       "      <th>891220</th>\n",
       "      <td>6.0</td>\n",
       "      <td>2.0</td>\n",
       "      <td>3.0</td>\n",
       "      <td>4.0</td>\n",
       "      <td>43</td>\n",
       "      <td>1.0</td>\n",
       "    </tr>\n",
       "  </tbody>\n",
       "</table>\n",
       "<p>797426 rows × 6 columns</p>\n",
       "</div>"
      ],
      "text/plain": [
       "        LP_LEBENSPHASE_FEIN  LP_LEBENSPHASE_GROB  PRAEGENDE_JUGENDJAHRE  \\\n",
       "1                      21.0                  6.0                   14.0   \n",
       "2                       3.0                  1.0                   15.0   \n",
       "3                       NaN                  NaN                    8.0   \n",
       "4                      32.0                 10.0                    8.0   \n",
       "5                       8.0                  2.0                    3.0   \n",
       "...                     ...                  ...                    ...   \n",
       "891216                  2.0                  1.0                   14.0   \n",
       "891217                  2.0                  1.0                   10.0   \n",
       "891218                  NaN                  NaN                   14.0   \n",
       "891219                 29.0                  9.0                   14.0   \n",
       "891220                  6.0                  2.0                    3.0   \n",
       "\n",
       "        WOHNLAGE CAMEO_INTL_2015  PLZ8_BAUMAX  \n",
       "1            4.0              51          1.0  \n",
       "2            2.0              24          1.0  \n",
       "3            7.0              12          1.0  \n",
       "4            3.0              43          2.0  \n",
       "5            7.0              54          1.0  \n",
       "...          ...             ...          ...  \n",
       "891216       3.0              41          1.0  \n",
       "891217       5.0              51          4.0  \n",
       "891218       7.0              24          1.0  \n",
       "891219       5.0              51          5.0  \n",
       "891220       4.0              43          1.0  \n",
       "\n",
       "[797426 rows x 6 columns]"
      ]
     },
     "execution_count": 36,
     "metadata": {},
     "output_type": "execute_result"
    }
   ],
   "source": [
    "azdias_l.loc[:,mix]"
   ]
  },
  {
   "cell_type": "code",
   "execution_count": 37,
   "metadata": {},
   "outputs": [
    {
     "data": {
      "text/plain": [
       "1         14.0\n",
       "2         15.0\n",
       "3          8.0\n",
       "4          8.0\n",
       "5          3.0\n",
       "          ... \n",
       "891216    14.0\n",
       "891217    10.0\n",
       "891218    14.0\n",
       "891219    14.0\n",
       "891220     3.0\n",
       "Name: PRAEGENDE_JUGENDJAHRE, Length: 797426, dtype: float64"
      ]
     },
     "execution_count": 37,
     "metadata": {},
     "output_type": "execute_result"
    }
   ],
   "source": [
    "azdias_l['PRAEGENDE_JUGENDJAHRE']"
   ]
  },
  {
   "cell_type": "code",
   "execution_count": 38,
   "metadata": {},
   "outputs": [
    {
     "data": {
      "text/plain": [
       "{2: 0,\n",
       " 4: 0,\n",
       " 6: 0,\n",
       " 7: 0,\n",
       " 9: 0,\n",
       " 11: 0,\n",
       " 13: 0,\n",
       " 15: 0,\n",
       " 1: 1,\n",
       " 3: 1,\n",
       " 5: 1,\n",
       " 8: 1,\n",
       " 10: 1,\n",
       " 12: 1,\n",
       " 14: 1}"
      ]
     },
     "execution_count": 38,
     "metadata": {},
     "output_type": "execute_result"
    }
   ],
   "source": [
    "# Investigate \"PRAEGENDE_JUGENDJAHRE\" and engineer two new variables.\n",
    "# create dicts\n",
    "avantgarde=[2,4,6,7,9,11,13,15]\n",
    "mainstream=[1,3,5,8,10,12,14]\n",
    "\n",
    "decade={1:40,2:40,3:50,4:50,5:60,6:60,7:60,8:70,9:70,10:80,11:80,12:80,13:80,14:90,15:90}\n",
    "\n",
    "movement={i: 0 for i in avantgarde}\n",
    "for y in mainstream:\n",
    "    movement[y]=1\n",
    "movement"
   ]
  },
  {
   "cell_type": "code",
   "execution_count": 39,
   "metadata": {},
   "outputs": [],
   "source": [
    "# PRAEGENDE_JUGENDJAHRE_decade column\n",
    "azdias_l['PRAEGENDE_JUGENDJAHRE_decade']=azdias_l['PRAEGENDE_JUGENDJAHRE'].apply(lambda x: decade[x] if x==x else x)"
   ]
  },
  {
   "cell_type": "code",
   "execution_count": 40,
   "metadata": {},
   "outputs": [],
   "source": [
    "# PRAEGENDE_JUGENDJAHRE_movement column\n",
    "azdias_l['PRAEGENDE_JUGENDJAHRE_movement']=azdias_l['PRAEGENDE_JUGENDJAHRE'].apply(lambda x: movement[x] if x ==x else x)"
   ]
  },
  {
   "cell_type": "code",
   "execution_count": 41,
   "metadata": {},
   "outputs": [],
   "source": [
    "# Investigate \"CAMEO_INTL_2015\" and engineer two new variables.\n",
    "azdias_l['CAMEO_INTL_2015_wealth'],azdias_l['CAMEO_INTL_2015_stage'] =azdias_l['CAMEO_INTL_2015'].str[0],azdias_l['CAMEO_INTL_2015'].str[1]"
   ]
  },
  {
   "cell_type": "code",
   "execution_count": 42,
   "metadata": {
    "scrolled": false
   },
   "outputs": [
    {
     "data": {
      "text/html": [
       "<div>\n",
       "<style scoped>\n",
       "    .dataframe tbody tr th:only-of-type {\n",
       "        vertical-align: middle;\n",
       "    }\n",
       "\n",
       "    .dataframe tbody tr th {\n",
       "        vertical-align: top;\n",
       "    }\n",
       "\n",
       "    .dataframe thead th {\n",
       "        text-align: right;\n",
       "    }\n",
       "</style>\n",
       "<table border=\"1\" class=\"dataframe\">\n",
       "  <thead>\n",
       "    <tr style=\"text-align: right;\">\n",
       "      <th></th>\n",
       "      <th>ALTERSKATEGORIE_GROB</th>\n",
       "      <th>FINANZ_MINIMALIST</th>\n",
       "      <th>FINANZ_SPARER</th>\n",
       "      <th>FINANZ_VORSORGER</th>\n",
       "      <th>FINANZ_ANLEGER</th>\n",
       "      <th>FINANZ_UNAUFFAELLIGER</th>\n",
       "      <th>FINANZ_HAUSBAUER</th>\n",
       "      <th>GREEN_AVANTGARDE</th>\n",
       "      <th>HEALTH_TYP</th>\n",
       "      <th>RETOURTYP_BK_S</th>\n",
       "      <th>...</th>\n",
       "      <th>CAMEO_DEU_2015_8D</th>\n",
       "      <th>CAMEO_DEU_2015_9A</th>\n",
       "      <th>CAMEO_DEU_2015_9B</th>\n",
       "      <th>CAMEO_DEU_2015_9C</th>\n",
       "      <th>CAMEO_DEU_2015_9D</th>\n",
       "      <th>CAMEO_DEU_2015_9E</th>\n",
       "      <th>PRAEGENDE_JUGENDJAHRE_decade</th>\n",
       "      <th>PRAEGENDE_JUGENDJAHRE_movement</th>\n",
       "      <th>CAMEO_INTL_2015_wealth</th>\n",
       "      <th>CAMEO_INTL_2015_stage</th>\n",
       "    </tr>\n",
       "  </thead>\n",
       "  <tbody>\n",
       "    <tr>\n",
       "      <th>587680</th>\n",
       "      <td>3.0</td>\n",
       "      <td>3</td>\n",
       "      <td>4</td>\n",
       "      <td>3</td>\n",
       "      <td>4</td>\n",
       "      <td>5</td>\n",
       "      <td>2</td>\n",
       "      <td>0</td>\n",
       "      <td>NaN</td>\n",
       "      <td>5.0</td>\n",
       "      <td>...</td>\n",
       "      <td>0</td>\n",
       "      <td>0</td>\n",
       "      <td>0</td>\n",
       "      <td>0</td>\n",
       "      <td>0</td>\n",
       "      <td>0</td>\n",
       "      <td>NaN</td>\n",
       "      <td>NaN</td>\n",
       "      <td>1</td>\n",
       "      <td>4</td>\n",
       "    </tr>\n",
       "    <tr>\n",
       "      <th>277012</th>\n",
       "      <td>2.0</td>\n",
       "      <td>1</td>\n",
       "      <td>5</td>\n",
       "      <td>2</td>\n",
       "      <td>4</td>\n",
       "      <td>4</td>\n",
       "      <td>3</td>\n",
       "      <td>0</td>\n",
       "      <td>2.0</td>\n",
       "      <td>1.0</td>\n",
       "      <td>...</td>\n",
       "      <td>0</td>\n",
       "      <td>1</td>\n",
       "      <td>0</td>\n",
       "      <td>0</td>\n",
       "      <td>0</td>\n",
       "      <td>0</td>\n",
       "      <td>90.0</td>\n",
       "      <td>1.0</td>\n",
       "      <td>5</td>\n",
       "      <td>2</td>\n",
       "    </tr>\n",
       "    <tr>\n",
       "      <th>826629</th>\n",
       "      <td>1.0</td>\n",
       "      <td>1</td>\n",
       "      <td>5</td>\n",
       "      <td>3</td>\n",
       "      <td>5</td>\n",
       "      <td>3</td>\n",
       "      <td>5</td>\n",
       "      <td>0</td>\n",
       "      <td>2.0</td>\n",
       "      <td>1.0</td>\n",
       "      <td>...</td>\n",
       "      <td>0</td>\n",
       "      <td>0</td>\n",
       "      <td>0</td>\n",
       "      <td>0</td>\n",
       "      <td>0</td>\n",
       "      <td>0</td>\n",
       "      <td>90.0</td>\n",
       "      <td>1.0</td>\n",
       "      <td>2</td>\n",
       "      <td>4</td>\n",
       "    </tr>\n",
       "    <tr>\n",
       "      <th>133812</th>\n",
       "      <td>3.0</td>\n",
       "      <td>5</td>\n",
       "      <td>1</td>\n",
       "      <td>5</td>\n",
       "      <td>2</td>\n",
       "      <td>1</td>\n",
       "      <td>2</td>\n",
       "      <td>1</td>\n",
       "      <td>3.0</td>\n",
       "      <td>2.0</td>\n",
       "      <td>...</td>\n",
       "      <td>0</td>\n",
       "      <td>0</td>\n",
       "      <td>0</td>\n",
       "      <td>0</td>\n",
       "      <td>0</td>\n",
       "      <td>0</td>\n",
       "      <td>50.0</td>\n",
       "      <td>0.0</td>\n",
       "      <td>1</td>\n",
       "      <td>4</td>\n",
       "    </tr>\n",
       "    <tr>\n",
       "      <th>392934</th>\n",
       "      <td>1.0</td>\n",
       "      <td>3</td>\n",
       "      <td>1</td>\n",
       "      <td>5</td>\n",
       "      <td>2</td>\n",
       "      <td>2</td>\n",
       "      <td>5</td>\n",
       "      <td>0</td>\n",
       "      <td>NaN</td>\n",
       "      <td>5.0</td>\n",
       "      <td>...</td>\n",
       "      <td>0</td>\n",
       "      <td>0</td>\n",
       "      <td>0</td>\n",
       "      <td>0</td>\n",
       "      <td>0</td>\n",
       "      <td>0</td>\n",
       "      <td>40.0</td>\n",
       "      <td>1.0</td>\n",
       "      <td>2</td>\n",
       "      <td>5</td>\n",
       "    </tr>\n",
       "  </tbody>\n",
       "</table>\n",
       "<p>5 rows × 189 columns</p>\n",
       "</div>"
      ],
      "text/plain": [
       "        ALTERSKATEGORIE_GROB  FINANZ_MINIMALIST  FINANZ_SPARER  \\\n",
       "587680                   3.0                  3              4   \n",
       "277012                   2.0                  1              5   \n",
       "826629                   1.0                  1              5   \n",
       "133812                   3.0                  5              1   \n",
       "392934                   1.0                  3              1   \n",
       "\n",
       "        FINANZ_VORSORGER  FINANZ_ANLEGER  FINANZ_UNAUFFAELLIGER  \\\n",
       "587680                 3               4                      5   \n",
       "277012                 2               4                      4   \n",
       "826629                 3               5                      3   \n",
       "133812                 5               2                      1   \n",
       "392934                 5               2                      2   \n",
       "\n",
       "        FINANZ_HAUSBAUER  GREEN_AVANTGARDE  HEALTH_TYP  RETOURTYP_BK_S  ...  \\\n",
       "587680                 2                 0         NaN             5.0  ...   \n",
       "277012                 3                 0         2.0             1.0  ...   \n",
       "826629                 5                 0         2.0             1.0  ...   \n",
       "133812                 2                 1         3.0             2.0  ...   \n",
       "392934                 5                 0         NaN             5.0  ...   \n",
       "\n",
       "        CAMEO_DEU_2015_8D  CAMEO_DEU_2015_9A  CAMEO_DEU_2015_9B  \\\n",
       "587680                  0                  0                  0   \n",
       "277012                  0                  1                  0   \n",
       "826629                  0                  0                  0   \n",
       "133812                  0                  0                  0   \n",
       "392934                  0                  0                  0   \n",
       "\n",
       "        CAMEO_DEU_2015_9C  CAMEO_DEU_2015_9D  CAMEO_DEU_2015_9E  \\\n",
       "587680                  0                  0                  0   \n",
       "277012                  0                  0                  0   \n",
       "826629                  0                  0                  0   \n",
       "133812                  0                  0                  0   \n",
       "392934                  0                  0                  0   \n",
       "\n",
       "        PRAEGENDE_JUGENDJAHRE_decade  PRAEGENDE_JUGENDJAHRE_movement  \\\n",
       "587680                           NaN                             NaN   \n",
       "277012                          90.0                             1.0   \n",
       "826629                          90.0                             1.0   \n",
       "133812                          50.0                             0.0   \n",
       "392934                          40.0                             1.0   \n",
       "\n",
       "        CAMEO_INTL_2015_wealth  CAMEO_INTL_2015_stage  \n",
       "587680                       1                      4  \n",
       "277012                       5                      2  \n",
       "826629                       2                      4  \n",
       "133812                       1                      4  \n",
       "392934                       2                      5  \n",
       "\n",
       "[5 rows x 189 columns]"
      ]
     },
     "execution_count": 42,
     "metadata": {},
     "output_type": "execute_result"
    }
   ],
   "source": [
    "# drop extra features\n",
    "azdias_l.drop(mix,axis=1, inplace=True)\n",
    "azdias_l.sample(5)"
   ]
  },
  {
   "cell_type": "markdown",
   "metadata": {},
   "source": [
    "#### Discussion 1.2.2: Engineer Mixed-Type Features\n",
    "\n",
    "There were six Mixed-Type Features, they were:\n",
    "- LP_LEBENSPHASE_FEIN\n",
    "- LP_LEBENSPHASE_GROB\n",
    "- PRAEGENDE_JUGENDJAHRE\n",
    "- WOHNLAGE\n",
    "- CAMEO_INTL_2015\n",
    "- PLZ8_BAUMAX\n",
    "\n",
    "For LP_LEBENSPHASE_FEIN I created two dictionaries to map correspond keys to the interval-type or binary values we desired. I then change binary data type to int64.\n",
    "For PRAEGENDE_JUGENDJAHRE I used string split to split tens'-place and 'ones'-place then created two columns with those.\n",
    "For simplicity, i decided to drop other Mixed-Type Features as well as original two features."
   ]
  },
  {
   "cell_type": "markdown",
   "metadata": {},
   "source": [
    "#### Step 1.2.3: Complete Feature Selection\n",
    "\n",
    "In order to finish this step up, you need to make sure that your data frame now only has the columns that you want to keep. To summarize, the dataframe should consist of the following:\n",
    "- All numeric, interval, and ordinal type columns from the original dataset.\n",
    "- Binary categorical features (all numerically-encoded).\n",
    "- Engineered features from other multi-level categorical features and mixed features.\n",
    "\n",
    "Make sure that for any new columns that you have engineered, that you've excluded the original columns from the final dataset. Otherwise, their values will interfere with the analysis later on the project. For example, you should not keep \"PRAEGENDE_JUGENDJAHRE\", since its values won't be useful for the algorithm: only the values derived from it in the engineered features you created should be retained. As a reminder, your data should only be from **the subset with few or no missing values**."
   ]
  },
  {
   "cell_type": "code",
   "execution_count": 107,
   "metadata": {},
   "outputs": [],
   "source": [
    "# Do whatever you need to in order to ensure that the dataframe only contains\n",
    "# the columns that should be passed to the algorithm functions.\n",
    "\n",
    "#azdias_l.info(verbose=True, null_counts=True)"
   ]
  },
  {
   "cell_type": "code",
   "execution_count": 44,
   "metadata": {},
   "outputs": [],
   "source": [
    "# change data type\n",
    "changelist=['CAMEO_INTL_2015_wealth','CAMEO_INTL_2015_stage']\n",
    "for i in changelist:\n",
    "    azdias_l[i]=azdias_l[i].astype(float)"
   ]
  },
  {
   "cell_type": "code",
   "execution_count": 45,
   "metadata": {},
   "outputs": [
    {
     "data": {
      "text/plain": [
       "(797426, 189)"
      ]
     },
     "execution_count": 45,
     "metadata": {},
     "output_type": "execute_result"
    }
   ],
   "source": [
    "azdias_l.shape"
   ]
  },
  {
   "cell_type": "markdown",
   "metadata": {},
   "source": [
    "### Step 1.3: Create a Cleaning Function\n",
    "\n",
    "Even though you've finished cleaning up the general population demographics data, it's important to look ahead to the future and realize that you'll need to perform the same cleaning steps on the customer demographics data. In this substep, complete the function below to execute the main feature selection, encoding, and re-engineering steps you performed above. Then, when it comes to looking at the customer data in Step 3, you can just run this function on that DataFrame to get the trimmed dataset in a single step."
   ]
  },
  {
   "cell_type": "code",
   "execution_count": 46,
   "metadata": {},
   "outputs": [],
   "source": [
    "def clean_data(df):\n",
    "    \"\"\"\n",
    "    Perform feature trimming, re-encoding, and engineering for demographics\n",
    "    data\n",
    "    \n",
    "    INPUT: Demographics DataFrame\n",
    "    OUTPUT: Trimmed and cleaned demographics DataFrame\n",
    "    \"\"\"\n",
    "    \n",
    "    # Put in code here to execute all main cleaning steps:\n",
    "    # convert missing value codes into NaNs, ...\n",
    "    # format missing_or_unknown\n",
    "    misslist= feat_info['missing_or_unknown'].apply(lambda x: x.replace('[','').replace(']','').split(','))\n",
    "    # map column name to missing_or_unknown as dict\n",
    "    attribute_nan= {}\n",
    "    for key ,item in zip(feat_info['attribute'],misslist):\n",
    "        attribute_nan[key]=item\n",
    "    # replace values with np.nan\n",
    "    for column in list(df):\n",
    "        for value in attribute_nan[column]:\n",
    "            if value == '':\n",
    "                pass\n",
    "            elif df[column].dtype == 'int64':\n",
    "                df[column].replace(int(value),np.nan, inplace=True)\n",
    "            elif df[column].dtype == 'float64':\n",
    "                df[column].replace(float(value),np.nan,inplace=True)\n",
    "            elif df[column].dtype == 'object':\n",
    "                df[column].replace(str(value),np.nan,inplace=True)\n",
    "                \n",
    "                \n",
    "    # remove selected columns and rows, ...\n",
    "    #col_nan= df.isna().sum()\n",
    "    # Remove the outlier columns from the dataset.\n",
    "    #drops=col_nan[col_nan.values > 200000].index\n",
    "    #df.drop(drops, axis = 1,inplace = True)\n",
    "    \n",
    "    \n",
    "    '''customer dataset nan volume will be different than demographic dataset, instead of using 200000 as threshold\n",
    "        we need to drop the same columns as we did to azdias df for consistency.'''\n",
    "    \n",
    "    \n",
    "    \n",
    "    #print('~~~~~~~~~~~',azdias.columns)\n",
    "    df=df[azdias.columns]\n",
    "    #print('~~~~~~~~~~~~~~~',df.shape)\n",
    "    \n",
    "    # assessing rows\n",
    "    rowmiss=df.isna().sum(axis=1)\n",
    "    # records with more than 20 nans\n",
    "    df_m=df.iloc[rowmiss[rowmiss.values>20].index,:]\n",
    "    # records with less or equal to 20 nans\n",
    "    df=df.iloc[rowmiss[rowmiss.values<=20].index,:]\n",
    "    \n",
    "    #print('~~~~~~~~~~~~~~~',df_l.shape)\n",
    "    \n",
    "    # select, re-encode, and engineer column values.\n",
    "    # feat_info without outlier columns\n",
    "    feat_info_clean=feat_info[feat_info['attribute'].isin(list(df))]\n",
    "    # pick out columns are categorical\n",
    "    catcol=feat_info_clean.query(\"type == 'categorical'\")['attribute'].values\n",
    "    #print(catcol)\n",
    "    # update catcol list not include 'GREEN_AVANTGARDE' and 'SOHO_KZ'\n",
    "    catcol= [i for i in catcol if i != 'GREEN_AVANTGARDE' and i!= 'SOHO_KZ' and i!= 'GEBAEUDETYP']\n",
    "    \n",
    "   \n",
    "    # Re-encode categorical variable(s) to be kept in the analysis.\n",
    "    #print('~~~~~~~~~~',df.shape)\n",
    "    df=pd.get_dummies(data= df, columns=catcol)\n",
    "    #print('~~~~~~~~~~',df.shape)\n",
    "    # mixed type variables\n",
    "    mix=feat_info_clean.query(\"type == 'mixed'\")['attribute'].values\n",
    "    # Investigate \"PRAEGENDE_JUGENDJAHRE\" and engineer two new variables.\n",
    "    # create dicts\n",
    "    avantgarde=[2,4,6,7,9,11,13,15]\n",
    "    mainstream=[1,3,5,8,10,12,14]\n",
    "\n",
    "    decade={1:40,2:40,3:50,4:50,5:60,6:60,7:60,8:70,9:70,10:80,11:80,12:80,13:80,14:90,15:90}\n",
    "\n",
    "    movement={i: 0 for i in avantgarde}\n",
    "    for y in mainstream:\n",
    "        movement[y]=1\n",
    "    # PRAEGENDE_JUGENDJAHRE_decade column\n",
    "    df['PRAEGENDE_JUGENDJAHRE_decade']=df['PRAEGENDE_JUGENDJAHRE'].apply(lambda x: decade[x] if x==x else x)\n",
    "    # PRAEGENDE_JUGENDJAHRE_movement column\n",
    "    df['PRAEGENDE_JUGENDJAHRE_movement']=df['PRAEGENDE_JUGENDJAHRE'].apply(lambda x: movement[x] if x ==x else x)\n",
    "    # Investigate \"CAMEO_INTL_2015\" and engineer two new variables.\n",
    "    df['CAMEO_INTL_2015_wealth'],df['CAMEO_INTL_2015_stage'] =df['CAMEO_INTL_2015'].str[0],df['CAMEO_INTL_2015'].str[1]\n",
    "    # drop extra features\n",
    "    df.drop(mix,axis=1, inplace=True)\n",
    "    # change data type\n",
    "    changelist=['CAMEO_INTL_2015_wealth','CAMEO_INTL_2015_stage']\n",
    "    for i in changelist:\n",
    "        df[i]=df[i].astype(float)\n",
    "    \n",
    "    print(df.shape, df_m.shape)\n",
    "    # Return the cleaned dataframe.\n",
    "    return df, df_m\n",
    "    "
   ]
  },
  {
   "cell_type": "markdown",
   "metadata": {},
   "source": [
    ">  <font color='red'>**ATTENTION**</font>: customer dataset nan volume will be different than demographic dataset, instead of using 200000 as threshold\n",
    "        we need to drop the same columns as we did to azdias df for consistency."
   ]
  },
  {
   "cell_type": "markdown",
   "metadata": {},
   "source": [
    "## Step 2: Feature Transformation\n",
    "\n",
    "### Step 2.1: Apply Feature Scaling\n",
    "\n",
    "Before we apply dimensionality reduction techniques to the data, we need to perform feature scaling so that the principal component vectors are not influenced by the natural differences in scale for features. Starting from this part of the project, you'll want to keep an eye on the [API reference page for sklearn](http://scikit-learn.org/stable/modules/classes.html) to help you navigate to all of the classes and functions that you'll need. In this substep, you'll need to check the following:\n",
    "\n",
    "- sklearn requires that data not have missing values in order for its estimators to work properly. So, before applying the scaler to your data, make sure that you've cleaned the DataFrame of the remaining missing values. This can be as simple as just removing all data points with missing data, or applying an [Imputer](https://scikit-learn.org/stable/modules/generated/sklearn.impute.SimpleImputer.html) to replace all missing values. You might also try a more complicated procedure where you temporarily remove missing values in order to compute the scaling parameters before re-introducing those missing values and applying imputation. Think about how much missing data you have and what possible effects each approach might have on your analysis, and justify your decision in the discussion section below.\n",
    "- For the actual scaling function, a [StandardScaler](http://scikit-learn.org/stable/modules/generated/sklearn.preprocessing.StandardScaler.html) instance is suggested, scaling each feature to mean 0 and standard deviation 1.\n",
    "- For these classes, you can make use of the `.fit_transform()` method to both fit a procedure to the data as well as apply the transformation to the data at the same time. Don't forget to keep the fit sklearn objects handy, since you'll be applying them to the customer demographics data towards the end of the project."
   ]
  },
  {
   "cell_type": "code",
   "execution_count": 47,
   "metadata": {},
   "outputs": [],
   "source": [
    "copydf=azdias_l.copy()"
   ]
  },
  {
   "cell_type": "code",
   "execution_count": 48,
   "metadata": {},
   "outputs": [
    {
     "name": "stdout",
     "output_type": "stream",
     "text": [
      "total nan remain: 715462 ,total rows number with nan : 174215\n"
     ]
    }
   ],
   "source": [
    "# If you've not yet cleaned the dataset of all NaN values, then investigate and\n",
    "# do that now.\n",
    "print('total nan remain:',copydf.isna().sum().sum(), ',total rows number with nan :',len(copydf[copydf.isna().any(axis=1)].index))"
   ]
  },
  {
   "cell_type": "code",
   "execution_count": 49,
   "metadata": {
    "scrolled": true
   },
   "outputs": [
    {
     "data": {
      "text/plain": [
       "0"
      ]
     },
     "execution_count": 49,
     "metadata": {},
     "output_type": "execute_result"
    }
   ],
   "source": [
    "# make a copy to temporarily remove nans\n",
    "copydf_nonan=copydf.copy()\n",
    "copydf_nonan.dropna(axis=0,inplace=True)\n",
    "copydf_nonan.isna().sum().sum()"
   ]
  },
  {
   "cell_type": "code",
   "execution_count": 50,
   "metadata": {},
   "outputs": [
    {
     "data": {
      "text/plain": [
       "(623211, 189)"
      ]
     },
     "execution_count": 50,
     "metadata": {},
     "output_type": "execute_result"
    }
   ],
   "source": [
    "# df shape after remove nans \n",
    "copydf_nonan.shape"
   ]
  },
  {
   "cell_type": "code",
   "execution_count": 51,
   "metadata": {},
   "outputs": [],
   "source": [
    "# get scaling parameters without missing values\n",
    "scaler= StandardScaler()\n",
    "scaler.fit(copydf_nonan)\n",
    "mean=scaler.mean_\n",
    "scale=scaler.scale_\n",
    "var=scaler.var_"
   ]
  },
  {
   "cell_type": "code",
   "execution_count": 52,
   "metadata": {},
   "outputs": [],
   "source": [
    "# impute nan values\n",
    "imp=SimpleImputer().fit(copydf)\n",
    "copydf_impute= imp.transform(copydf)"
   ]
  },
  {
   "cell_type": "code",
   "execution_count": 53,
   "metadata": {},
   "outputs": [
    {
     "data": {
      "text/plain": [
       "(797426, 189)"
      ]
     },
     "execution_count": 53,
     "metadata": {},
     "output_type": "execute_result"
    }
   ],
   "source": [
    "copydf_impute.shape"
   ]
  },
  {
   "cell_type": "code",
   "execution_count": 54,
   "metadata": {
    "scrolled": true
   },
   "outputs": [
    {
     "data": {
      "text/plain": [
       "array([[-1.74628678, -1.51222588,  1.58106079, ...,  0.55367151,\n",
       "         1.14788447, -1.25111082],\n",
       "       [ 0.202108  , -1.51222588,  0.90044628, ..., -1.80612507,\n",
       "        -0.90999235,  0.74981994],\n",
       "       [ 1.17630539,  0.6924003 , -0.46078275, ...,  0.55367151,\n",
       "        -1.59595129, -0.5841339 ],\n",
       "       ...,\n",
       "       [-0.77208939, -0.77735049,  0.90044628, ...,  0.55367151,\n",
       "        -0.90999235,  0.74981994],\n",
       "       [-1.74628678, -1.51222588,  1.58106079, ...,  0.55367151,\n",
       "         1.14788447, -1.25111082],\n",
       "       [ 1.17630539,  0.6924003 , -0.46078275, ...,  0.55367151,\n",
       "         0.46192553,  0.08284302]])"
      ]
     },
     "execution_count": 54,
     "metadata": {},
     "output_type": "execute_result"
    }
   ],
   "source": [
    "# StandardScaler with parameters\n",
    "scaler_impute= StandardScaler()\n",
    "scaler_impute.mean_=mean\n",
    "scaler_impute.scale_=scale\n",
    "scaler_impute.var_=var\n",
    "scaleimpute_copy=scaler_impute.transform(copydf_impute)\n",
    "scaleimpute_copy"
   ]
  },
  {
   "cell_type": "markdown",
   "metadata": {},
   "source": [
    "### Discussion 2.1: Apply Feature Scaling\n",
    "\n",
    "After wrangling total nan remain: 715462 ,total rows number with nan : 174215. I decided to keep rows with NaNs due to high volume fact, they could have impact on clustering result. Handling processing as follow:\n",
    "1. filter out records without missing values\n",
    "2. get StandardScaler parameters on 'perfect' records\n",
    "3. impute missing value with means in original set\n",
    "4. scale the original set with parameters we got in setp 2"
   ]
  },
  {
   "cell_type": "markdown",
   "metadata": {},
   "source": [
    "### Step 2.2: Perform Dimensionality Reduction\n",
    "\n",
    "On your scaled data, you are now ready to apply dimensionality reduction techniques.\n",
    "\n",
    "- Use sklearn's [PCA](http://scikit-learn.org/stable/modules/generated/sklearn.decomposition.PCA.html) class to apply principal component analysis on the data, thus finding the vectors of maximal variance in the data. To start, you should not set any parameters (so all components are computed) or set a number of components that is at least half the number of features (so there's enough features to see the general trend in variability).\n",
    "- Check out the ratio of variance explained by each principal component as well as the cumulative variance explained. Try plotting the cumulative or sequential values using matplotlib's [`plot()`](https://matplotlib.org/api/_as_gen/matplotlib.pyplot.plot.html) function. Based on what you find, select a value for the number of transformed features you'll retain for the clustering part of the project.\n",
    "- Once you've made a choice for the number of components to keep, make sure you re-fit a PCA instance to perform the decided-on transformation."
   ]
  },
  {
   "cell_type": "code",
   "execution_count": 55,
   "metadata": {},
   "outputs": [
    {
     "data": {
      "text/plain": [
       "(797426, 189)"
      ]
     },
     "execution_count": 55,
     "metadata": {},
     "output_type": "execute_result"
    }
   ],
   "source": [
    "scaleimpute_copy.shape"
   ]
  },
  {
   "cell_type": "code",
   "execution_count": 56,
   "metadata": {},
   "outputs": [
    {
     "data": {
      "text/plain": [
       "PCA(copy=True, iterated_power='auto', n_components=None, random_state=None,\n",
       "    svd_solver='auto', tol=0.0, whiten=False)"
      ]
     },
     "execution_count": 56,
     "metadata": {},
     "output_type": "execute_result"
    }
   ],
   "source": [
    "# Apply PCA to the data.\n",
    "pca= PCA()\n",
    "pca.fit(scaleimpute_copy)"
   ]
  },
  {
   "cell_type": "code",
   "execution_count": 108,
   "metadata": {
    "scrolled": true
   },
   "outputs": [],
   "source": [
    "# Investigate the variance accounted for by each principal component.\n",
    "ratios=pca.explained_variance_ratio_\n",
    "#print(ratios)"
   ]
  },
  {
   "cell_type": "code",
   "execution_count": 58,
   "metadata": {},
   "outputs": [],
   "source": [
    "# cumulative variability\n",
    "cumulative=[]\n",
    "result=0\n",
    "for i in ratios:\n",
    "    result+=i\n",
    "    cumulative.append(result)"
   ]
  },
  {
   "cell_type": "code",
   "execution_count": 59,
   "metadata": {},
   "outputs": [
    {
     "data": {
      "image/png": "[encoded data removed]",
      "text/plain": [
       "<Figure size 720x360 with 1 Axes>"
      ]
     },
     "metadata": {
      "needs_background": "light"
     },
     "output_type": "display_data"
    }
   ],
   "source": [
    "# plot\n",
    "plt.figure(figsize=(10,5))\n",
    "sns.lineplot(np.arange(len(ratios))+1,cumulative)\n",
    "plt.title('cumulative variability by number of features')\n",
    "plt.xlabel('number of features')\n",
    "plt.ylabel('cumulative variability');"
   ]
  },
  {
   "cell_type": "code",
   "execution_count": 60,
   "metadata": {},
   "outputs": [],
   "source": [
    "# function to find number of feature can explain over 85% variability\n",
    "def pcatry(arange):\n",
    "    time0=time()\n",
    "    #cumulative=[]\n",
    "    #trylist=[]\n",
    "    step=0\n",
    "    for i in arange:\n",
    "        #trylist.append(i)\n",
    "        step+=1\n",
    "        pca= PCA(n_components= i).fit(scaleimpute_copy)\n",
    "        result = pca.explained_variance_ratio_.sum()\n",
    "        #cumulative.append(result)\n",
    "        if result>=.85:\n",
    "            print('cumulative variability:{:.3f}, number of features: {}, duration {:.3f}'.format(result,i,time()-time0))\n",
    "            #print(trylist,cumulative)\n",
    "            #sns.lineplot(trylist,cumulative)\n",
    "            break\n",
    "        elif step == len(arange):\n",
    "            print('not found, duration {:.3f}'.format(time()-time0))"
   ]
  },
  {
   "cell_type": "code",
   "execution_count": 61,
   "metadata": {},
   "outputs": [
    {
     "name": "stdout",
     "output_type": "stream",
     "text": [
      "cumulative variability:0.851, number of features: 91, duration 50.088\n"
     ]
    }
   ],
   "source": [
    "# execute function\n",
    "arange=np.arange(90,97,1)\n",
    "pcatry(arange)"
   ]
  },
  {
   "cell_type": "code",
   "execution_count": 62,
   "metadata": {},
   "outputs": [],
   "source": [
    "# Re-apply PCA to the data while selecting for number of components to retain.\n",
    "pca91= PCA(n_components=91).fit(scaleimpute_copy)\n",
    "pca_copydf=pca91.transform(scaleimpute_copy)"
   ]
  },
  {
   "cell_type": "code",
   "execution_count": 63,
   "metadata": {},
   "outputs": [
    {
     "data": {
      "text/plain": [
       "(797426, 91)"
      ]
     },
     "execution_count": 63,
     "metadata": {},
     "output_type": "execute_result"
    }
   ],
   "source": [
    "pca_copydf.shape"
   ]
  },
  {
   "cell_type": "markdown",
   "metadata": {},
   "source": [
    "### Discussion 2.2: Perform Dimensionality Reduction\n",
    "\n",
    "From the plot we cal tell when feature number reach around 125, the cumulative variability growth trend starts to become smooth. It indicates redundant features. Therefor I set the threshold at 85%, which needs 91 features.\n"
   ]
  },
  {
   "cell_type": "markdown",
   "metadata": {},
   "source": [
    "### Step 2.3: Interpret Principal Components\n",
    "\n",
    "Now that we have our transformed principal components, it's a nice idea to check out the weight of each variable on the first few components to see if they can be interpreted in some fashion.\n",
    "\n",
    "As a reminder, each principal component is a unit vector that points in the direction of highest variance (after accounting for the variance captured by earlier principal components). The further a weight is from zero, the more the principal component is in the direction of the corresponding feature. If two features have large weights of the same sign (both positive or both negative), then increases in one tend expect to be associated with increases in the other. To contrast, features with different signs can be expected to show a negative correlation: increases in one variable should result in a decrease in the other.\n",
    "\n",
    "- To investigate the features, you should map each weight to their corresponding feature name, then sort the features according to weight. The most interesting features for each principal component, then, will be those at the beginning and end of the sorted list. Use the data dictionary document to help you understand these most prominent features, their relationships, and what a positive or negative value on the principal component might indicate.\n",
    "- You should investigate and interpret feature associations from the first three principal components in this substep. To help facilitate this, you should write a function that you can call at any time to print the sorted list of feature weights, for the *i*-th principal component. This might come in handy in the next step of the project, when you interpret the tendencies of the discovered clusters."
   ]
  },
  {
   "cell_type": "code",
   "execution_count": 64,
   "metadata": {
    "scrolled": true
   },
   "outputs": [],
   "source": [
    "# reshape pca91.components_ for dataframe transformation\n",
    "reshapepca91=pca91.components_.reshape(pca91.components_.shape[1],pca91.components_.shape[0])"
   ]
  },
  {
   "cell_type": "code",
   "execution_count": 65,
   "metadata": {},
   "outputs": [
    {
     "data": {
      "text/plain": [
       "(189, 91)"
      ]
     },
     "execution_count": 65,
     "metadata": {},
     "output_type": "execute_result"
    }
   ],
   "source": [
    "reshapepca91.shape"
   ]
  },
  {
   "cell_type": "code",
   "execution_count": 66,
   "metadata": {
    "scrolled": false
   },
   "outputs": [
    {
     "data": {
      "text/html": [
       "<div>\n",
       "<style scoped>\n",
       "    .dataframe tbody tr th:only-of-type {\n",
       "        vertical-align: middle;\n",
       "    }\n",
       "\n",
       "    .dataframe tbody tr th {\n",
       "        vertical-align: top;\n",
       "    }\n",
       "\n",
       "    .dataframe thead th {\n",
       "        text-align: right;\n",
       "    }\n",
       "</style>\n",
       "<table border=\"1\" class=\"dataframe\">\n",
       "  <thead>\n",
       "    <tr style=\"text-align: right;\">\n",
       "      <th></th>\n",
       "      <th>PC-1</th>\n",
       "      <th>PC-2</th>\n",
       "      <th>PC-3</th>\n",
       "      <th>PC-4</th>\n",
       "      <th>PC-5</th>\n",
       "      <th>PC-6</th>\n",
       "      <th>PC-7</th>\n",
       "      <th>PC-8</th>\n",
       "      <th>PC-9</th>\n",
       "      <th>PC-10</th>\n",
       "      <th>...</th>\n",
       "      <th>PC-82</th>\n",
       "      <th>PC-83</th>\n",
       "      <th>PC-84</th>\n",
       "      <th>PC-85</th>\n",
       "      <th>PC-86</th>\n",
       "      <th>PC-87</th>\n",
       "      <th>PC-88</th>\n",
       "      <th>PC-89</th>\n",
       "      <th>PC-90</th>\n",
       "      <th>PC-91</th>\n",
       "    </tr>\n",
       "  </thead>\n",
       "  <tbody>\n",
       "    <tr>\n",
       "      <th>ALTERSKATEGORIE_GROB</th>\n",
       "      <td>-0.076435</td>\n",
       "      <td>-0.192953</td>\n",
       "      <td>0.109464</td>\n",
       "      <td>-0.075535</td>\n",
       "      <td>0.051497</td>\n",
       "      <td>0.043494</td>\n",
       "      <td>0.162215</td>\n",
       "      <td>-0.100315</td>\n",
       "      <td>0.023594</td>\n",
       "      <td>-0.005772</td>\n",
       "      <td>...</td>\n",
       "      <td>-0.002176</td>\n",
       "      <td>0.024554</td>\n",
       "      <td>0.058084</td>\n",
       "      <td>0.087992</td>\n",
       "      <td>-0.029056</td>\n",
       "      <td>0.005020</td>\n",
       "      <td>0.004615</td>\n",
       "      <td>-0.001630</td>\n",
       "      <td>-0.008172</td>\n",
       "      <td>-0.020216</td>\n",
       "    </tr>\n",
       "    <tr>\n",
       "      <th>FINANZ_MINIMALIST</th>\n",
       "      <td>-0.028786</td>\n",
       "      <td>-0.003963</td>\n",
       "      <td>-0.041045</td>\n",
       "      <td>-0.045048</td>\n",
       "      <td>0.087992</td>\n",
       "      <td>-0.029056</td>\n",
       "      <td>0.004019</td>\n",
       "      <td>-0.035830</td>\n",
       "      <td>-0.062522</td>\n",
       "      <td>0.125405</td>\n",
       "      <td>...</td>\n",
       "      <td>0.027620</td>\n",
       "      <td>0.016567</td>\n",
       "      <td>0.012291</td>\n",
       "      <td>0.002570</td>\n",
       "      <td>0.062160</td>\n",
       "      <td>0.040571</td>\n",
       "      <td>0.033526</td>\n",
       "      <td>0.025755</td>\n",
       "      <td>0.038381</td>\n",
       "      <td>0.055369</td>\n",
       "    </tr>\n",
       "    <tr>\n",
       "      <th>FINANZ_SPARER</th>\n",
       "      <td>0.056337</td>\n",
       "      <td>0.056742</td>\n",
       "      <td>0.021132</td>\n",
       "      <td>0.063854</td>\n",
       "      <td>0.097521</td>\n",
       "      <td>0.188106</td>\n",
       "      <td>-0.106710</td>\n",
       "      <td>0.230190</td>\n",
       "      <td>0.094270</td>\n",
       "      <td>-0.231896</td>\n",
       "      <td>...</td>\n",
       "      <td>0.031713</td>\n",
       "      <td>0.055267</td>\n",
       "      <td>0.026158</td>\n",
       "      <td>0.020959</td>\n",
       "      <td>0.044707</td>\n",
       "      <td>0.022086</td>\n",
       "      <td>-0.075138</td>\n",
       "      <td>0.008895</td>\n",
       "      <td>-0.015540</td>\n",
       "      <td>-0.042718</td>\n",
       "    </tr>\n",
       "    <tr>\n",
       "      <th>FINANZ_VORSORGER</th>\n",
       "      <td>0.053517</td>\n",
       "      <td>0.035375</td>\n",
       "      <td>-0.025389</td>\n",
       "      <td>-0.029996</td>\n",
       "      <td>-0.024543</td>\n",
       "      <td>-0.040286</td>\n",
       "      <td>-0.047407</td>\n",
       "      <td>-0.037757</td>\n",
       "      <td>-0.009262</td>\n",
       "      <td>-0.018528</td>\n",
       "      <td>...</td>\n",
       "      <td>-0.001248</td>\n",
       "      <td>-0.001190</td>\n",
       "      <td>0.006661</td>\n",
       "      <td>0.006790</td>\n",
       "      <td>0.022548</td>\n",
       "      <td>0.011137</td>\n",
       "      <td>-0.005184</td>\n",
       "      <td>0.005799</td>\n",
       "      <td>0.011675</td>\n",
       "      <td>0.010583</td>\n",
       "    </tr>\n",
       "    <tr>\n",
       "      <th>FINANZ_ANLEGER</th>\n",
       "      <td>0.011714</td>\n",
       "      <td>0.012025</td>\n",
       "      <td>0.006775</td>\n",
       "      <td>0.014077</td>\n",
       "      <td>0.031529</td>\n",
       "      <td>-0.007136</td>\n",
       "      <td>-0.000288</td>\n",
       "      <td>0.003235</td>\n",
       "      <td>0.009236</td>\n",
       "      <td>0.045402</td>\n",
       "      <td>...</td>\n",
       "      <td>-0.023886</td>\n",
       "      <td>0.009898</td>\n",
       "      <td>0.009568</td>\n",
       "      <td>0.119621</td>\n",
       "      <td>0.007107</td>\n",
       "      <td>0.003578</td>\n",
       "      <td>-0.020518</td>\n",
       "      <td>0.001085</td>\n",
       "      <td>0.025797</td>\n",
       "      <td>0.009684</td>\n",
       "    </tr>\n",
       "    <tr>\n",
       "      <th>...</th>\n",
       "      <td>...</td>\n",
       "      <td>...</td>\n",
       "      <td>...</td>\n",
       "      <td>...</td>\n",
       "      <td>...</td>\n",
       "      <td>...</td>\n",
       "      <td>...</td>\n",
       "      <td>...</td>\n",
       "      <td>...</td>\n",
       "      <td>...</td>\n",
       "      <td>...</td>\n",
       "      <td>...</td>\n",
       "      <td>...</td>\n",
       "      <td>...</td>\n",
       "      <td>...</td>\n",
       "      <td>...</td>\n",
       "      <td>...</td>\n",
       "      <td>...</td>\n",
       "      <td>...</td>\n",
       "      <td>...</td>\n",
       "      <td>...</td>\n",
       "    </tr>\n",
       "    <tr>\n",
       "      <th>CAMEO_DEU_2015_9E</th>\n",
       "      <td>-0.004545</td>\n",
       "      <td>0.005163</td>\n",
       "      <td>0.000784</td>\n",
       "      <td>-0.016308</td>\n",
       "      <td>0.017098</td>\n",
       "      <td>-0.073265</td>\n",
       "      <td>0.040642</td>\n",
       "      <td>-0.030916</td>\n",
       "      <td>0.035537</td>\n",
       "      <td>-0.076704</td>\n",
       "      <td>...</td>\n",
       "      <td>-0.017043</td>\n",
       "      <td>0.029685</td>\n",
       "      <td>-0.019526</td>\n",
       "      <td>-0.078984</td>\n",
       "      <td>-0.084768</td>\n",
       "      <td>-0.098174</td>\n",
       "      <td>-0.075922</td>\n",
       "      <td>-0.030447</td>\n",
       "      <td>-0.036259</td>\n",
       "      <td>-0.038169</td>\n",
       "    </tr>\n",
       "    <tr>\n",
       "      <th>PRAEGENDE_JUGENDJAHRE_decade</th>\n",
       "      <td>0.021009</td>\n",
       "      <td>-0.015493</td>\n",
       "      <td>-0.006750</td>\n",
       "      <td>-0.016612</td>\n",
       "      <td>-0.018051</td>\n",
       "      <td>-0.001616</td>\n",
       "      <td>-0.017630</td>\n",
       "      <td>-0.014158</td>\n",
       "      <td>-0.055931</td>\n",
       "      <td>0.048666</td>\n",
       "      <td>...</td>\n",
       "      <td>0.012057</td>\n",
       "      <td>0.000452</td>\n",
       "      <td>0.001318</td>\n",
       "      <td>0.000499</td>\n",
       "      <td>-0.003561</td>\n",
       "      <td>0.051869</td>\n",
       "      <td>-0.083786</td>\n",
       "      <td>-0.168988</td>\n",
       "      <td>0.207795</td>\n",
       "      <td>-0.076874</td>\n",
       "    </tr>\n",
       "    <tr>\n",
       "      <th>PRAEGENDE_JUGENDJAHRE_movement</th>\n",
       "      <td>0.008060</td>\n",
       "      <td>-0.059753</td>\n",
       "      <td>-0.019364</td>\n",
       "      <td>0.010301</td>\n",
       "      <td>0.029595</td>\n",
       "      <td>-0.009845</td>\n",
       "      <td>-0.004082</td>\n",
       "      <td>-0.023087</td>\n",
       "      <td>0.003221</td>\n",
       "      <td>0.029595</td>\n",
       "      <td>...</td>\n",
       "      <td>0.086729</td>\n",
       "      <td>-0.061290</td>\n",
       "      <td>0.024538</td>\n",
       "      <td>0.024114</td>\n",
       "      <td>0.022551</td>\n",
       "      <td>-0.016742</td>\n",
       "      <td>0.028585</td>\n",
       "      <td>0.004549</td>\n",
       "      <td>-0.017524</td>\n",
       "      <td>0.000193</td>\n",
       "    </tr>\n",
       "    <tr>\n",
       "      <th>CAMEO_INTL_2015_wealth</th>\n",
       "      <td>0.033137</td>\n",
       "      <td>-0.065597</td>\n",
       "      <td>-0.105366</td>\n",
       "      <td>-0.084504</td>\n",
       "      <td>-0.045162</td>\n",
       "      <td>-0.035820</td>\n",
       "      <td>-0.028329</td>\n",
       "      <td>-0.011912</td>\n",
       "      <td>-0.054804</td>\n",
       "      <td>-0.009843</td>\n",
       "      <td>...</td>\n",
       "      <td>-0.019478</td>\n",
       "      <td>-0.011042</td>\n",
       "      <td>0.051248</td>\n",
       "      <td>-0.036536</td>\n",
       "      <td>0.335407</td>\n",
       "      <td>-0.085371</td>\n",
       "      <td>-0.007126</td>\n",
       "      <td>0.005898</td>\n",
       "      <td>-0.016781</td>\n",
       "      <td>0.003007</td>\n",
       "    </tr>\n",
       "    <tr>\n",
       "      <th>CAMEO_INTL_2015_stage</th>\n",
       "      <td>0.002566</td>\n",
       "      <td>0.012687</td>\n",
       "      <td>-0.051800</td>\n",
       "      <td>0.045153</td>\n",
       "      <td>0.021754</td>\n",
       "      <td>-0.071694</td>\n",
       "      <td>0.087076</td>\n",
       "      <td>0.015705</td>\n",
       "      <td>0.029855</td>\n",
       "      <td>-0.095721</td>\n",
       "      <td>...</td>\n",
       "      <td>0.119582</td>\n",
       "      <td>0.015508</td>\n",
       "      <td>0.074726</td>\n",
       "      <td>-0.008191</td>\n",
       "      <td>0.010360</td>\n",
       "      <td>-0.031954</td>\n",
       "      <td>-0.006605</td>\n",
       "      <td>-0.025792</td>\n",
       "      <td>0.059450</td>\n",
       "      <td>0.009585</td>\n",
       "    </tr>\n",
       "  </tbody>\n",
       "</table>\n",
       "<p>189 rows × 91 columns</p>\n",
       "</div>"
      ],
      "text/plain": [
       "                                    PC-1      PC-2      PC-3      PC-4  \\\n",
       "ALTERSKATEGORIE_GROB           -0.076435 -0.192953  0.109464 -0.075535   \n",
       "FINANZ_MINIMALIST              -0.028786 -0.003963 -0.041045 -0.045048   \n",
       "FINANZ_SPARER                   0.056337  0.056742  0.021132  0.063854   \n",
       "FINANZ_VORSORGER                0.053517  0.035375 -0.025389 -0.029996   \n",
       "FINANZ_ANLEGER                  0.011714  0.012025  0.006775  0.014077   \n",
       "...                                  ...       ...       ...       ...   \n",
       "CAMEO_DEU_2015_9E              -0.004545  0.005163  0.000784 -0.016308   \n",
       "PRAEGENDE_JUGENDJAHRE_decade    0.021009 -0.015493 -0.006750 -0.016612   \n",
       "PRAEGENDE_JUGENDJAHRE_movement  0.008060 -0.059753 -0.019364  0.010301   \n",
       "CAMEO_INTL_2015_wealth          0.033137 -0.065597 -0.105366 -0.084504   \n",
       "CAMEO_INTL_2015_stage           0.002566  0.012687 -0.051800  0.045153   \n",
       "\n",
       "                                    PC-5      PC-6      PC-7      PC-8  \\\n",
       "ALTERSKATEGORIE_GROB            0.051497  0.043494  0.162215 -0.100315   \n",
       "FINANZ_MINIMALIST               0.087992 -0.029056  0.004019 -0.035830   \n",
       "FINANZ_SPARER                   0.097521  0.188106 -0.106710  0.230190   \n",
       "FINANZ_VORSORGER               -0.024543 -0.040286 -0.047407 -0.037757   \n",
       "FINANZ_ANLEGER                  0.031529 -0.007136 -0.000288  0.003235   \n",
       "...                                  ...       ...       ...       ...   \n",
       "CAMEO_DEU_2015_9E               0.017098 -0.073265  0.040642 -0.030916   \n",
       "PRAEGENDE_JUGENDJAHRE_decade   -0.018051 -0.001616 -0.017630 -0.014158   \n",
       "PRAEGENDE_JUGENDJAHRE_movement  0.029595 -0.009845 -0.004082 -0.023087   \n",
       "CAMEO_INTL_2015_wealth         -0.045162 -0.035820 -0.028329 -0.011912   \n",
       "CAMEO_INTL_2015_stage           0.021754 -0.071694  0.087076  0.015705   \n",
       "\n",
       "                                    PC-9     PC-10  ...     PC-82     PC-83  \\\n",
       "ALTERSKATEGORIE_GROB            0.023594 -0.005772  ... -0.002176  0.024554   \n",
       "FINANZ_MINIMALIST              -0.062522  0.125405  ...  0.027620  0.016567   \n",
       "FINANZ_SPARER                   0.094270 -0.231896  ...  0.031713  0.055267   \n",
       "FINANZ_VORSORGER               -0.009262 -0.018528  ... -0.001248 -0.001190   \n",
       "FINANZ_ANLEGER                  0.009236  0.045402  ... -0.023886  0.009898   \n",
       "...                                  ...       ...  ...       ...       ...   \n",
       "CAMEO_DEU_2015_9E               0.035537 -0.076704  ... -0.017043  0.029685   \n",
       "PRAEGENDE_JUGENDJAHRE_decade   -0.055931  0.048666  ...  0.012057  0.000452   \n",
       "PRAEGENDE_JUGENDJAHRE_movement  0.003221  0.029595  ...  0.086729 -0.061290   \n",
       "CAMEO_INTL_2015_wealth         -0.054804 -0.009843  ... -0.019478 -0.011042   \n",
       "CAMEO_INTL_2015_stage           0.029855 -0.095721  ...  0.119582  0.015508   \n",
       "\n",
       "                                   PC-84     PC-85     PC-86     PC-87  \\\n",
       "ALTERSKATEGORIE_GROB            0.058084  0.087992 -0.029056  0.005020   \n",
       "FINANZ_MINIMALIST               0.012291  0.002570  0.062160  0.040571   \n",
       "FINANZ_SPARER                   0.026158  0.020959  0.044707  0.022086   \n",
       "FINANZ_VORSORGER                0.006661  0.006790  0.022548  0.011137   \n",
       "FINANZ_ANLEGER                  0.009568  0.119621  0.007107  0.003578   \n",
       "...                                  ...       ...       ...       ...   \n",
       "CAMEO_DEU_2015_9E              -0.019526 -0.078984 -0.084768 -0.098174   \n",
       "PRAEGENDE_JUGENDJAHRE_decade    0.001318  0.000499 -0.003561  0.051869   \n",
       "PRAEGENDE_JUGENDJAHRE_movement  0.024538  0.024114  0.022551 -0.016742   \n",
       "CAMEO_INTL_2015_wealth          0.051248 -0.036536  0.335407 -0.085371   \n",
       "CAMEO_INTL_2015_stage           0.074726 -0.008191  0.010360 -0.031954   \n",
       "\n",
       "                                   PC-88     PC-89     PC-90     PC-91  \n",
       "ALTERSKATEGORIE_GROB            0.004615 -0.001630 -0.008172 -0.020216  \n",
       "FINANZ_MINIMALIST               0.033526  0.025755  0.038381  0.055369  \n",
       "FINANZ_SPARER                  -0.075138  0.008895 -0.015540 -0.042718  \n",
       "FINANZ_VORSORGER               -0.005184  0.005799  0.011675  0.010583  \n",
       "FINANZ_ANLEGER                 -0.020518  0.001085  0.025797  0.009684  \n",
       "...                                  ...       ...       ...       ...  \n",
       "CAMEO_DEU_2015_9E              -0.075922 -0.030447 -0.036259 -0.038169  \n",
       "PRAEGENDE_JUGENDJAHRE_decade   -0.083786 -0.168988  0.207795 -0.076874  \n",
       "PRAEGENDE_JUGENDJAHRE_movement  0.028585  0.004549 -0.017524  0.000193  \n",
       "CAMEO_INTL_2015_wealth         -0.007126  0.005898 -0.016781  0.003007  \n",
       "CAMEO_INTL_2015_stage          -0.006605 -0.025792  0.059450  0.009585  \n",
       "\n",
       "[189 rows x 91 columns]"
      ]
     },
     "execution_count": 66,
     "metadata": {},
     "output_type": "execute_result"
    }
   ],
   "source": [
    "# transfrom to df\n",
    "pcamapdf=pd.DataFrame(reshapepca91, index= copydf.columns,columns=['PC-'+str(i) for i in np.arange(1,92)])\n",
    "pcamapdf"
   ]
  },
  {
   "cell_type": "code",
   "execution_count": 109,
   "metadata": {
    "scrolled": true
   },
   "outputs": [],
   "source": [
    "# convert to dict\n",
    "pcadict=pcamapdf.to_dict()\n",
    "#pcadict"
   ]
  },
  {
   "cell_type": "code",
   "execution_count": 68,
   "metadata": {},
   "outputs": [],
   "source": [
    "# Map weights for the first principal component to corresponding feature names\n",
    "# and then print the linked values, sorted by weight.\n",
    "# HINT: Try defining a function here or in a new cell that you can reuse in the\n",
    "# other cells.\n",
    "def pcafeature(pcnumber):\n",
    "    # reshape pca91.components_ for dataframe transformation\n",
    "    reshapepca91=pca91.components_.reshape(pca91.components_.shape[1],pca91.components_.shape[0])\n",
    "    # transfrom to df\n",
    "    pcamapdf=pd.DataFrame(reshapepca91, index= copydf.columns,columns=['PC-'+str(i) for i in np.arange(1,92)])\n",
    "    # convert to dict\n",
    "    pcadict=pcamapdf.to_dict()\n",
    "    # sort dictionary by value\n",
    "    sorteddict=[k+':'+str(v) for k,v in sorted(pcadict[pcnumber].items(),key=lambda x : x[1], reverse= True)]\n",
    "    return sorteddict"
   ]
  },
  {
   "cell_type": "code",
   "execution_count": 69,
   "metadata": {
    "scrolled": true
   },
   "outputs": [
    {
     "data": {
      "text/plain": [
       "['CAMEO_DEU_2015_6D:0.6270518151926815',\n",
       " 'CAMEO_DEU_2015_5F:0.3899962954686356',\n",
       " 'ANZ_TITEL:0.1944306490777935',\n",
       " 'SEMIO_PFLICHT:0.19256749841711743',\n",
       " 'CAMEO_DEU_2015_6C:0.13093276743575935',\n",
       " 'SOHO_KZ:0.11107549725865946',\n",
       " 'GEBAEUDETYP_RASTER:0.10714543497760193',\n",
       " 'VERS_TYP_2.0:0.10141392571000407',\n",
       " 'CJT_GESAMTTYP_2.0:0.10075229066322591',\n",
       " 'EWDICHTE:0.09725447527398112',\n",
       " 'GFK_URLAUBERTYP_5.0:0.0780662140957019',\n",
       " 'CAMEO_DEUG_2015_6:0.07414250409779004',\n",
       " 'CAMEO_DEUG_2015_8:0.07397790008466794',\n",
       " 'PLZ8_GBZ:0.07346361857279668',\n",
       " 'CAMEO_DEU_2015_7B:0.0710225414064154',\n",
       " 'SEMIO_LUST:0.07102047267422149',\n",
       " 'CAMEO_DEU_2015_5E:0.0698894856655067',\n",
       " 'LP_STATUS_FEIN_6.0:0.06480491941866419',\n",
       " 'GFK_URLAUBERTYP_7.0:0.06008790955859912',\n",
       " 'FINANZ_SPARER:0.05633746158130352',\n",
       " 'FINANZ_VORSORGER:0.053516654965619415',\n",
       " 'FINANZTYP_4:0.053075465495284954',\n",
       " 'LP_STATUS_FEIN_10.0:0.04779024663308713',\n",
       " 'SEMIO_RAT:0.04616777513458812',\n",
       " 'CAMEO_DEU_2015_8B:0.044135688810384155',\n",
       " 'PLZ8_ANTG4:0.04386481746748017',\n",
       " 'CAMEO_DEU_2015_7D:0.04383216740457869',\n",
       " 'GFK_URLAUBERTYP_3.0:0.04378610015322695',\n",
       " 'CAMEO_DEUG_2015_5:0.04234197402911144',\n",
       " 'SEMIO_DOM:0.04163627338683457',\n",
       " 'HH_EINKOMMEN_SCORE:0.038511147830816966',\n",
       " 'ORTSGR_KLS9:0.03840217684374968',\n",
       " 'RELAT_AB:0.03811537794273311',\n",
       " 'LP_STATUS_GROB_5.0:0.03418760641094644',\n",
       " 'LP_STATUS_FEIN_2.0:0.03341733719724543',\n",
       " 'LP_STATUS_GROB_2.0:0.03314487279750931',\n",
       " 'CAMEO_INTL_2015_wealth:0.03313661548297457',\n",
       " 'LP_STATUS_FEIN_8.0:0.030571707557497184',\n",
       " 'LP_FAMILIE_GROB_2.0:0.030297987444578494',\n",
       " 'KKK:0.027554066113832154',\n",
       " 'WOHNDAUER_2008:0.025421155195074797',\n",
       " 'GFK_URLAUBERTYP_8.0:0.02475714102719305',\n",
       " 'CAMEO_DEU_2015_8A:0.02411199350445575',\n",
       " 'FINANZTYP_3:0.023599293685550894',\n",
       " 'CAMEO_DEU_2015_3D:0.0231266949145021',\n",
       " 'ONLINE_AFFINITAET:0.022793067377796246',\n",
       " 'LP_STATUS_FEIN_4.0:0.022026959984656466',\n",
       " 'LP_FAMILIE_FEIN_4.0:0.021559316550219355',\n",
       " 'PRAEGENDE_JUGENDJAHRE_decade:0.02100859486338062',\n",
       " 'FINANZTYP_6:0.02084430662707751',\n",
       " 'CAMEO_DEUG_2015_7:0.020672958467518224',\n",
       " 'KBA05_ANTG1:0.02001539885273659',\n",
       " 'LP_FAMILIE_FEIN_2.0:0.019245850800185333',\n",
       " 'REGIOTYP:0.018370904828331352',\n",
       " 'HEALTH_TYP:0.018143453852993856',\n",
       " 'W_KEIT_KIND_HH:0.017919136107919422',\n",
       " 'SHOPPER_TYP_1.0:0.01777685555213312',\n",
       " 'LP_STATUS_FEIN_9.0:0.017468218890790792',\n",
       " 'KBA05_ANTG2:0.015960908830637558',\n",
       " 'PLZ8_ANTG2:0.015424155662810572',\n",
       " 'LP_FAMILIE_FEIN_9.0:0.014800692893278164',\n",
       " 'CAMEO_DEU_2015_9D:0.014351381526706454',\n",
       " 'CAMEO_DEU_2015_3C:0.014045547703818469',\n",
       " 'CAMEO_DEUG_2015_4:0.013107913751505926',\n",
       " 'CAMEO_DEU_2015_1D:0.012222035863284046',\n",
       " 'CAMEO_DEU_2015_2A:0.011900293303405548',\n",
       " 'CJT_GESAMTTYP_6.0:0.011837860918918603',\n",
       " 'FINANZ_ANLEGER:0.011713742117204023',\n",
       " 'CAMEO_DEU_2015_2C:0.011702542024816564',\n",
       " 'FINANZTYP_2:0.011183356016346613',\n",
       " 'MOBI_REGIO:0.011010972491346575',\n",
       " 'CAMEO_DEU_2015_3A:0.010724813281638133',\n",
       " 'GFK_URLAUBERTYP_1.0:0.009107462668410258',\n",
       " 'ZABEOTYP_3:0.008820313124639207',\n",
       " 'ZABEOTYP_5:0.008648112292245342',\n",
       " 'FINANZ_UNAUFFAELLIGER:0.008184990663371233',\n",
       " 'ZABEOTYP_1:0.00816733959537253',\n",
       " 'PRAEGENDE_JUGENDJAHRE_movement:0.008059570633982544',\n",
       " 'CAMEO_DEUG_2015_1:0.008054615428074625',\n",
       " 'OST_WEST_KZ_O:0.008053039206947906',\n",
       " 'CAMEO_DEUG_2015_3:0.0077279520766611555',\n",
       " 'ZABEOTYP_6:0.006320140551116386',\n",
       " 'GFK_URLAUBERTYP_6.0:0.00572209218140508',\n",
       " 'CAMEO_DEU_2015_5C:0.0051743851942732426',\n",
       " 'CAMEO_DEU_2015_7C:0.004757238888040228',\n",
       " 'LP_STATUS_FEIN_5.0:0.003924300827123946',\n",
       " 'SEMIO_REL:0.0038486078596648996',\n",
       " 'CAMEO_INTL_2015_stage:0.0025659416258360253',\n",
       " 'SEMIO_KAEM:0.0012318488183300112',\n",
       " 'CAMEO_DEU_2015_4C:0.0009523697613895196',\n",
       " 'CAMEO_DEU_2015_6A:0.0008546853628577612',\n",
       " 'FINANZ_HAUSBAUER:0.0006875937497541665',\n",
       " 'CAMEO_DEU_2015_2B:0.00036734648612594836',\n",
       " 'CAMEO_DEU_2015_5B:-0.00010105991621771275',\n",
       " 'CAMEO_DEU_2015_5D:-0.001261149286065098',\n",
       " 'CAMEO_DEU_2015_2D:-0.0012964218024465294',\n",
       " 'RETOURTYP_BK_S:-0.001665286927425857',\n",
       " 'LP_STATUS_FEIN_1.0:-0.002367451750159446',\n",
       " 'CAMEO_DEU_2015_3B:-0.0032332918178985728',\n",
       " 'LP_STATUS_GROB_4.0:-0.003872245377748033',\n",
       " 'LP_STATUS_GROB_3.0:-0.0038896424442773823',\n",
       " 'CAMEO_DEU_2015_9E:-0.004544627559671529',\n",
       " 'LP_FAMILIE_FEIN_3.0:-0.004920701748419936',\n",
       " 'CAMEO_DEU_2015_8C:-0.005185375012985935',\n",
       " 'CAMEO_DEU_2015_1E:-0.005319305875642498',\n",
       " 'FINANZTYP_5:-0.005574729661117416',\n",
       " 'KBA13_ANZAHL_PKW:-0.0058220212136478496',\n",
       " 'SHOPPER_TYP_3.0:-0.006596543214060606',\n",
       " 'LP_FAMILIE_GROB_3.0:-0.006898965495737073',\n",
       " 'CAMEO_DEU_2015_4A:-0.007834982368026185',\n",
       " 'LP_STATUS_FEIN_3.0:-0.007961575050318154',\n",
       " 'SEMIO_FAM:-0.008563523432976825',\n",
       " 'CAMEO_DEU_2015_9B:-0.008795644625260763',\n",
       " 'GEBAEUDETYP:-0.009233114710910598',\n",
       " 'LP_STATUS_FEIN_7.0:-0.00941505817091828',\n",
       " 'CAMEO_DEU_2015_9C:-0.010492325332434233',\n",
       " 'LP_FAMILIE_GROB_4.0:-0.011138082306805023',\n",
       " 'GFK_URLAUBERTYP_4.0:-0.011389023675345342',\n",
       " 'ANREDE_KZ_2:-0.012015894146384558',\n",
       " 'GFK_URLAUBERTYP_10.0:-0.01239409452290542',\n",
       " 'CJT_GESAMTTYP_3.0:-0.013760440337658487',\n",
       " 'CAMEO_DEU_2015_4D:-0.01393722029662679',\n",
       " 'PLZ8_ANTG1:-0.014148699993524394',\n",
       " 'ANREDE_KZ_1:-0.014164635601561523',\n",
       " 'GFK_URLAUBERTYP_11.0:-0.0148001651329997',\n",
       " 'ZABEOTYP_4:-0.01566393192752798',\n",
       " 'CAMEO_DEU_2015_1A:-0.01635244861547615',\n",
       " 'VERS_TYP_1.0:-0.01721012181424753',\n",
       " 'LP_FAMILIE_FEIN_7.0:-0.017280686588224452',\n",
       " 'CAMEO_DEU_2015_4B:-0.017443761690347722',\n",
       " 'NATIONALITAET_KZ_1.0:-0.017487696790784466',\n",
       " 'BALLRAUM:-0.017859895365085074',\n",
       " 'GFK_URLAUBERTYP_9.0:-0.017936130294601452',\n",
       " 'CAMEO_DEU_2015_1B:-0.018703506179145776',\n",
       " 'LP_FAMILIE_FEIN_1.0:-0.018834690174167026',\n",
       " 'CAMEO_DEU_2015_4E:-0.019025574761150788',\n",
       " 'NATIONALITAET_KZ_3.0:-0.019286761906595267',\n",
       " 'KBA05_ANTG3:-0.019610006170413575',\n",
       " 'ANZ_HAUSHALTE_AKTIV:-0.019708440981497093',\n",
       " 'SEMIO_KULT:-0.020593012124280524',\n",
       " 'OST_WEST_KZ_W:-0.023773240564724102',\n",
       " 'CJT_GESAMTTYP_1.0:-0.0246331017816838',\n",
       " 'GFK_URLAUBERTYP_12.0:-0.025559158328219585',\n",
       " 'CJT_GESAMTTYP_5.0:-0.0280863035594468',\n",
       " 'CAMEO_DEU_2015_5A:-0.028664687203943908',\n",
       " 'FINANZ_MINIMALIST:-0.02878620051373753',\n",
       " 'ZABEOTYP_2:-0.030043067535352293',\n",
       " 'ANZ_HH_TITEL:-0.03069579782535387',\n",
       " 'KONSUMNAEHE:-0.030702765305473112',\n",
       " 'CAMEO_DEUG_2015_2:-0.03320103577551175',\n",
       " 'MIN_GEBAEUDEJAHR:-0.035603623498302484',\n",
       " 'LP_FAMILIE_GROB_1.0:-0.0356589156238406',\n",
       " 'GFK_URLAUBERTYP_2.0:-0.03569434974745919',\n",
       " 'CAMEO_DEU_2015_8D:-0.03596664128545966',\n",
       " 'CAMEO_DEU_2015_7E:-0.03724307939529888',\n",
       " 'SEMIO_TRADV:-0.04151009810227568',\n",
       " 'SEMIO_KRIT:-0.04352542248174089',\n",
       " 'SEMIO_MAT:-0.046907126055647216',\n",
       " 'CAMEO_DEU_2015_9A:-0.048363528346880104',\n",
       " 'CJT_GESAMTTYP_4.0:-0.04946974261488561',\n",
       " 'CAMEO_DEU_2015_7A:-0.05080569283685682',\n",
       " 'CAMEO_DEU_2015_6F:-0.0519783823478614',\n",
       " 'SEMIO_SOZ:-0.05229044931984714',\n",
       " 'KBA05_ANTG4:-0.05429490976408585',\n",
       " 'LP_STATUS_GROB_1.0:-0.0552985864796674',\n",
       " 'SEMIO_VERT:-0.05622758388060205',\n",
       " 'NATIONALITAET_KZ_2.0:-0.058459289886924615',\n",
       " 'ANZ_PERSONEN:-0.06082076158341105',\n",
       " 'LP_FAMILIE_FEIN_10.0:-0.06449326614235865',\n",
       " 'KBA05_GBZ:-0.06489331544735627',\n",
       " 'CAMEO_DEU_2015_6E:-0.06683747799312306',\n",
       " 'LP_FAMILIE_FEIN_5.0:-0.0670116494870524',\n",
       " 'GREEN_AVANTGARDE:-0.06880578683975208',\n",
       " 'ARBEIT:-0.07195949435678074',\n",
       " 'PLZ8_HHZ:-0.07278836471478854',\n",
       " 'ALTERSKATEGORIE_GROB:-0.07643515159261888',\n",
       " 'LP_FAMILIE_FEIN_11.0:-0.0810144015609295',\n",
       " 'LP_FAMILIE_FEIN_8.0:-0.08653053746885259',\n",
       " 'CAMEO_DEU_2015_6B:-0.09002800471793795',\n",
       " 'INNENSTADT:-0.09173975681491467',\n",
       " 'CAMEO_DEUG_2015_9:-0.09442520841100446',\n",
       " 'PLZ8_ANTG3:-0.11075538036660847',\n",
       " 'FINANZTYP_1:-0.11578820162738794',\n",
       " 'LP_FAMILIE_GROB_5.0:-0.12166690660841077',\n",
       " 'SEMIO_ERL:-0.16477159362168353',\n",
       " 'LP_FAMILIE_FEIN_6.0:-0.16637547342728984',\n",
       " 'CAMEO_DEU_2015_1C:-0.18444652749827878',\n",
       " 'SHOPPER_TYP_2.0:-0.22360873075214216',\n",
       " 'SHOPPER_TYP_0.0:-0.278163126223045']"
      ]
     },
     "execution_count": 69,
     "metadata": {},
     "output_type": "execute_result"
    }
   ],
   "source": [
    "pcafeature('PC-1')"
   ]
  },
  {
   "cell_type": "code",
   "execution_count": 70,
   "metadata": {},
   "outputs": [
    {
     "data": {
      "text/plain": [
       "['SHOPPER_TYP_0.0:0.38090724179273405',\n",
       " 'CAMEO_DEU_2015_5E:0.2942678923840608',\n",
       " 'CAMEO_DEUG_2015_9:0.22304820200040204',\n",
       " 'SOHO_KZ:0.13663593667600174',\n",
       " 'CAMEO_DEU_2015_4B:0.12868318564282302',\n",
       " 'LP_FAMILIE_FEIN_7.0:0.12528322002860617',\n",
       " 'LP_FAMILIE_FEIN_11.0:0.11988335766294732',\n",
       " 'CJT_GESAMTTYP_3.0:0.11410546716229587',\n",
       " 'ANREDE_KZ_1:0.1070205331573534',\n",
       " 'ANZ_HAUSHALTE_AKTIV:0.10555662488209233',\n",
       " 'VERS_TYP_1.0:0.1051340578528525',\n",
       " 'KKK:0.09835227831391104',\n",
       " 'GFK_URLAUBERTYP_6.0:0.0953684714258227',\n",
       " 'CAMEO_DEU_2015_1D:0.08043835649895696',\n",
       " 'GREEN_AVANTGARDE:0.07703552235672867',\n",
       " 'SEMIO_ERL:0.07365808797345669',\n",
       " 'NATIONALITAET_KZ_2.0:0.07293395744291893',\n",
       " 'LP_FAMILIE_GROB_5.0:0.07178685564949987',\n",
       " 'LP_STATUS_FEIN_10.0:0.0692566926129183',\n",
       " 'CAMEO_DEU_2015_1B:0.06907529110821077',\n",
       " 'CAMEO_DEU_2015_8A:0.06894307567886605',\n",
       " 'CAMEO_DEU_2015_6E:0.06677114021519584',\n",
       " 'CAMEO_DEU_2015_1C:0.06563130399355263',\n",
       " 'CAMEO_DEUG_2015_6:0.06537995575647576',\n",
       " 'LP_FAMILIE_FEIN_5.0:0.06344107125549903',\n",
       " 'KBA13_ANZAHL_PKW:0.06127521940429957',\n",
       " 'NATIONALITAET_KZ_1.0:0.060162336134599724',\n",
       " 'PLZ8_ANTG4:0.05949497692013058',\n",
       " 'FINANZ_SPARER:0.05674228192972611',\n",
       " 'PLZ8_GBZ:0.05072145924591183',\n",
       " 'LP_STATUS_FEIN_1.0:0.04902935668562606',\n",
       " 'LP_FAMILIE_FEIN_4.0:0.04785597288199485',\n",
       " 'LP_STATUS_FEIN_7.0:0.0428944602903096',\n",
       " 'SEMIO_VERT:0.041847746586440894',\n",
       " 'CAMEO_DEU_2015_3A:0.03939334456407384',\n",
       " 'GEBAEUDETYP_RASTER:0.038990042096876294',\n",
       " 'LP_STATUS_GROB_5.0:0.037404485829690956',\n",
       " 'FINANZ_VORSORGER:0.03537492237290795',\n",
       " 'LP_FAMILIE_FEIN_9.0:0.03528184365226038',\n",
       " 'CAMEO_DEU_2015_7E:0.03407642419972566',\n",
       " 'CAMEO_DEU_2015_7C:0.03390267390817794',\n",
       " 'SEMIO_FAM:0.03378014192501092',\n",
       " 'ZABEOTYP_3:0.032770936871280056',\n",
       " 'CAMEO_DEU_2015_2A:0.031999989022264495',\n",
       " 'CAMEO_DEU_2015_6C:0.0319341935918938',\n",
       " 'CAMEO_DEU_2015_8D:0.031495836249573125',\n",
       " 'CAMEO_DEU_2015_9C:0.030825006471291386',\n",
       " 'CJT_GESAMTTYP_4.0:0.027729006313084646',\n",
       " 'EWDICHTE:0.026893191323008672',\n",
       " 'CAMEO_DEU_2015_6F:0.02683321297591566',\n",
       " 'LP_FAMILIE_FEIN_2.0:0.026635641404097046',\n",
       " 'VERS_TYP_2.0:0.02635453857906296',\n",
       " 'MOBI_REGIO:0.02624226985752867',\n",
       " 'CAMEO_DEUG_2015_8:0.02538981369989746',\n",
       " 'GFK_URLAUBERTYP_8.0:0.024665427332465257',\n",
       " 'CAMEO_DEU_2015_5A:0.024540619217376262',\n",
       " 'SEMIO_PFLICHT:0.02401065512097283',\n",
       " 'PLZ8_HHZ:0.023979442070030787',\n",
       " 'LP_STATUS_FEIN_8.0:0.022922538210650024',\n",
       " 'REGIOTYP:0.022199651931712677',\n",
       " 'WOHNDAUER_2008:0.022030764334102376',\n",
       " 'CAMEO_DEUG_2015_5:0.021998088729793894',\n",
       " 'CAMEO_DEU_2015_7B:0.02007033620473624',\n",
       " 'GFK_URLAUBERTYP_10.0:0.019285243542059127',\n",
       " 'FINANZTYP_4:0.016876809968567285',\n",
       " 'LP_FAMILIE_FEIN_10.0:0.014230901324731924',\n",
       " 'CAMEO_DEU_2015_4C:0.014223113476684021',\n",
       " 'KBA05_ANTG1:0.014102785662140694',\n",
       " 'FINANZTYP_3:0.013143970911641866',\n",
       " 'CAMEO_INTL_2015_stage:0.012686680528293153',\n",
       " 'CAMEO_DEU_2015_2B:0.012621285975071393',\n",
       " 'FINANZ_ANLEGER:0.012024503328874907',\n",
       " 'LP_STATUS_FEIN_9.0:0.010853061538615783',\n",
       " 'CAMEO_DEU_2015_7D:0.010732383065401056',\n",
       " 'LP_FAMILIE_GROB_4.0:0.010069167687895399',\n",
       " 'LP_FAMILIE_GROB_1.0:0.009350415333821383',\n",
       " 'CAMEO_DEU_2015_9D:0.0067316297845761925',\n",
       " 'CAMEO_DEU_2015_4D:0.006103197426072701',\n",
       " 'CAMEO_DEU_2015_1A:0.00605917662519089',\n",
       " 'CAMEO_DEU_2015_9E:0.005163474104200748',\n",
       " 'CAMEO_DEUG_2015_7:0.004348972972531124',\n",
       " 'SHOPPER_TYP_1.0:0.0033519424108360792',\n",
       " 'FINANZ_UNAUFFAELLIGER:0.0032790257017620587',\n",
       " 'FINANZ_HAUSBAUER:0.0030511433718041986',\n",
       " 'SEMIO_KRIT:0.0024902410818731903',\n",
       " 'LP_FAMILIE_FEIN_1.0:0.002420828722542035',\n",
       " 'ARBEIT:0.0022965114571230952',\n",
       " 'LP_FAMILIE_FEIN_8.0:0.0016159154832251668',\n",
       " 'BALLRAUM:0.0012691797989421276',\n",
       " 'CAMEO_DEU_2015_8B:0.0009598782170668534',\n",
       " 'CAMEO_DEU_2015_8C:0.000717313800519884',\n",
       " 'SEMIO_KAEM:0.000519251769795286',\n",
       " 'CAMEO_DEUG_2015_4:-0.0005149363213807975',\n",
       " 'CJT_GESAMTTYP_6.0:-0.0005263184421770946',\n",
       " 'CAMEO_DEU_2015_5D:-0.0010933369994057607',\n",
       " 'ANREDE_KZ_2:-0.0013688245277929322',\n",
       " 'ANZ_HH_TITEL:-0.001416103767826946',\n",
       " 'LP_STATUS_GROB_2.0:-0.0018280920373564419',\n",
       " 'GFK_URLAUBERTYP_2.0:-0.002185653543796964',\n",
       " 'CAMEO_DEU_2015_6A:-0.002757173334876539',\n",
       " 'ZABEOTYP_6:-0.002835121979068662',\n",
       " 'ZABEOTYP_4:-0.003433794046540142',\n",
       " 'FINANZ_MINIMALIST:-0.003963171651047456',\n",
       " 'CAMEO_DEU_2015_3B:-0.004626696099846152',\n",
       " 'PLZ8_ANTG3:-0.0048797893522660165',\n",
       " 'SHOPPER_TYP_3.0:-0.0050092071488632445',\n",
       " 'GFK_URLAUBERTYP_5.0:-0.005291258712868763',\n",
       " 'KBA05_ANTG3:-0.006180593902957087',\n",
       " 'CAMEO_DEU_2015_2C:-0.006680560805814772',\n",
       " 'SEMIO_TRADV:-0.007146343370061457',\n",
       " 'SEMIO_REL:-0.007316948607396833',\n",
       " 'GEBAEUDETYP:-0.007578971675411391',\n",
       " 'CAMEO_DEU_2015_1E:-0.008045000594243849',\n",
       " 'CAMEO_DEU_2015_4A:-0.00811163773857902',\n",
       " 'W_KEIT_KIND_HH:-0.008119580319230124',\n",
       " 'CAMEO_DEU_2015_9B:-0.008166264420975884',\n",
       " 'GFK_URLAUBERTYP_4.0:-0.008710814279464957',\n",
       " 'CAMEO_DEU_2015_5C:-0.009583415059295969',\n",
       " 'LP_FAMILIE_GROB_2.0:-0.011004847749903129',\n",
       " 'CAMEO_DEUG_2015_3:-0.011036400843580187',\n",
       " 'CAMEO_DEU_2015_7A:-0.011450208110333801',\n",
       " 'LP_STATUS_GROB_3.0:-0.011609884808797648',\n",
       " 'SEMIO_DOM:-0.01267447584089084',\n",
       " 'ORTSGR_KLS9:-0.014100983651902438',\n",
       " 'ZABEOTYP_1:-0.015136589288779258',\n",
       " 'OST_WEST_KZ_O:-0.015179697457728793',\n",
       " 'PRAEGENDE_JUGENDJAHRE_decade:-0.015493185449462429',\n",
       " 'LP_FAMILIE_GROB_3.0:-0.01567647824402642',\n",
       " 'RETOURTYP_BK_S:-0.015936501584746875',\n",
       " 'ZABEOTYP_5:-0.01816861515465461',\n",
       " 'LP_STATUS_FEIN_6.0:-0.018461881626935534',\n",
       " 'GFK_URLAUBERTYP_9.0:-0.019787759235671065',\n",
       " 'SEMIO_SOZ:-0.02006477944900227',\n",
       " 'CAMEO_DEUG_2015_1:-0.02014219109706522',\n",
       " 'ANZ_PERSONEN:-0.021305553183227736',\n",
       " 'LP_STATUS_FEIN_4.0:-0.0226454236342811',\n",
       " 'LP_STATUS_FEIN_3.0:-0.022838971121225515',\n",
       " 'PLZ8_ANTG2:-0.023104039472796923',\n",
       " 'CAMEO_DEU_2015_9A:-0.023316759973218363',\n",
       " 'MIN_GEBAEUDEJAHR:-0.023699185622091543',\n",
       " 'CAMEO_DEU_2015_3C:-0.023851041535798447',\n",
       " 'CJT_GESAMTTYP_5.0:-0.024320422958654084',\n",
       " 'CAMEO_DEU_2015_3D:-0.02523376634204594',\n",
       " 'KBA05_ANTG2:-0.025852235472856536',\n",
       " 'LP_STATUS_FEIN_5.0:-0.026079478119386115',\n",
       " 'GFK_URLAUBERTYP_3.0:-0.0275784262668433',\n",
       " 'INNENSTADT:-0.027791544635438873',\n",
       " 'GFK_URLAUBERTYP_11.0:-0.030015277367349377',\n",
       " 'FINANZTYP_2:-0.03026432404450393',\n",
       " 'CAMEO_DEU_2015_6D:-0.03150000291905372',\n",
       " 'RELAT_AB:-0.03566762973345001',\n",
       " 'KONSUMNAEHE:-0.03962317747157923',\n",
       " 'HH_EINKOMMEN_SCORE:-0.03994724476863281',\n",
       " 'GFK_URLAUBERTYP_12.0:-0.040600370800511654',\n",
       " 'CAMEO_DEU_2015_2D:-0.04366940426901429',\n",
       " 'HEALTH_TYP:-0.043922032513912926',\n",
       " 'GFK_URLAUBERTYP_1.0:-0.04396700698080585',\n",
       " 'SEMIO_LUST:-0.04499573299257892',\n",
       " 'CJT_GESAMTTYP_1.0:-0.04656995172602159',\n",
       " 'ZABEOTYP_2:-0.04898975820035637',\n",
       " 'CAMEO_DEU_2015_4E:-0.04907266824897762',\n",
       " 'FINANZTYP_6:-0.04953244679837431',\n",
       " 'FINANZTYP_5:-0.05003301140139172',\n",
       " 'LP_STATUS_GROB_4.0:-0.050199635070216936',\n",
       " 'KBA05_GBZ:-0.0537806594021641',\n",
       " 'KBA05_ANTG4:-0.05412430506333067',\n",
       " 'NATIONALITAET_KZ_3.0:-0.05539069377909176',\n",
       " 'LP_STATUS_FEIN_2.0:-0.05727102004837743',\n",
       " 'PRAEGENDE_JUGENDJAHRE_movement:-0.05975271315900403',\n",
       " 'OST_WEST_KZ_W:-0.06046381532414828',\n",
       " 'CAMEO_DEUG_2015_2:-0.060644305958973875',\n",
       " 'CAMEO_INTL_2015_wealth:-0.06559714177304618',\n",
       " 'ONLINE_AFFINITAET:-0.07011545293985415',\n",
       " 'CAMEO_DEU_2015_5B:-0.07593975519013071',\n",
       " 'LP_STATUS_GROB_1.0:-0.08052284239369842',\n",
       " 'PLZ8_ANTG1:-0.08357147689908943',\n",
       " 'GFK_URLAUBERTYP_7.0:-0.08644543277013698',\n",
       " 'CJT_GESAMTTYP_2.0:-0.09005659795019691',\n",
       " 'LP_FAMILIE_FEIN_3.0:-0.09088301784239276',\n",
       " 'SEMIO_MAT:-0.09524552237061486',\n",
       " 'SEMIO_KULT:-0.1105837838821266',\n",
       " 'LP_FAMILIE_FEIN_6.0:-0.11853368569933136',\n",
       " 'SHOPPER_TYP_2.0:-0.1197547224185312',\n",
       " 'SEMIO_RAT:-0.12579629063393627',\n",
       " 'FINANZTYP_1:-0.14562753359027777',\n",
       " 'CAMEO_DEU_2015_5F:-0.16993827203207362',\n",
       " 'ALTERSKATEGORIE_GROB:-0.19295347449362374',\n",
       " 'CAMEO_DEU_2015_6B:-0.25938966448698214',\n",
       " 'ANZ_TITEL:-0.3272184017796621']"
      ]
     },
     "execution_count": 70,
     "metadata": {},
     "output_type": "execute_result"
    }
   ],
   "source": [
    "# Map weights for the second principal component to corresponding feature names\n",
    "# and then print the linked values, sorted by weight.\n",
    "\n",
    "pcafeature('PC-2')"
   ]
  },
  {
   "cell_type": "code",
   "execution_count": 71,
   "metadata": {
    "scrolled": true
   },
   "outputs": [
    {
     "data": {
      "text/plain": [
       "['LP_STATUS_GROB_4.0:0.31474357445513257',\n",
       " 'CAMEO_DEU_2015_1C:0.2972845016198653',\n",
       " 'CAMEO_DEU_2015_8A:0.28108435433779805',\n",
       " 'SHOPPER_TYP_2.0:0.2729410451167516',\n",
       " 'CAMEO_DEU_2015_6F:0.20913350636854103',\n",
       " 'WOHNDAUER_2008:0.11982069129462941',\n",
       " 'PLZ8_HHZ:0.11174979333850853',\n",
       " 'PLZ8_ANTG1:0.11014509260996645',\n",
       " 'ALTERSKATEGORIE_GROB:0.1094644261462797',\n",
       " 'ONLINE_AFFINITAET:0.1016642671459833',\n",
       " 'CAMEO_DEU_2015_6A:0.09784060137754984',\n",
       " 'SEMIO_KRIT:0.0918136685619633',\n",
       " 'LP_FAMILIE_FEIN_8.0:0.09139958095466484',\n",
       " 'LP_FAMILIE_FEIN_11.0:0.09034894491505557',\n",
       " 'ANREDE_KZ_1:0.08799308347500323',\n",
       " 'SOHO_KZ:0.08616318070584651',\n",
       " 'CJT_GESAMTTYP_4.0:0.08469351467688738',\n",
       " 'SEMIO_RAT:0.07584114930135522',\n",
       " 'ORTSGR_KLS9:0.0725049551154223',\n",
       " 'GFK_URLAUBERTYP_4.0:0.06586977022744035',\n",
       " 'LP_FAMILIE_GROB_4.0:0.0624556391867333',\n",
       " 'LP_FAMILIE_FEIN_5.0:0.06083941862379789',\n",
       " 'KBA13_ANZAHL_PKW:0.05735220621780668',\n",
       " 'SHOPPER_TYP_0.0:0.054371640784559125',\n",
       " 'CAMEO_DEU_2015_2D:0.054215741212607096',\n",
       " 'CAMEO_DEUG_2015_3:0.05334135886202879',\n",
       " 'LP_STATUS_GROB_5.0:0.05235993173188621',\n",
       " 'ZABEOTYP_2:0.05083923565113187',\n",
       " 'VERS_TYP_1.0:0.049739968448065296',\n",
       " 'CAMEO_DEU_2015_3D:0.04862464518830709',\n",
       " 'GEBAEUDETYP_RASTER:0.04809440550917024',\n",
       " 'CAMEO_DEU_2015_5F:0.04711487470051342',\n",
       " 'NATIONALITAET_KZ_2.0:0.04588172267337017',\n",
       " 'RETOURTYP_BK_S:0.04525572668333522',\n",
       " 'PLZ8_GBZ:0.04416024503630676',\n",
       " 'GFK_URLAUBERTYP_3.0:0.04411685957404564',\n",
       " 'LP_FAMILIE_GROB_5.0:0.04239002951515605',\n",
       " 'CJT_GESAMTTYP_6.0:0.03669292462563335',\n",
       " 'REGIOTYP:0.03667207477981004',\n",
       " 'GFK_URLAUBERTYP_6.0:0.036258752023547',\n",
       " 'LP_STATUS_GROB_3.0:0.03522365158882845',\n",
       " 'ZABEOTYP_3:0.03454083320221585',\n",
       " 'CAMEO_DEU_2015_5C:0.03252841492159979',\n",
       " 'HH_EINKOMMEN_SCORE:0.031077121254372612',\n",
       " 'CAMEO_DEUG_2015_8:0.030151973655298946',\n",
       " 'KBA05_ANTG4:0.029541024210321915',\n",
       " 'LP_FAMILIE_FEIN_4.0:0.029374997621155436',\n",
       " 'NATIONALITAET_KZ_3.0:0.028571628444021592',\n",
       " 'LP_STATUS_GROB_2.0:0.028346718092882625',\n",
       " 'BALLRAUM:0.02790331368156927',\n",
       " 'LP_FAMILIE_FEIN_1.0:0.027081657103407993',\n",
       " 'CAMEO_DEU_2015_7E:0.026343848749948433',\n",
       " 'CAMEO_DEU_2015_9A:0.025184281303793847',\n",
       " 'CAMEO_DEU_2015_3C:0.023773258431570028',\n",
       " 'FINANZ_SPARER:0.021131646638088575',\n",
       " 'CAMEO_DEUG_2015_2:0.02096941713892335',\n",
       " 'ANREDE_KZ_2:0.020720828812308117',\n",
       " 'SEMIO_FAM:0.01715591836831069',\n",
       " 'SEMIO_VERT:0.016876573665585457',\n",
       " 'NATIONALITAET_KZ_1.0:0.0163552996792491',\n",
       " 'KKK:0.016234878011763827',\n",
       " 'CAMEO_DEU_2015_6E:0.015974320407508243',\n",
       " 'CAMEO_DEU_2015_2A:0.015057786289268746',\n",
       " 'ZABEOTYP_4:0.013810436916655969',\n",
       " 'LP_FAMILIE_FEIN_10.0:0.013749020701418665',\n",
       " 'KBA05_ANTG2:0.013701786787999735',\n",
       " 'ANZ_TITEL:0.01355455761399687',\n",
       " 'LP_STATUS_FEIN_8.0:0.01314146660754016',\n",
       " 'EWDICHTE:0.012683632007269841',\n",
       " 'ARBEIT:0.012553056443011894',\n",
       " 'CAMEO_DEU_2015_4A:0.012514377435483259',\n",
       " 'LP_FAMILIE_GROB_2.0:0.010742330968749348',\n",
       " 'GFK_URLAUBERTYP_2.0:0.010388721464489034',\n",
       " 'PLZ8_ANTG4:0.009357592536245898',\n",
       " 'CAMEO_DEUG_2015_4:0.009299717248442668',\n",
       " 'FINANZ_UNAUFFAELLIGER:0.0074833312873376625',\n",
       " 'PLZ8_ANTG2:0.0070749031972243085',\n",
       " 'KBA05_ANTG1:0.006886091302314988',\n",
       " 'FINANZ_ANLEGER:0.006775184952817857',\n",
       " 'LP_STATUS_FEIN_5.0:0.005786180458939878',\n",
       " 'CAMEO_DEU_2015_9D:0.00531996381878179',\n",
       " 'LP_FAMILIE_GROB_3.0:0.005130119120243519',\n",
       " 'SEMIO_DOM:0.004985602412798339',\n",
       " 'LP_FAMILIE_GROB_1.0:0.004836606270730062',\n",
       " 'SEMIO_KAEM:0.004482355355958338',\n",
       " 'ZABEOTYP_6:0.0042632805101040444',\n",
       " 'CAMEO_DEU_2015_5D:0.004205986902664836',\n",
       " 'CAMEO_DEUG_2015_6:0.004168569672689203',\n",
       " 'CAMEO_DEU_2015_4C:0.004112942613043326',\n",
       " 'CAMEO_DEU_2015_4D:0.0037493358078304322',\n",
       " 'SEMIO_MAT:0.0036845675905463372',\n",
       " 'FINANZTYP_3:0.003438058388408298',\n",
       " 'SHOPPER_TYP_3.0:0.003277196320533437',\n",
       " 'ZABEOTYP_5:0.002714494944148813',\n",
       " 'MIN_GEBAEUDEJAHR:0.0025427438354001693',\n",
       " 'ANZ_PERSONEN:0.0020750856377491043',\n",
       " 'GREEN_AVANTGARDE:0.0016069010888687843',\n",
       " 'CAMEO_DEUG_2015_1:0.0012670665230955927',\n",
       " 'FINANZ_HAUSBAUER:0.0010329001957268833',\n",
       " 'KBA05_ANTG3:0.0009154240349588798',\n",
       " 'CAMEO_DEU_2015_9E:0.0007839008211483019',\n",
       " 'SHOPPER_TYP_1.0:0.0006455427633661444',\n",
       " 'GEBAEUDETYP:0.0005134822015057648',\n",
       " 'LP_STATUS_FEIN_9.0:0.0004369865693293099',\n",
       " 'ANZ_HH_TITEL:-0.0003820591258327512',\n",
       " 'CAMEO_DEU_2015_8C:-0.0004523729871206592',\n",
       " 'LP_FAMILIE_FEIN_9.0:-0.0012078007022878956',\n",
       " 'PLZ8_ANTG3:-0.0020766993695812376',\n",
       " 'CAMEO_DEU_2015_3A:-0.002135968643078554',\n",
       " 'RELAT_AB:-0.003901412732250909',\n",
       " 'CAMEO_DEU_2015_6B:-0.0039306043804105744',\n",
       " 'CAMEO_DEU_2015_5E:-0.004271418590591585',\n",
       " 'CAMEO_DEU_2015_8D:-0.00546158966291056',\n",
       " 'CJT_GESAMTTYP_2.0:-0.005692638361542387',\n",
       " 'LP_STATUS_FEIN_7.0:-0.006005704644810615',\n",
       " 'GFK_URLAUBERTYP_10.0:-0.0060724573114003125',\n",
       " 'ZABEOTYP_1:-0.00613524058122351',\n",
       " 'LP_STATUS_FEIN_6.0:-0.00658316659499478',\n",
       " 'PRAEGENDE_JUGENDJAHRE_decade:-0.006750359077144189',\n",
       " 'LP_STATUS_GROB_1.0:-0.007970249618272958',\n",
       " 'SEMIO_KULT:-0.009003804905786837',\n",
       " 'HEALTH_TYP:-0.009286588883777404',\n",
       " 'CJT_GESAMTTYP_3.0:-0.009486666401080923',\n",
       " 'FINANZTYP_2:-0.009625603042049553',\n",
       " 'LP_STATUS_FEIN_2.0:-0.010266292151300796',\n",
       " 'OST_WEST_KZ_O:-0.01121086470031419',\n",
       " 'CAMEO_DEU_2015_4E:-0.01170552394940265',\n",
       " 'CAMEO_DEU_2015_6C:-0.013142887920529455',\n",
       " 'GFK_URLAUBERTYP_1.0:-0.01382400181513924',\n",
       " 'CJT_GESAMTTYP_1.0:-0.014137548916063919',\n",
       " 'CAMEO_DEU_2015_7C:-0.014599347170556533',\n",
       " 'CAMEO_DEU_2015_2C:-0.01552987857455653',\n",
       " 'CAMEO_DEU_2015_3B:-0.01849030062067076',\n",
       " 'PRAEGENDE_JUGENDJAHRE_movement:-0.019364432143842984',\n",
       " 'CJT_GESAMTTYP_5.0:-0.019384444542821337',\n",
       " 'SEMIO_TRADV:-0.02230872999042165',\n",
       " 'CAMEO_DEU_2015_9B:-0.0224253973440967',\n",
       " 'LP_STATUS_FEIN_4.0:-0.02326377204289958',\n",
       " 'FINANZTYP_5:-0.023473620319476664',\n",
       " 'CAMEO_DEU_2015_2B:-0.023789652742231552',\n",
       " 'CAMEO_DEU_2015_5B:-0.02416776407488009',\n",
       " 'FINANZ_VORSORGER:-0.025388977829693453',\n",
       " 'LP_STATUS_FEIN_1.0:-0.02672534762326078',\n",
       " 'CAMEO_DEU_2015_7B:-0.026969236058655307',\n",
       " 'ANZ_HAUSHALTE_AKTIV:-0.02699909685315177',\n",
       " 'KONSUMNAEHE:-0.02733204397273067',\n",
       " 'LP_FAMILIE_FEIN_6.0:-0.027533502697198915',\n",
       " 'SEMIO_ERL:-0.028861838403560006',\n",
       " 'VERS_TYP_2.0:-0.029064084442955024',\n",
       " 'FINANZTYP_6:-0.030604561433501196',\n",
       " 'OST_WEST_KZ_W:-0.03078118213520175',\n",
       " 'GFK_URLAUBERTYP_8.0:-0.03440378399908022',\n",
       " 'CAMEO_DEU_2015_1D:-0.03565540551185237',\n",
       " 'LP_FAMILIE_FEIN_7.0:-0.037817685348622274',\n",
       " 'W_KEIT_KIND_HH:-0.038234073380908014',\n",
       " 'CAMEO_DEU_2015_7A:-0.038940854396081845',\n",
       " 'MOBI_REGIO:-0.04047777595419112',\n",
       " 'FINANZ_MINIMALIST:-0.04104483971242424',\n",
       " 'LP_STATUS_FEIN_3.0:-0.04144181559502098',\n",
       " 'CAMEO_DEU_2015_1A:-0.042165046406601285',\n",
       " 'SEMIO_SOZ:-0.043783646904316194',\n",
       " 'CAMEO_DEU_2015_8B:-0.04695148365466809',\n",
       " 'INNENSTADT:-0.047528103577625345',\n",
       " 'CAMEO_DEU_2015_7D:-0.04970493042840244',\n",
       " 'CAMEO_INTL_2015_stage:-0.05180027441663388',\n",
       " 'CAMEO_DEU_2015_1E:-0.05483152690010863',\n",
       " 'LP_FAMILIE_FEIN_2.0:-0.058807617526673024',\n",
       " 'SEMIO_REL:-0.06093742244174951',\n",
       " 'GFK_URLAUBERTYP_5.0:-0.06181897063720004',\n",
       " 'CAMEO_DEU_2015_5A:-0.06260931376232956',\n",
       " 'CAMEO_DEUG_2015_5:-0.06554358076661732',\n",
       " 'CAMEO_DEU_2015_9C:-0.06816288551720245',\n",
       " 'KBA05_GBZ:-0.06984055761128648',\n",
       " 'GFK_URLAUBERTYP_9.0:-0.0720993410730427',\n",
       " 'FINANZTYP_1:-0.07578825253392159',\n",
       " 'CAMEO_DEU_2015_4B:-0.07658876711957302',\n",
       " 'LP_FAMILIE_FEIN_3.0:-0.08220261627241641',\n",
       " 'SEMIO_PFLICHT:-0.08935041617566251',\n",
       " 'GFK_URLAUBERTYP_7.0:-0.09437431071125363',\n",
       " 'SEMIO_LUST:-0.10178079740309047',\n",
       " 'CAMEO_INTL_2015_wealth:-0.1053656464192244',\n",
       " 'GFK_URLAUBERTYP_11.0:-0.10792774257384918',\n",
       " 'LP_STATUS_FEIN_10.0:-0.11153897987061134',\n",
       " 'CAMEO_DEUG_2015_7:-0.14150432648503944',\n",
       " 'CAMEO_DEUG_2015_9:-0.1479605406514577',\n",
       " 'GFK_URLAUBERTYP_12.0:-0.15070756088326695',\n",
       " 'FINANZTYP_4:-0.15732568461584837',\n",
       " 'CAMEO_DEU_2015_1B:-0.30625456631578907',\n",
       " 'CAMEO_DEU_2015_6D:-0.34877351254032835']"
      ]
     },
     "execution_count": 71,
     "metadata": {},
     "output_type": "execute_result"
    }
   ],
   "source": [
    "# Map weights for the third principal component to corresponding feature names\n",
    "# and then print the linked values, sorted by weight.\n",
    "\n",
    "pcafeature('PC-3')"
   ]
  },
  {
   "cell_type": "markdown",
   "metadata": {},
   "source": [
    "### Discussion 2.3: Interpret Principal Components\n",
    "\n",
    "Most impacted features on top 3 PCs are:\n",
    "1. CP1: ``CAMEO_DEU_2015_6D``:0.22701748881995065 and ``CAMEO_DEU_2015_6B``:-0.28888982896362003\n",
    "    - CAMEO_DEU_2015_6D: German CAMEO: Wealth / Life Stage Typology--Sportgardener\n",
    "    - CAMEO_DEU_2015_6B: German CAMEO: Wealth / Life Stage Typology--Petty Bourgeois\n",
    "2. CP2: ``SHOPPER_TYP_0.0``:0.546696768276738 and ``ANZ_TITEL``:-0.32732590461506983\n",
    "    - SHOPPER_TYP_0.0:Shopper typology--external supplied hedonists\n",
    "    - Number of professional academic title holders in household\n",
    "3. PC3:``CAMEO_DEU_2015_8A``:0.23209897490378423 and ``CAMEO_DEU_2015_6D``:-0.17186415555244877\n",
    "    - CAMEO_DEU_2015_8A: German CAMEO: Wealth / Life Stage Typology, detailed scale--Multi-culteral\n",
    "    - CAMEO_DEU_2015_6D: German CAMEO: Wealth / Life Stage Typology, detailed scale--Sportgardener\n",
    "\n",
    "\n",
    "Positive loadings indicate a variable and a principal component are positively correlated: an increase in one results in an increase in the other. Negative loadings indicate a negative correlation. Large (either positive or negative) loadings indicate that a variable has a strong effect on that principal component.\n",
    "\n",
    "We can see a general negative correlationship through some of them by their descriptions. For example: the more a person like to be a external supplied hedonists (``SHOPPER_TYP_0.0``) the less people have professional academic title in householdlower (``ANZ_TITEL``), consider they will spend more of their time doing doing what they like to do.\n",
    "\n",
    "Still, not all the correlationship and patterns are clear at this point."
   ]
  },
  {
   "cell_type": "markdown",
   "metadata": {},
   "source": [
    "## Step 3: Clustering\n",
    "\n",
    "### Step 3.1: Apply Clustering to General Population\n",
    "\n",
    "You've assessed and cleaned the demographics data, then scaled and transformed them. Now, it's time to see how the data clusters in the principal components space. In this substep, you will apply k-means clustering to the dataset and use the average within-cluster distances from each point to their assigned cluster's centroid to decide on a number of clusters to keep.\n",
    "\n",
    "- Use sklearn's [KMeans](http://scikit-learn.org/stable/modules/generated/sklearn.cluster.KMeans.html#sklearn.cluster.KMeans) class to perform k-means clustering on the PCA-transformed data.\n",
    "- Then, compute the average difference from each point to its assigned cluster's center. **Hint**: The KMeans object's `.score()` method might be useful here, but note that in sklearn, scores tend to be defined so that larger is better. Try applying it to a small, toy dataset, or use an internet search to help your understanding.\n",
    "- Perform the above two steps for a number of different cluster counts. You can then see how the average distance decreases with an increasing number of clusters. However, each additional cluster provides a smaller net benefit. Use this fact to select a final number of clusters in which to group the data. **Warning**: because of the large size of the dataset, it can take a long time for the algorithm to resolve. The more clusters to fit, the longer the algorithm will take. You should test for cluster counts through at least 10 clusters to get the full picture, but you shouldn't need to test for a number of clusters above about 30.\n",
    "- Once you've selected a final number of clusters to use, re-fit a KMeans instance to perform the clustering operation. Make sure that you also obtain the cluster assignments for the general demographics data, since you'll be using them in the final Step 3.3."
   ]
  },
  {
   "cell_type": "code",
   "execution_count": 72,
   "metadata": {},
   "outputs": [],
   "source": [
    "# split subset for efficiency\n",
    "pca_copydf_sub=pca_copydf[:int(pca_copydf.shape[0]*.1),:]"
   ]
  },
  {
   "cell_type": "code",
   "execution_count": 73,
   "metadata": {},
   "outputs": [],
   "source": [
    "# function for recording average within-cluster distances\n",
    "def kmeans(range_upper_bounds):\n",
    "    time0=time()\n",
    "    scores=[]\n",
    "    for i in np.arange(1,range_upper_bounds,1):\n",
    "        # run k-means clustering on the data and...\n",
    "        kmeans=KMeans(n_clusters=i).fit(pca_copydf_sub)\n",
    "        # compute the average within-cluster distances.\n",
    "        scores.append(abs(kmeans.score(pca_copydf_sub)))\n",
    "    print('duration:{:.3f}'.format(time()-time0))\n",
    "    # Investigate the change in within-cluster distance across number of clusters.\n",
    "    # HINT: Use matplotlib's plot function to visualize this relationship.\n",
    "    sns.lineplot(np.arange(1,range_upper_bounds,1),scores)\n",
    "    plt.title('average distance vs number of clusters')\n",
    "    plt.ylabel('distance')\n",
    "    plt.xlabel('clusters')"
   ]
  },
  {
   "cell_type": "code",
   "execution_count": 74,
   "metadata": {
    "scrolled": true
   },
   "outputs": [
    {
     "name": "stdout",
     "output_type": "stream",
     "text": [
      "duration:235.936\n"
     ]
    },
    {
     "data": {
      "image/png": "[encoded data removed]",
      "text/plain": [
       "<Figure size 432x288 with 1 Axes>"
      ]
     },
     "metadata": {
      "needs_background": "light"
     },
     "output_type": "display_data"
    }
   ],
   "source": [
    "'''input: number of clusters you want to try at most (start at 2)'''\n",
    "kmeans(15)"
   ]
  },
  {
   "cell_type": "code",
   "execution_count": 75,
   "metadata": {},
   "outputs": [],
   "source": [
    "# Re-fit the k-means model with the selected number of clusters and obtain\n",
    "# cluster predictions for the general population demographics data.\n",
    "kmeans_10=KMeans(n_clusters=10).fit(pca_copydf)\n",
    "predictions=kmeans_10.predict(pca_copydf)"
   ]
  },
  {
   "cell_type": "code",
   "execution_count": 76,
   "metadata": {
    "scrolled": true
   },
   "outputs": [
    {
     "data": {
      "text/plain": [
       "array([8, 1, 9, ..., 1, 6, 5])"
      ]
     },
     "execution_count": 76,
     "metadata": {},
     "output_type": "execute_result"
    }
   ],
   "source": [
    "predictions"
   ]
  },
  {
   "cell_type": "markdown",
   "metadata": {},
   "source": [
    "### Discussion 3.1: Apply Clustering to General Population\n",
    "\n",
    "Elbow method shows the average distance between samples and centroid dropped gradually with number of clusters increased. Although there is a relative 'elbow' around cluster 2, it is still not very obvious. Due to the fact, I decided to take 10 clusters as the threshold so it can capture majority cohorts and not overfit."
   ]
  },
  {
   "cell_type": "markdown",
   "metadata": {},
   "source": [
    "### Step 3.2: Apply All Steps to the Customer Data\n",
    "\n",
    "Now that you have clusters and cluster centers for the general population, it's time to see how the customer data maps on to those clusters. Take care to not confuse this for re-fitting all of the models to the customer data. Instead, you're going to use the fits from the general population to clean, transform, and cluster the customer data. In the last step of the project, you will interpret how the general population fits apply to the customer data.\n",
    "\n",
    "- Don't forget when loading in the customers data, that it is semicolon (`;`) delimited.\n",
    "- Apply the same feature wrangling, selection, and engineering steps to the customer demographics using the `clean_data()` function you created earlier. (You can assume that the customer demographics data has similar meaning behind missing data patterns as the general demographics data.)\n",
    "- Use the sklearn objects from the general demographics data, and apply their transformations to the customers data. That is, you should not be using a `.fit()` or `.fit_transform()` method to re-fit the old objects, nor should you be creating new sklearn objects! Carry the data through the feature scaling, PCA, and clustering steps, obtaining cluster assignments for all of the data in the customer demographics data."
   ]
  },
  {
   "cell_type": "code",
   "execution_count": 77,
   "metadata": {},
   "outputs": [],
   "source": [
    "# Load in the customer demographics data.\n",
    "customers = pd.read_csv('Udacity_CUSTOMERS_Subset.csv',sep=';')"
   ]
  },
  {
   "cell_type": "code",
   "execution_count": 78,
   "metadata": {},
   "outputs": [
    {
     "name": "stdout",
     "output_type": "stream",
     "text": [
      "(141640, 189) (50012, 79)\n"
     ]
    }
   ],
   "source": [
    "# Apply preprocessing, feature transformation, and clustering from the general\n",
    "# demographics onto the customer data, obtaining cluster predictions for the\n",
    "# customer demographics data.\n",
    "customers_clean, customers_m=clean_data(customers)"
   ]
  },
  {
   "cell_type": "code",
   "execution_count": 79,
   "metadata": {},
   "outputs": [
    {
     "data": {
      "text/plain": [
       "array([3, 2, 9, ..., 3, 2, 9])"
      ]
     },
     "execution_count": 79,
     "metadata": {},
     "output_type": "execute_result"
    }
   ],
   "source": [
    "# imput nan\n",
    "customers_imput=imp.transform(customers_clean)\n",
    "# StandardScaler with parameters\n",
    "customers_scal=scaler_impute.transform(customers_imput)\n",
    "# PCA 92 features\n",
    "customers_pca=pca91.transform(customers_scal)\n",
    "# KMeans clusters with 10 clusters\n",
    "customers_pre=kmeans_10.predict(customers_pca)\n",
    "customers_pre"
   ]
  },
  {
   "cell_type": "markdown",
   "metadata": {},
   "source": [
    "### Step 3.3: Compare Customer Data to Demographics Data\n",
    "\n",
    "At this point, you have clustered data based on demographics of the general population of Germany, and seen how the customer data for a mail-order sales company maps onto those demographic clusters. In this final substep, you will compare the two cluster distributions to see where the strongest customer base for the company is.\n",
    "\n",
    "Consider the proportion of persons in each cluster for the general population, and the proportions for the customers. If we think the company's customer base to be universal, then the cluster assignment proportions should be fairly similar between the two. If there are only particular segments of the population that are interested in the company's products, then we should see a mismatch from one to the other. If there is a higher proportion of persons in a cluster for the customer data compared to the general population (e.g. 5% of persons are assigned to a cluster for the general population, but 15% of the customer data is closest to that cluster's centroid) then that suggests the people in that cluster to be a target audience for the company. On the other hand, the proportion of the data in a cluster being larger in the general population than the customer data (e.g. only 2% of customers closest to a population centroid that captures 6% of the data) suggests that group of persons to be outside of the target demographics.\n",
    "\n",
    "Take a look at the following points in this step:\n",
    "\n",
    "- Compute the proportion of data points in each cluster for the general population and the customer data. Visualizations will be useful here: both for the individual dataset proportions, but also to visualize the ratios in cluster representation between groups. Seaborn's [`countplot()`](https://seaborn.pydata.org/generated/seaborn.countplot.html) or [`barplot()`](https://seaborn.pydata.org/generated/seaborn.barplot.html) function could be handy.\n",
    "  - Recall the analysis you performed in step 1.1.3 of the project, where you separated out certain data points from the dataset if they had more than a specified threshold of missing values. If you found that this group was qualitatively different from the main bulk of the data, you should treat this as an additional data cluster in this analysis. Make sure that you account for the number of data points in this subset, for both the general population and customer datasets, when making your computations!\n",
    "- Which cluster or clusters are overrepresented in the customer dataset compared to the general population? Select at least one such cluster and infer what kind of people might be represented by that cluster. Use the principal component interpretations from step 2.3 or look at additional components to help you make this inference. Alternatively, you can use the `.inverse_transform()` method of the PCA and StandardScaler objects to transform centroids back to the original data space and interpret the retrieved values directly.\n",
    "- Perform a similar investigation for the underrepresented clusters. Which cluster or clusters are underrepresented in the customer dataset compared to the general population, and what kinds of people are typified by these clusters?"
   ]
  },
  {
   "cell_type": "code",
   "execution_count": 80,
   "metadata": {},
   "outputs": [
    {
     "data": {
      "text/plain": [
       "((50012, 79), (93795, 79))"
      ]
     },
     "execution_count": 80,
     "metadata": {},
     "output_type": "execute_result"
    }
   ],
   "source": [
    "customers_m.shape,azdias_m.shape"
   ]
  },
  {
   "cell_type": "code",
   "execution_count": 81,
   "metadata": {},
   "outputs": [],
   "source": [
    "# comvert customer/general set records with more than 20 NaNs into a new cluster: 10  \n",
    "cus_m20=np.repeat(10,customers_m.shape[0])\n",
    "gen_m20=np.repeat(10,azdias_m.shape[0])\n",
    "# append to original clustered array\n",
    "cus_full=np.append(cus_m20, customers_pre)\n",
    "gen_full=np.append(gen_m20, predictions)"
   ]
  },
  {
   "cell_type": "code",
   "execution_count": 82,
   "metadata": {},
   "outputs": [],
   "source": [
    "# function to get proportion and counts\n",
    "def prep(clusterarray):\n",
    "    clusterdf=pd.DataFrame(clusterarray)\n",
    "    clusterdf=pd.get_dummies(clusterdf[0])\n",
    "    # proportion distribution\n",
    "    clusterdf_por=100*clusterdf.describe().loc['mean',:]\n",
    "    clusterdf_por.index=clusterdf_por.index.astype(str)\n",
    "\n",
    "    # count distribution\n",
    "    clusterdf_count=clusterdf.sum()\n",
    "    clusterdf_count.index=clusterdf_count.index.astype(str)\n",
    "\n",
    "    return clusterdf_por, clusterdf_count"
   ]
  },
  {
   "cell_type": "code",
   "execution_count": 83,
   "metadata": {
    "scrolled": false
   },
   "outputs": [],
   "source": [
    "# Compare the proportion of data in each cluster for the customer data to the\n",
    "# proportion of data in each cluster for the general population.\n",
    "\n",
    "# function for plot both with and without Nans> 20 records\n",
    "def plotfuc(cus_full,gen_full):\n",
    "    # data prep\n",
    "    customer_cluster_por, customer_cluster_count=prep(cus_full)\n",
    "    gen_cluster_por, gen_cluster_count=prep(gen_full)\n",
    "    \n",
    "    \n",
    "    plt.figure(figsize=(20,6))\n",
    "    sns.countplot(cus_full,color='c',alpha=.5,label='customers')\n",
    "    locs,labels=plt.xticks()\n",
    "\n",
    "    # customer_cluster proportion text display\n",
    "    for cusloc, cuslabel in zip(locs,labels):\n",
    "        text_height= customer_cluster_count[cuslabel.get_text()]\n",
    "        text= round(customer_cluster_por[cuslabel.get_text()],1)\n",
    "        plt.text(x=cusloc,y =text_height, s=text, ha ='center')\n",
    "\n",
    "    # general_cluster proportion text display\n",
    "    sns.countplot(gen_full, color= 'y',alpha=.5, label='general')\n",
    "    for genloc, genlabel in zip(locs,labels):\n",
    "        text_height= gen_cluster_count[genlabel.get_text()]\n",
    "        text= round(gen_cluster_por[genlabel.get_text()],1)\n",
    "        plt.text(x=genloc,y =text_height, s=text, ha ='center')\n",
    "\n",
    "    plt.xticks(locs,['#NaN>20' if i ==10 else i for i in locs])\n",
    "    plt.legend(loc=0)\n",
    "    plt.xlabel('clusters')\n",
    "    if cus_full.shape[0]==191652 and gen_full.shape[0]==891221:\n",
    "        plt.title('customers cluster vs general population cluster (full set)')\n",
    "    else:\n",
    "        plt.title('customers cluster vs general population cluster (<20 NaNs set)')\n",
    "    plt.show();"
   ]
  },
  {
   "cell_type": "code",
   "execution_count": 84,
   "metadata": {
    "scrolled": true
   },
   "outputs": [
    {
     "data": {
      "image/png": "[encoded data removed]",
      "text/plain": [
       "<Figure size 1440x432 with 1 Axes>"
      ]
     },
     "metadata": {
      "needs_background": "light"
     },
     "output_type": "display_data"
    }
   ],
   "source": [
    "plotfuc(cus_full,gen_full)"
   ]
  },
  {
   "cell_type": "code",
   "execution_count": 85,
   "metadata": {
    "scrolled": false
   },
   "outputs": [
    {
     "data": {
      "image/png": "[encoded data removed]",
      "text/plain": [
       "<Figure size 1440x432 with 1 Axes>"
      ]
     },
     "metadata": {
      "needs_background": "light"
     },
     "output_type": "display_data"
    }
   ],
   "source": [
    "plotfuc(customers_pre,predictions)"
   ]
  },
  {
   "cell_type": "markdown",
   "metadata": {},
   "source": [
    "> proportion difference of customer_cluster over/under represented by gen_cluster. Calculated as:\n",
    "\n",
    "$$customer\\_cluster\\_proportion - gen\\_cluster\\_proportion$$"
   ]
  },
  {
   "cell_type": "code",
   "execution_count": 86,
   "metadata": {},
   "outputs": [],
   "source": [
    "# get proportion difference\n",
    "customer_cluster_por, customer_cluster_count=prep(customers_pre)\n",
    "gen_cluster_por, gen_cluster_count=prep(predictions)\n",
    "overrepresented=customer_cluster_por-gen_cluster_por"
   ]
  },
  {
   "cell_type": "code",
   "execution_count": 87,
   "metadata": {
    "scrolled": false
   },
   "outputs": [
    {
     "data": {
      "image/png": "[encoded data removed]",
      "text/plain": [
       "<Figure size 720x360 with 1 Axes>"
      ]
     },
     "metadata": {
      "needs_background": "light"
     },
     "output_type": "display_data"
    }
   ],
   "source": [
    "color=['red' if i == max(overrepresented.values) or i == min(overrepresented.values) else 'grey' for i in overrepresented.values]\n",
    "plt.figure(figsize=(10,5))\n",
    "sns.barplot(overrepresented.index,overrepresented.values, palette = color)\n",
    "plt.title('customer_cluster over/under represented by gen_cluster')\n",
    "plt.xlabel('cluster')\n",
    "plt.ylabel('proportion difference');"
   ]
  },
  {
   "cell_type": "markdown",
   "metadata": {},
   "source": [
    "> investigate cluster 3 and 8 "
   ]
  },
  {
   "cell_type": "code",
   "execution_count": 97,
   "metadata": {
    "scrolled": true
   },
   "outputs": [],
   "source": [
    "# inverse transformation of centroid coordinates\n",
    "inversed=scaler_impute.inverse_transform(pca91.inverse_transform(kmeans_10.cluster_centers_))\n",
    "# convert it into df\n",
    "inverseddf=pd.DataFrame(inversed,columns=list(azdias_l))"
   ]
  },
  {
   "cell_type": "code",
   "execution_count": 98,
   "metadata": {
    "scrolled": false
   },
   "outputs": [
    {
     "data": {
      "text/html": [
       "<div>\n",
       "<style scoped>\n",
       "    .dataframe tbody tr th:only-of-type {\n",
       "        vertical-align: middle;\n",
       "    }\n",
       "\n",
       "    .dataframe tbody tr th {\n",
       "        vertical-align: top;\n",
       "    }\n",
       "\n",
       "    .dataframe thead th {\n",
       "        text-align: right;\n",
       "    }\n",
       "</style>\n",
       "<table border=\"1\" class=\"dataframe\">\n",
       "  <thead>\n",
       "    <tr style=\"text-align: right;\">\n",
       "      <th></th>\n",
       "      <th>ALTERSKATEGORIE_GROB</th>\n",
       "      <th>FINANZ_MINIMALIST</th>\n",
       "      <th>FINANZ_SPARER</th>\n",
       "      <th>FINANZ_VORSORGER</th>\n",
       "      <th>FINANZ_ANLEGER</th>\n",
       "      <th>FINANZ_UNAUFFAELLIGER</th>\n",
       "      <th>FINANZ_HAUSBAUER</th>\n",
       "      <th>GREEN_AVANTGARDE</th>\n",
       "      <th>HEALTH_TYP</th>\n",
       "      <th>RETOURTYP_BK_S</th>\n",
       "      <th>...</th>\n",
       "      <th>CAMEO_DEU_2015_8D</th>\n",
       "      <th>CAMEO_DEU_2015_9A</th>\n",
       "      <th>CAMEO_DEU_2015_9B</th>\n",
       "      <th>CAMEO_DEU_2015_9C</th>\n",
       "      <th>CAMEO_DEU_2015_9D</th>\n",
       "      <th>CAMEO_DEU_2015_9E</th>\n",
       "      <th>PRAEGENDE_JUGENDJAHRE_decade</th>\n",
       "      <th>PRAEGENDE_JUGENDJAHRE_movement</th>\n",
       "      <th>CAMEO_INTL_2015_wealth</th>\n",
       "      <th>CAMEO_INTL_2015_stage</th>\n",
       "    </tr>\n",
       "  </thead>\n",
       "  <tbody>\n",
       "    <tr>\n",
       "      <th>3</th>\n",
       "      <td>3.211116</td>\n",
       "      <td>4.519672</td>\n",
       "      <td>1.809479</td>\n",
       "      <td>4.024774</td>\n",
       "      <td>1.944580</td>\n",
       "      <td>2.278332</td>\n",
       "      <td>2.014302</td>\n",
       "      <td>1.002030</td>\n",
       "      <td>2.104879</td>\n",
       "      <td>3.587829</td>\n",
       "      <td>...</td>\n",
       "      <td>0.004622</td>\n",
       "      <td>0.003556</td>\n",
       "      <td>-0.001414</td>\n",
       "      <td>0.003812</td>\n",
       "      <td>0.004880</td>\n",
       "      <td>0.000608</td>\n",
       "      <td>67.661445</td>\n",
       "      <td>-0.001511</td>\n",
       "      <td>2.006354</td>\n",
       "      <td>3.625864</td>\n",
       "    </tr>\n",
       "    <tr>\n",
       "      <th>8</th>\n",
       "      <td>1.830337</td>\n",
       "      <td>1.143865</td>\n",
       "      <td>4.397722</td>\n",
       "      <td>2.258680</td>\n",
       "      <td>4.334341</td>\n",
       "      <td>3.789114</td>\n",
       "      <td>4.297180</td>\n",
       "      <td>0.046457</td>\n",
       "      <td>2.231461</td>\n",
       "      <td>2.602001</td>\n",
       "      <td>...</td>\n",
       "      <td>0.029062</td>\n",
       "      <td>0.066696</td>\n",
       "      <td>0.070069</td>\n",
       "      <td>0.062291</td>\n",
       "      <td>0.080284</td>\n",
       "      <td>0.003886</td>\n",
       "      <td>85.504941</td>\n",
       "      <td>0.932104</td>\n",
       "      <td>4.214636</td>\n",
       "      <td>2.181021</td>\n",
       "    </tr>\n",
       "  </tbody>\n",
       "</table>\n",
       "<p>2 rows × 189 columns</p>\n",
       "</div>"
      ],
      "text/plain": [
       "   ALTERSKATEGORIE_GROB  FINANZ_MINIMALIST  FINANZ_SPARER  FINANZ_VORSORGER  \\\n",
       "3              3.211116           4.519672       1.809479          4.024774   \n",
       "8              1.830337           1.143865       4.397722          2.258680   \n",
       "\n",
       "   FINANZ_ANLEGER  FINANZ_UNAUFFAELLIGER  FINANZ_HAUSBAUER  GREEN_AVANTGARDE  \\\n",
       "3        1.944580               2.278332          2.014302          1.002030   \n",
       "8        4.334341               3.789114          4.297180          0.046457   \n",
       "\n",
       "   HEALTH_TYP  RETOURTYP_BK_S  ...  CAMEO_DEU_2015_8D  CAMEO_DEU_2015_9A  \\\n",
       "3    2.104879        3.587829  ...           0.004622           0.003556   \n",
       "8    2.231461        2.602001  ...           0.029062           0.066696   \n",
       "\n",
       "   CAMEO_DEU_2015_9B  CAMEO_DEU_2015_9C  CAMEO_DEU_2015_9D  CAMEO_DEU_2015_9E  \\\n",
       "3          -0.001414           0.003812           0.004880           0.000608   \n",
       "8           0.070069           0.062291           0.080284           0.003886   \n",
       "\n",
       "   PRAEGENDE_JUGENDJAHRE_decade  PRAEGENDE_JUGENDJAHRE_movement  \\\n",
       "3                     67.661445                       -0.001511   \n",
       "8                     85.504941                        0.932104   \n",
       "\n",
       "   CAMEO_INTL_2015_wealth  CAMEO_INTL_2015_stage  \n",
       "3                2.006354               3.625864  \n",
       "8                4.214636               2.181021  \n",
       "\n",
       "[2 rows x 189 columns]"
      ]
     },
     "execution_count": 98,
     "metadata": {},
     "output_type": "execute_result"
    }
   ],
   "source": [
    "inverseddf.loc[[3,8]]"
   ]
  },
  {
   "cell_type": "markdown",
   "metadata": {},
   "source": [
    "> Since cluster 3 overrepresented and cluster 8 underrepresented customers, find characteristics' differences between these two clusters will give us most insight of what kind of person is more or less likely to become a customer."
   ]
  },
  {
   "cell_type": "code",
   "execution_count": 99,
   "metadata": {
    "scrolled": true
   },
   "outputs": [
    {
     "data": {
      "text/plain": [
       "ALTERSKATEGORIE_GROB               1.380779\n",
       "FINANZ_MINIMALIST                  3.375807\n",
       "FINANZ_SPARER                     -2.588243\n",
       "FINANZ_VORSORGER                   1.766094\n",
       "FINANZ_ANLEGER                    -2.389761\n",
       "                                    ...    \n",
       "CAMEO_DEU_2015_9E                 -0.003278\n",
       "PRAEGENDE_JUGENDJAHRE_decade     -17.843496\n",
       "PRAEGENDE_JUGENDJAHRE_movement    -0.933614\n",
       "CAMEO_INTL_2015_wealth            -2.208282\n",
       "CAMEO_INTL_2015_stage              1.444844\n",
       "Length: 189, dtype: float64"
      ]
     },
     "execution_count": 99,
     "metadata": {},
     "output_type": "execute_result"
    }
   ],
   "source": [
    "# get feature difference between overrepresented and underrepresented\n",
    "# cluster centroids\n",
    "diff= inverseddf.loc[3]-inverseddf.loc[8]\n",
    "diff"
   ]
  },
  {
   "cell_type": "code",
   "execution_count": 110,
   "metadata": {
    "scrolled": true
   },
   "outputs": [],
   "source": [
    "# create a sorted list\n",
    "difflist=[diff.index[i]+':'+ diff.values[i].astype(str) for i in np.argsort(diff)]\n",
    "#difflist"
   ]
  },
  {
   "cell_type": "code",
   "execution_count": 101,
   "metadata": {},
   "outputs": [
    {
     "name": "stdout",
     "output_type": "stream",
     "text": [
      "Top 3 characteristics that people are more likely to be a customer are:\n",
      "\n",
      " KBA13_ANZAHL_PKW:138.59082167269503\n",
      "\n",
      " FINANZ_MINIMALIST:3.375807291501999\n",
      "\n",
      " SEMIO_VERT:2.4625848727462447\n"
     ]
    }
   ],
   "source": [
    "# What kinds of people are part of a cluster that is overrepresented in the\n",
    "# customer data compared to the general population?\n",
    "print('Top 3 characteristics that people are more likely to be a customer are:')\n",
    "for i in np.flip(range(-3,0)):\n",
    "    print('\\n',difflist[i])"
   ]
  },
  {
   "cell_type": "code",
   "execution_count": 102,
   "metadata": {},
   "outputs": [
    {
     "name": "stdout",
     "output_type": "stream",
     "text": [
      "Top 3 characteristics that people are less likely to be a customer are:\n",
      "\n",
      " PRAEGENDE_JUGENDJAHRE_decade:-17.843495758711228\n",
      "\n",
      " ANZ_HAUSHALTE_AKTIV:-12.277075424326306\n",
      "\n",
      " HH_EINKOMMEN_SCORE:-3.2073500792814666\n"
     ]
    }
   ],
   "source": [
    "# What kinds of people are part of a cluster that is underrepresented in the\n",
    "# customer data compared to the general population?\n",
    "# print out results\n",
    "print('Top 3 characteristics that people are less likely to be a customer are:')\n",
    "for i in range(0,3):\n",
    "    print('\\n',difflist[i])"
   ]
  },
  {
   "cell_type": "code",
   "execution_count": 103,
   "metadata": {},
   "outputs": [
    {
     "data": {
      "text/plain": [
       "85.5049405324956"
      ]
     },
     "execution_count": 103,
     "metadata": {},
     "output_type": "execute_result"
    }
   ],
   "source": [
    "# Dominating movement of person's youth--late 80s\n",
    "inverseddf.loc[8,'PRAEGENDE_JUGENDJAHRE_decade']"
   ]
  },
  {
   "cell_type": "code",
   "execution_count": 104,
   "metadata": {},
   "outputs": [
    {
     "data": {
      "text/plain": [
       "13.984614855361615"
      ]
     },
     "execution_count": 104,
     "metadata": {},
     "output_type": "execute_result"
    }
   ],
   "source": [
    "# Number of households in the building\n",
    "inverseddf.loc[8,'ANZ_HAUSHALTE_AKTIV']"
   ]
  },
  {
   "cell_type": "code",
   "execution_count": 105,
   "metadata": {},
   "outputs": [
    {
     "data": {
      "text/plain": [
       "5.56188869330719"
      ]
     },
     "execution_count": 105,
     "metadata": {},
     "output_type": "execute_result"
    }
   ],
   "source": [
    "# Estimated household net income\n",
    "inverseddf.loc[8,'HH_EINKOMMEN_SCORE']"
   ]
  },
  {
   "cell_type": "markdown",
   "metadata": {},
   "source": [
    "### Discussion 3.3: Compare Customer Data to Demographics Data\n",
    "\n",
    "A comparison between two plots (with or without records Nan volume >20) suggests the rest of clusters proportion distribution trend are very similar, which mean those records won’t effect our interpretation. In addition of that, records with too many missing values will not represent cohorts appropriately, therefor we can just use the cleaned data sets without records contain more than 20 Nans for both customer and general data set.\n",
    "\n",
    "I used a simple equation to pick out proportion difference of customer_cluster over or under represented by gen_cluster. Calculated as:\n",
    "\n",
    "$$customer\\_cluster\\_proportion - gen\\_cluster\\_proportion$$\n",
    "\n",
    "The positive red bars indicate customer proportion greater than general proportion, which suggests overrepresented. Vice versa.\n",
    "\n",
    "Since cluster 3 overrepresented and cluster 8 underrepresented customers, find characteristics' differences between these two clusters will give us most insight of what kind of person is more or less likely to become a customer. We have the results:\n",
    "\n",
    "> Top 3 characteristics that people are more likely to be a customer are:\n",
    "1. KBA13_ANZAHL_PKW:138.59082167269503\n",
    "  - (Number of cars in the PLZ8 region)\n",
    "2. FINANZ_MINIMALIST:3.375807291501999\n",
    "  - (MINIMALIST: low financial interest--average)\n",
    "3. SEMIO_VERT:2.4625848727462447\n",
    "  - (VERT: dreamful--very high affinity)\n",
    "\n",
    "> Top 3 characteristics that people are less likely to be a customer are:\n",
    "1. PRAEGENDE_JUGENDJAHRE_decade:-17.843495758711228\n",
    " - (Dominating movement of person's youth--late 80s)\n",
    "2. ANZ_HAUSHALTE_AKTIV:-12.277075424326306\n",
    " - (Number of households in the building--14.0)\n",
    "3. HH_EINKOMMEN_SCORE:-3.2073500792814666\n",
    " - (Estimated household net income--low to very low)\n",
    " \n",
    "We can start to see a clear and reasonable trend here: \n",
    "> People are more likely to be a customer:\n",
    "1. live in a region have lots of cars, might be a sign of nice neighborhoods.\n",
    "2. low financial interest, rated average to low, indicates debt free\n",
    "3. Very dreamful\n",
    "\n",
    "**Sum up: young people who is wealthy enough or live with a decent wealthy family**\n",
    "\n",
    "> people are less likely to be a customer:\n",
    "1. Was born in late 80s\n",
    "2. Crowed building with lots of households, might be a sign of low-income neighborhoods\n",
    "3. Estimated household net income--low to very low\n",
    "\n",
    "**Sum up: all of above indicate people who are elder and/or have low income.**"
   ]
  },
  {
   "cell_type": "markdown",
   "metadata": {},
   "source": [
    "> Congratulations on making it this far in the project! Before you finish, make sure to check through the entire notebook from top to bottom to make sure that your analysis follows a logical flow and all of your findings are documented in **Discussion** cells. Once you've checked over all of your work, you should export the notebook as an HTML document to submit for evaluation. You can do this from the menu, navigating to **File -> Download as -> HTML (.html)**. You will submit both that document and this notebook for your project submission."
   ]
  },
  {
   "cell_type": "code",
   "execution_count": null,
   "metadata": {},
   "outputs": [],
   "source": []
  }
 ],
 "metadata": {
  "kernelspec": {
   "display_name": "Python 3",
   "language": "python",
   "name": "python3"
  },
  "language_info": {
   "codemirror_mode": {
    "name": "ipython",
    "version": 3
   },
   "file_extension": ".py",
   "mimetype": "text/x-python",
   "name": "python",
   "nbconvert_exporter": "python",
   "pygments_lexer": "ipython3",
   "version": "3.7.7"
  }
 },
 "nbformat": 4,
 "nbformat_minor": 2
}
